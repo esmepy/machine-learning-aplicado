{
 "cells": [
  {
   "cell_type": "markdown",
   "source": [
    "# Curso de Machine Learning Aplicado con scikit-learn\r\n",
    "\r\n",
    "---\r\n",
    "*Juan Pablo Morales, CTO and Founder, Arara*\r\n",
    "\r\n",
    "<img src=\"img/platzi_logo.png\" align=\"right\">"
   ],
   "metadata": {
    "slideshow": {
     "slide_type": "slide"
    }
   }
  },
  {
   "cell_type": "markdown",
   "source": [
    "## Por qué es tan importante definir el problema?"
   ],
   "metadata": {
    "slideshow": {
     "slide_type": "slide"
    }
   }
  },
  {
   "cell_type": "markdown",
   "source": [
    "Errores comúnes:\n",
    "- _No tienes problemas por resolver_\n",
    "- _Existian soluciones más simples_\n",
    "- _No puedes medir el impacto de tu modelo_\n",
    "- _No sabes si el problema ya ha sido resuelto_\n",
    "- _El problema era imposible de resolver_\n",
    "\n",
    "-> Definir **UN PROBLEMA REAL** de tu empresa o aplicación, de forma clara y precisa, para saber si corresponde atacarlo con Machine Learning"
   ],
   "metadata": {
    "slideshow": {
     "slide_type": "slide"
    }
   }
  },
  {
   "cell_type": "markdown",
   "source": [
    "## Preguntas clave por responder"
   ],
   "metadata": {
    "slideshow": {
     "slide_type": "slide"
    }
   }
  },
  {
   "cell_type": "markdown",
   "source": [
    "#### Reconoce el tipo de aprendizaje que necesitas\r\n",
    "\r\n",
    "1. Qué beneficio piensas generar y para quién?\r\n",
    "\r\n",
    "2. Cuál de los siguientes funcionalidades te sería más útil para lograr ese objetivo:\r\n",
    "      1. Predecir alguna métrica                 \r\n",
    "      2. Predecir una etiqueta                   \r\n",
    "      3. Agrupar elementos similares             \r\n",
    "      4. Optimizar un proceso con prueba y error \r\n",
    "  \r\n",
    "Los dos primeros corresponden a **Aprendizaje supervisado**. Nos enfocaremos en este ya que es el que está teniendo más impacto en la industria (cf. Andrew NG)."
   ],
   "metadata": {
    "slideshow": {
     "slide_type": "slide"
    }
   }
  },
  {
   "cell_type": "markdown",
   "source": [
    "#### Aterriza tu problema de aprendizaje supervisado\r\n",
    "\r\n",
    "1. Lo que quieres predecir es un valor de qué tipo?\r\n",
    "      1. Continuo \r\n",
    "      2. Discreto \r\n",
    "2. Cuál es tu definición de éxito de una predicción?\r\n",
    "3. Con qué datos contarías para hacer esta predicción?\r\n",
    "4. La pregunta que estás tratando de resolver pertenece a alguna disciplina en particular?\r\n",
    "5. Considerando tu intuición en la disciplina, crees que los datos te permitan predecir tu objetivo?"
   ],
   "metadata": {
    "slideshow": {
     "slide_type": "slide"
    }
   }
  }
 ],
 "metadata": {
  "celltoolbar": "Slideshow",
  "kernelspec": {
   "display_name": "Python 3",
   "language": "python",
   "name": "python3"
  },
  "language_info": {
   "codemirror_mode": {
    "name": "ipython",
    "version": 3
   },
   "file_extension": ".py",
   "mimetype": "text/x-python",
   "name": "python",
   "nbconvert_exporter": "python",
   "pygments_lexer": "ipython3",
   "version": "3.6.0"
  },
  "latex_envs": {
   "LaTeX_envs_menu_present": true,
   "autocomplete": true,
   "bibliofile": "biblio.bib",
   "cite_by": "apalike",
   "current_citInitial": 1,
   "eqLabelWithNumbers": true,
   "eqNumInitial": 1,
   "hotkeys": {
    "equation": "Ctrl-E",
    "itemize": "Ctrl-I"
   },
   "labels_anchors": false,
   "latex_user_defs": false,
   "report_style_numbering": false,
   "user_envs_cfg": false
  }
 },
 "nbformat": 4,
 "nbformat_minor": 2
}