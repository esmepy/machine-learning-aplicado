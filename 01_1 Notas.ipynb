{
    "cells": [
        {
            "cell_type": "markdown",
            "source": [
                "Machine Learning\r\n",
                "\r\n",
                "Es una disciplina científica del ámbito de la Inteligencia Artificial que crea sistemas que aprenden automáticamente. Aprender en este contexto quiere decir identificar patrones complejos en millones de datos. La máquina que realmente aprende es un algoritmo que revisa los datos y es capaz de predecir comportamientos futuros. Automáticamente, también en este contexto, implica que estos sistemas se mejoran de forma autónoma con el tiempo, sin intervención humana.\r\n",
                "\r\n",
                "\r\n",
                "Ámbitos de aplicación del Machine Learning\r\n",
                "\r\n",
                "Muchas actividades actualmente ya se están aprovechando del Machine Learning. Sectores como el de las compras online – ¿no te has preguntado alguna vez cómo se decide instantáneamente los productos recomendados para cada cliente al final de un proceso de compra? –, el online advertising – dónde poner un anuncio para que tenga más visibilidad en función del usuario que visita la web – o los filtros anti-spam llevan tiempo sacando partido a estas tecnologías.\r\n",
                "\r\n",
                "El campo de aplicación práctica depende de la imaginación y de los datos que estén disponibles en la empresa. Estos son algunos ejemplos más:\r\n",
                "\r\n",
                "    Detectar fraude en transacciones.\r\n",
                "\r\n",
                "    Predecir de fallos en equipos tecnológicos.\r\n",
                "\r\n",
                "    Prever qué empleados serán más rentables el año que viene (el sector de los Recursos Humanos está apostando seriamente por el Machine Learning).\r\n",
                "\r\n",
                "    Seleccionar clientes potenciales basándose en comportamientos en las redes sociales, interacciones en la web…\r\n",
                "\r\n",
                "    Predecir el tráfico urbano.\r\n",
                "\r\n",
                "    Saber cuál es el mejor momento para publicar tuits, actualizaciones de Facebook o enviar las newsletter.\r\n",
                "\r\n",
                "    Hacer prediagnósticos médicos basados en síntomas del paciente.\r\n",
                "\r\n",
                "    Cambiar el comportamiento de una app móvil para adaptarse a las costumbres y necesidades de cada usuario.\r\n",
                "\r\n",
                "    Detectar intrusiones en una red de comunicaciones de datos.\r\n",
                "\r\n",
                "    Decidir cuál es la mejor hora para llamar a un cliente.\r\n"
            ],
            "metadata": {}
        },
        {
            "cell_type": "code",
            "execution_count": null,
            "source": [],
            "outputs": [],
            "metadata": {}
        }
    ],
    "metadata": {
        "orig_nbformat": 4,
        "language_info": {
            "name": "python"
        }
    },
    "nbformat": 4,
    "nbformat_minor": 2
}