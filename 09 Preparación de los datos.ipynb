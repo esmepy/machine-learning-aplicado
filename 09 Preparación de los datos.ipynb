{
 "cells": [
  {
   "cell_type": "markdown",
   "source": [
    "# 11.- Cargar datos necesarios"
   ],
   "metadata": {}
  },
  {
   "cell_type": "code",
   "execution_count": 1,
   "source": [
    "# Importamos las librerias\r\n",
    "import numpy as np\r\n",
    "import pandas as pd\r\n",
    "import matplotlib.pyplot as plt\r\n",
    "#import seaborn as sb"
   ],
   "outputs": [],
   "metadata": {}
  },
  {
   "cell_type": "code",
   "execution_count": 2,
   "source": [
    "# Esta linea permite que los graficos sean renderizados \r\n",
    "# directamente en nuestro Notebook\r\n",
    "#\r\n",
    "%matplotlib inline"
   ],
   "outputs": [],
   "metadata": {}
  },
  {
   "cell_type": "markdown",
   "source": [
    "## Carguemos en un pandas dataframe nuestra base de datos"
   ],
   "metadata": {
    "slideshow": {
     "slide_type": "slide"
    }
   }
  },
  {
   "cell_type": "markdown",
   "source": [
    "`pd.read_csv`es el metodo que nos permite importar los datos desde un CSV y cargarlo en un **DataFrame**, que es la estructura de base de Pandas\r\n"
   ],
   "metadata": {
    "slideshow": {
     "slide_type": "slide"
    }
   }
  },
  {
   "cell_type": "code",
   "execution_count": 3,
   "source": [
    "movies = pd.read_csv('https://github.com/JuanPabloMF/datasets-platzi-course/blob/master/datasets/peliculas.csv?raw=true',encoding='utf-8')\r\n",
    "\r\n",
    "type(movies)"
   ],
   "outputs": [
    {
     "output_type": "execute_result",
     "data": {
      "text/plain": [
       "pandas.core.frame.DataFrame"
      ]
     },
     "metadata": {},
     "execution_count": 3
    }
   ],
   "metadata": {}
  },
  {
   "cell_type": "code",
   "execution_count": 3,
   "source": [
    "movies = pd.read_csv('../vol/datasets/peliculas.csv',encoding='utf-8')"
   ],
   "outputs": [],
   "metadata": {}
  },
  {
   "cell_type": "code",
   "execution_count": 4,
   "source": [
    "type(movies)"
   ],
   "outputs": [
    {
     "output_type": "execute_result",
     "data": {
      "text/plain": [
       "pandas.core.frame.DataFrame"
      ]
     },
     "metadata": {},
     "execution_count": 4
    }
   ],
   "metadata": {}
  },
  {
   "cell_type": "code",
   "execution_count": 5,
   "source": [
    "#cada feature es una columna\r\n",
    "#cada fila es una columna\r\n",
    "movies.head(4)"
   ],
   "outputs": [
    {
     "output_type": "execute_result",
     "data": {
      "text/html": [
       "<div>\n",
       "<style scoped>\n",
       "    .dataframe tbody tr th:only-of-type {\n",
       "        vertical-align: middle;\n",
       "    }\n",
       "\n",
       "    .dataframe tbody tr th {\n",
       "        vertical-align: top;\n",
       "    }\n",
       "\n",
       "    .dataframe thead th {\n",
       "        text-align: right;\n",
       "    }\n",
       "</style>\n",
       "<table border=\"1\" class=\"dataframe\">\n",
       "  <thead>\n",
       "    <tr style=\"text-align: right;\">\n",
       "      <th></th>\n",
       "      <th>movie_title</th>\n",
       "      <th>title_year</th>\n",
       "      <th>color</th>\n",
       "      <th>aspect_ratio</th>\n",
       "      <th>duration</th>\n",
       "      <th>language</th>\n",
       "      <th>country</th>\n",
       "      <th>duration.1</th>\n",
       "      <th>genres</th>\n",
       "      <th>content_rating</th>\n",
       "      <th>plot_keywords</th>\n",
       "      <th>director_name</th>\n",
       "      <th>actor_1_name</th>\n",
       "      <th>actor_2_name</th>\n",
       "      <th>actor_3_name</th>\n",
       "      <th>cast_total_facebook_likes</th>\n",
       "      <th>budget</th>\n",
       "      <th>imdb_score</th>\n",
       "      <th>gross</th>\n",
       "    </tr>\n",
       "  </thead>\n",
       "  <tbody>\n",
       "    <tr>\n",
       "      <th>0</th>\n",
       "      <td>Avatar</td>\n",
       "      <td>2009.0</td>\n",
       "      <td>Color</td>\n",
       "      <td>1.78</td>\n",
       "      <td>178.0</td>\n",
       "      <td>English</td>\n",
       "      <td>USA</td>\n",
       "      <td>178.0</td>\n",
       "      <td>Action|Adventure|Fantasy|Sci-Fi</td>\n",
       "      <td>PG-13</td>\n",
       "      <td>avatar|future|marine|native|paraplegic</td>\n",
       "      <td>James Cameron</td>\n",
       "      <td>CCH Pounder</td>\n",
       "      <td>Joel David Moore</td>\n",
       "      <td>Wes Studi</td>\n",
       "      <td>4834</td>\n",
       "      <td>237000000.0</td>\n",
       "      <td>7.9</td>\n",
       "      <td>760505847.0</td>\n",
       "    </tr>\n",
       "    <tr>\n",
       "      <th>1</th>\n",
       "      <td>Pirates of the Caribbean: At World's End</td>\n",
       "      <td>2007.0</td>\n",
       "      <td>Color</td>\n",
       "      <td>2.35</td>\n",
       "      <td>169.0</td>\n",
       "      <td>English</td>\n",
       "      <td>USA</td>\n",
       "      <td>169.0</td>\n",
       "      <td>Action|Adventure|Fantasy</td>\n",
       "      <td>PG-13</td>\n",
       "      <td>goddess|marriage ceremony|marriage proposal|pi...</td>\n",
       "      <td>Gore Verbinski</td>\n",
       "      <td>Johnny Depp</td>\n",
       "      <td>Orlando Bloom</td>\n",
       "      <td>Jack Davenport</td>\n",
       "      <td>48350</td>\n",
       "      <td>300000000.0</td>\n",
       "      <td>7.1</td>\n",
       "      <td>309404152.0</td>\n",
       "    </tr>\n",
       "    <tr>\n",
       "      <th>2</th>\n",
       "      <td>Spectre</td>\n",
       "      <td>2015.0</td>\n",
       "      <td>Color</td>\n",
       "      <td>2.35</td>\n",
       "      <td>148.0</td>\n",
       "      <td>English</td>\n",
       "      <td>UK</td>\n",
       "      <td>148.0</td>\n",
       "      <td>Action|Adventure|Thriller</td>\n",
       "      <td>PG-13</td>\n",
       "      <td>bomb|espionage|sequel|spy|terrorist</td>\n",
       "      <td>Sam Mendes</td>\n",
       "      <td>Christoph Waltz</td>\n",
       "      <td>Rory Kinnear</td>\n",
       "      <td>Stephanie Sigman</td>\n",
       "      <td>11700</td>\n",
       "      <td>245000000.0</td>\n",
       "      <td>6.8</td>\n",
       "      <td>200074175.0</td>\n",
       "    </tr>\n",
       "    <tr>\n",
       "      <th>3</th>\n",
       "      <td>The Dark Knight Rises</td>\n",
       "      <td>2012.0</td>\n",
       "      <td>Color</td>\n",
       "      <td>2.35</td>\n",
       "      <td>164.0</td>\n",
       "      <td>English</td>\n",
       "      <td>USA</td>\n",
       "      <td>164.0</td>\n",
       "      <td>Action|Thriller</td>\n",
       "      <td>PG-13</td>\n",
       "      <td>deception|imprisonment|lawlessness|police offi...</td>\n",
       "      <td>Christopher Nolan</td>\n",
       "      <td>Tom Hardy</td>\n",
       "      <td>Christian Bale</td>\n",
       "      <td>Joseph Gordon-Levitt</td>\n",
       "      <td>106759</td>\n",
       "      <td>250000000.0</td>\n",
       "      <td>8.5</td>\n",
       "      <td>448130642.0</td>\n",
       "    </tr>\n",
       "  </tbody>\n",
       "</table>\n",
       "</div>"
      ],
      "text/plain": [
       "                                 movie_title  title_year  color  aspect_ratio  \\\n",
       "0                                    Avatar       2009.0  Color          1.78   \n",
       "1  Pirates of the Caribbean: At World's End       2007.0  Color          2.35   \n",
       "2                                   Spectre       2015.0  Color          2.35   \n",
       "3                     The Dark Knight Rises       2012.0  Color          2.35   \n",
       "\n",
       "   duration language country  duration.1                           genres  \\\n",
       "0     178.0  English     USA       178.0  Action|Adventure|Fantasy|Sci-Fi   \n",
       "1     169.0  English     USA       169.0         Action|Adventure|Fantasy   \n",
       "2     148.0  English      UK       148.0        Action|Adventure|Thriller   \n",
       "3     164.0  English     USA       164.0                  Action|Thriller   \n",
       "\n",
       "  content_rating                                      plot_keywords  \\\n",
       "0          PG-13             avatar|future|marine|native|paraplegic   \n",
       "1          PG-13  goddess|marriage ceremony|marriage proposal|pi...   \n",
       "2          PG-13                bomb|espionage|sequel|spy|terrorist   \n",
       "3          PG-13  deception|imprisonment|lawlessness|police offi...   \n",
       "\n",
       "       director_name     actor_1_name      actor_2_name          actor_3_name  \\\n",
       "0      James Cameron      CCH Pounder  Joel David Moore             Wes Studi   \n",
       "1     Gore Verbinski      Johnny Depp     Orlando Bloom        Jack Davenport   \n",
       "2         Sam Mendes  Christoph Waltz      Rory Kinnear      Stephanie Sigman   \n",
       "3  Christopher Nolan        Tom Hardy    Christian Bale  Joseph Gordon-Levitt   \n",
       "\n",
       "   cast_total_facebook_likes       budget  imdb_score        gross  \n",
       "0                       4834  237000000.0         7.9  760505847.0  \n",
       "1                      48350  300000000.0         7.1  309404152.0  \n",
       "2                      11700  245000000.0         6.8  200074175.0  \n",
       "3                     106759  250000000.0         8.5  448130642.0  "
      ]
     },
     "metadata": {},
     "execution_count": 5
    }
   ],
   "metadata": {}
  },
  {
   "cell_type": "code",
   "execution_count": 6,
   "source": [
    "# Cuantas lineas y columnas tiene nuestro dataframe\r\n",
    "### Un dataframe es una estructura de datos que se compone de los elementos siguientes\r\n",
    "movies.shape"
   ],
   "outputs": [
    {
     "output_type": "execute_result",
     "data": {
      "text/plain": [
       "(5043, 19)"
      ]
     },
     "metadata": {},
     "execution_count": 6
    }
   ],
   "metadata": {}
  },
  {
   "cell_type": "markdown",
   "source": [
    "\r\n",
    "Un dataframe es una estructura de datos que se compone de los elementos siguientes\r\n"
   ],
   "metadata": {
    "slideshow": {
     "slide_type": "slide"
    }
   }
  },
  {
   "cell_type": "markdown",
   "source": [
    "<img src=\"img/dataframe_structure.png\" style=\"margin:0 auto; width:560px\">"
   ],
   "metadata": {
    "slideshow": {
     "slide_type": "-"
    }
   }
  },
  {
   "cell_type": "code",
   "execution_count": 7,
   "source": [
    "#visualizemos las columnas\r\n",
    "movies.columns"
   ],
   "outputs": [
    {
     "output_type": "execute_result",
     "data": {
      "text/plain": [
       "Index(['movie_title', 'title_year', 'color', 'aspect_ratio', 'duration',\n",
       "       'language', 'country', 'duration.1', 'genres', 'content_rating',\n",
       "       'plot_keywords', 'director_name', 'actor_1_name', 'actor_2_name',\n",
       "       'actor_3_name', 'cast_total_facebook_likes', 'budget', 'imdb_score',\n",
       "       'gross'],\n",
       "      dtype='object')"
      ]
     },
     "metadata": {},
     "execution_count": 7
    }
   ],
   "metadata": {}
  },
  {
   "cell_type": "code",
   "execution_count": 8,
   "source": [
    "#básicamente es como un numpy array /range\r\n",
    "movies.index"
   ],
   "outputs": [
    {
     "output_type": "execute_result",
     "data": {
      "text/plain": [
       "RangeIndex(start=0, stop=5043, step=1)"
      ]
     },
     "metadata": {},
     "execution_count": 8
    }
   ],
   "metadata": {}
  },
  {
   "cell_type": "code",
   "execution_count": 10,
   "source": [
    "columna1 = movies['movie_title']\r\n",
    "columna1.head(8)"
   ],
   "outputs": [
    {
     "output_type": "execute_result",
     "data": {
      "text/plain": [
       "0                                              Avatar \n",
       "1            Pirates of the Caribbean: At World's End \n",
       "2                                             Spectre \n",
       "3                               The Dark Knight Rises \n",
       "4    Star Wars: Episode VII - The Force Awakens    ...\n",
       "5                                         John Carter \n",
       "6                                        Spider-Man 3 \n",
       "7                                             Tangled \n",
       "Name: movie_title, dtype: object"
      ]
     },
     "metadata": {},
     "execution_count": 10
    }
   ],
   "metadata": {}
  },
  {
   "cell_type": "code",
   "execution_count": 11,
   "source": [
    "type(columna1)"
   ],
   "outputs": [
    {
     "output_type": "execute_result",
     "data": {
      "text/plain": [
       "pandas.core.series.Series"
      ]
     },
     "metadata": {},
     "execution_count": 11
    }
   ],
   "metadata": {}
  },
  {
   "cell_type": "code",
   "execution_count": 11,
   "source": [
    "movies.loc[:,'movie_title']"
   ],
   "outputs": [
    {
     "output_type": "execute_result",
     "data": {
      "text/plain": [
       "0                                              Avatar \n",
       "1            Pirates of the Caribbean: At World's End \n",
       "2                                             Spectre \n",
       "3                               The Dark Knight Rises \n",
       "4    Star Wars: Episode VII - The Force Awakens    ...\n",
       "Name: movie_title, dtype: object"
      ]
     },
     "metadata": {},
     "execution_count": 11
    }
   ],
   "metadata": {}
  },
  {
   "cell_type": "code",
   "execution_count": 12,
   "source": [
    "#décima linea, todas las columnas\r\n",
    "linea = movies.loc[10,:] \r\n",
    "linea"
   ],
   "outputs": [
    {
     "output_type": "execute_result",
     "data": {
      "text/plain": [
       "movie_title                                Batman v Superman: Dawn of Justice \n",
       "title_year                                                              2016.0\n",
       "color                                                                    Color\n",
       "aspect_ratio                                                              2.35\n",
       "duration                                                                 183.0\n",
       "language                                                               English\n",
       "country                                                                    USA\n",
       "duration.1                                                               183.0\n",
       "genres                                                 Action|Adventure|Sci-Fi\n",
       "content_rating                                                           PG-13\n",
       "plot_keywords                based on comic book|batman|sequel to a reboot|...\n",
       "director_name                                                      Zack Snyder\n",
       "actor_1_name                                                      Henry Cavill\n",
       "actor_2_name                                                      Lauren Cohan\n",
       "actor_3_name                                                    Alan D. Purwin\n",
       "cast_total_facebook_likes                                                24450\n",
       "budget                                                             250000000.0\n",
       "imdb_score                                                                 6.9\n",
       "gross                                                              330249062.0\n",
       "Name: 10, dtype: object"
      ]
     },
     "metadata": {},
     "execution_count": 12
    }
   ],
   "metadata": {}
  },
  {
   "cell_type": "markdown",
   "source": [
    "# 12.- Inspección de tipo de datos"
   ],
   "metadata": {}
  },
  {
   "cell_type": "markdown",
   "source": [
    "Datos importantes:\r\n",
    "\r\n",
    "- La inspección de los datos se da para tener conocimiento de la salud de los datos que tenemos, saber si vienen limpios o no, y también porque se quiere tener un entendimiento cuantitativo de ellos. Parte de esto es mirar gráficos estadísticos y entender diferentes propiedades numéricas de las columnas.\r\n",
    "- A diferencia de Numpy, Pandas no solo permite cargar datos numéricos, sino también datos de texto.\r\n",
    "- El método info nos va a mostrar la cantidad completa de columnas con la cantidad de elementos no nulos que hay en esas columnas, y por último muestra el tipo de cada columna.\r\n"
   ],
   "metadata": {}
  },
  {
   "cell_type": "markdown",
   "source": [
    "## Intentemos inspeccionar nuestros datos y entenderlos mejor \r\n",
    "\r\n",
    "el método `.info()` proporciona información de la cantidad de datos, el tipo de datos, valores núlos.\r\n"
   ],
   "metadata": {
    "slideshow": {
     "slide_type": "slide"
    }
   }
  },
  {
   "cell_type": "code",
   "execution_count": 13,
   "source": [
    "movies.info()"
   ],
   "outputs": [
    {
     "output_type": "stream",
     "name": "stdout",
     "text": [
      "<class 'pandas.core.frame.DataFrame'>\n",
      "RangeIndex: 5043 entries, 0 to 5042\n",
      "Data columns (total 19 columns):\n",
      " #   Column                     Non-Null Count  Dtype  \n",
      "---  ------                     --------------  -----  \n",
      " 0   movie_title                5043 non-null   object \n",
      " 1   title_year                 4935 non-null   float64\n",
      " 2   color                      5024 non-null   object \n",
      " 3   aspect_ratio               4714 non-null   float64\n",
      " 4   duration                   5028 non-null   float64\n",
      " 5   language                   5031 non-null   object \n",
      " 6   country                    5038 non-null   object \n",
      " 7   duration.1                 5028 non-null   float64\n",
      " 8   genres                     5043 non-null   object \n",
      " 9   content_rating             4740 non-null   object \n",
      " 10  plot_keywords              4890 non-null   object \n",
      " 11  director_name              4939 non-null   object \n",
      " 12  actor_1_name               5036 non-null   object \n",
      " 13  actor_2_name               5030 non-null   object \n",
      " 14  actor_3_name               5020 non-null   object \n",
      " 15  cast_total_facebook_likes  5043 non-null   int64  \n",
      " 16  budget                     4551 non-null   float64\n",
      " 17  imdb_score                 5043 non-null   float64\n",
      " 18  gross                      4159 non-null   float64\n",
      "dtypes: float64(7), int64(1), object(11)\n",
      "memory usage: 748.7+ KB\n"
     ]
    }
   ],
   "metadata": {}
  },
  {
   "cell_type": "markdown",
   "source": [
    "\r\n",
    "A diferencia de Numpy, Pandas permite cargar no solo datos numericos pero tambien **datos de texto** que vemos por ejemplo en las columnas de actores y **mezclar distintos tipos de datos**.\r\n",
    "- int64 y float64 corresponden a los mismos dtypes de Numpy \r\n",
    "- object es el dtype que permite manejar datos de texto \r\n"
   ],
   "metadata": {}
  },
  {
   "cell_type": "code",
   "execution_count": 14,
   "source": [
    "movies.dtypes #devuelve una serie"
   ],
   "outputs": [
    {
     "output_type": "execute_result",
     "data": {
      "text/plain": [
       "movie_title                   object\n",
       "title_year                   float64\n",
       "color                         object\n",
       "aspect_ratio                 float64\n",
       "duration                     float64\n",
       "language                      object\n",
       "country                       object\n",
       "duration.1                   float64\n",
       "genres                        object\n",
       "content_rating                object\n",
       "plot_keywords                 object\n",
       "director_name                 object\n",
       "actor_1_name                  object\n",
       "actor_2_name                  object\n",
       "actor_3_name                  object\n",
       "cast_total_facebook_likes      int64\n",
       "budget                       float64\n",
       "imdb_score                   float64\n",
       "gross                        float64\n",
       "dtype: object"
      ]
     },
     "metadata": {},
     "execution_count": 14
    }
   ],
   "metadata": {}
  },
  {
   "cell_type": "code",
   "execution_count": 15,
   "source": [
    "# columnas númericas y columnas de texto\r\n",
    "movies.dtypes == float"
   ],
   "outputs": [
    {
     "output_type": "execute_result",
     "data": {
      "text/plain": [
       "movie_title                  False\n",
       "title_year                    True\n",
       "color                        False\n",
       "aspect_ratio                  True\n",
       "duration                      True\n",
       "language                     False\n",
       "country                      False\n",
       "duration.1                    True\n",
       "genres                       False\n",
       "content_rating               False\n",
       "plot_keywords                False\n",
       "director_name                False\n",
       "actor_1_name                 False\n",
       "actor_2_name                 False\n",
       "actor_3_name                 False\n",
       "cast_total_facebook_likes    False\n",
       "budget                        True\n",
       "imdb_score                    True\n",
       "gross                         True\n",
       "dtype: bool"
      ]
     },
     "metadata": {},
     "execution_count": 15
    }
   ],
   "metadata": {}
  },
  {
   "cell_type": "code",
   "execution_count": 26,
   "source": [
    "movies.dtypes == 'int64'"
   ],
   "outputs": [
    {
     "output_type": "execute_result",
     "data": {
      "text/plain": [
       "movie_title                  False\n",
       "title_year                   False\n",
       "color                        False\n",
       "aspect_ratio                 False\n",
       "duration                     False\n",
       "language                     False\n",
       "country                      False\n",
       "duration.1                   False\n",
       "genres                       False\n",
       "content_rating               False\n",
       "plot_keywords                False\n",
       "director_name                False\n",
       "actor_1_name                 False\n",
       "actor_2_name                 False\n",
       "actor_3_name                 False\n",
       "cast_total_facebook_likes     True\n",
       "budget                       False\n",
       "imdb_score                   False\n",
       "gross                        False\n",
       "dtype: bool"
      ]
     },
     "metadata": {},
     "execution_count": 26
    }
   ],
   "metadata": {}
  },
  {
   "cell_type": "code",
   "execution_count": 27,
   "source": [
    "movies.dtypes == object"
   ],
   "outputs": [
    {
     "output_type": "execute_result",
     "data": {
      "text/plain": [
       "movie_title                   True\n",
       "title_year                   False\n",
       "color                         True\n",
       "aspect_ratio                 False\n",
       "duration                     False\n",
       "language                      True\n",
       "country                       True\n",
       "duration.1                   False\n",
       "genres                        True\n",
       "content_rating                True\n",
       "plot_keywords                 True\n",
       "director_name                 True\n",
       "actor_1_name                  True\n",
       "actor_2_name                  True\n",
       "actor_3_name                  True\n",
       "cast_total_facebook_likes    False\n",
       "budget                       False\n",
       "imdb_score                   False\n",
       "gross                        False\n",
       "dtype: bool"
      ]
     },
     "metadata": {},
     "execution_count": 27
    }
   ],
   "metadata": {}
  },
  {
   "cell_type": "markdown",
   "source": [
    "num una serie que contiene datos booleanos, con tru si son columnas numéricas"
   ],
   "metadata": {}
  },
  {
   "cell_type": "code",
   "execution_count": 4,
   "source": [
    "# or\r\n",
    "num = (movies.dtypes == float) | (movies.dtypes == 'int64')\r\n",
    "num"
   ],
   "outputs": [
    {
     "output_type": "execute_result",
     "data": {
      "text/plain": [
       "movie_title                  False\n",
       "title_year                    True\n",
       "color                        False\n",
       "aspect_ratio                  True\n",
       "duration                      True\n",
       "language                     False\n",
       "country                      False\n",
       "duration.1                    True\n",
       "genres                       False\n",
       "content_rating               False\n",
       "plot_keywords                False\n",
       "director_name                False\n",
       "actor_1_name                 False\n",
       "actor_2_name                 False\n",
       "actor_3_name                 False\n",
       "cast_total_facebook_likes     True\n",
       "budget                        True\n",
       "imdb_score                    True\n",
       "gross                         True\n",
       "dtype: bool"
      ]
     },
     "metadata": {},
     "execution_count": 4
    }
   ],
   "metadata": {}
  },
  {
   "cell_type": "code",
   "execution_count": 18,
   "source": [
    "num.index"
   ],
   "outputs": [
    {
     "output_type": "execute_result",
     "data": {
      "text/plain": [
       "Index(['movie_title', 'title_year', 'color', 'aspect_ratio', 'duration',\n",
       "       'language', 'country', 'duration.1', 'genres', 'content_rating',\n",
       "       'plot_keywords', 'director_name', 'actor_1_name', 'actor_2_name',\n",
       "       'actor_3_name', 'cast_total_facebook_likes', 'budget', 'imdb_score',\n",
       "       'gross'],\n",
       "      dtype='object')"
      ]
     },
     "metadata": {},
     "execution_count": 18
    }
   ],
   "metadata": {}
  },
  {
   "cell_type": "code",
   "execution_count": 19,
   "source": [
    "for el in num.index:\r\n",
    "    print(el)"
   ],
   "outputs": [
    {
     "output_type": "stream",
     "name": "stdout",
     "text": [
      "movie_title\n",
      "title_year\n",
      "color\n",
      "aspect_ratio\n",
      "duration\n",
      "language\n",
      "country\n",
      "duration.1\n",
      "genres\n",
      "content_rating\n",
      "plot_keywords\n",
      "director_name\n",
      "actor_1_name\n",
      "actor_2_name\n",
      "actor_3_name\n",
      "cast_total_facebook_likes\n",
      "budget\n",
      "imdb_score\n",
      "gross\n"
     ]
    }
   ],
   "metadata": {}
  },
  {
   "cell_type": "markdown",
   "source": [
    "Seleccionamos sólo las columnas numéricas con ayuda de List comprehensions"
   ],
   "metadata": {}
  },
  {
   "cell_type": "code",
   "execution_count": 5,
   "source": [
    "num_cols = [c for c in num.index if num[c]] # si es True"
   ],
   "outputs": [],
   "metadata": {}
  },
  {
   "cell_type": "code",
   "execution_count": 30,
   "source": [
    "num_cols"
   ],
   "outputs": [
    {
     "output_type": "execute_result",
     "data": {
      "text/plain": [
       "['title_year',\n",
       " 'aspect_ratio',\n",
       " 'duration',\n",
       " 'duration.1',\n",
       " 'cast_total_facebook_likes',\n",
       " 'budget',\n",
       " 'imdb_score',\n",
       " 'gross']"
      ]
     },
     "metadata": {},
     "execution_count": 30
    }
   ],
   "metadata": {
    "scrolled": true
   }
  },
  {
   "cell_type": "code",
   "execution_count": 6,
   "source": [
    "obj = (movies.dtypes == object)\r\n",
    "obj_cols = [c for c in obj.index if obj[c]]"
   ],
   "outputs": [],
   "metadata": {}
  },
  {
   "cell_type": "code",
   "execution_count": 23,
   "source": [
    "obj_cols"
   ],
   "outputs": [
    {
     "output_type": "execute_result",
     "data": {
      "text/plain": [
       "['movie_title',\n",
       " 'color',\n",
       " 'language',\n",
       " 'country',\n",
       " 'genres',\n",
       " 'content_rating',\n",
       " 'plot_keywords',\n",
       " 'director_name',\n",
       " 'actor_1_name',\n",
       " 'actor_2_name',\n",
       " 'actor_3_name']"
      ]
     },
     "metadata": {},
     "execution_count": 23
    }
   ],
   "metadata": {}
  },
  {
   "cell_type": "markdown",
   "source": [
    "## NOTAS"
   ],
   "metadata": {}
  },
  {
   "cell_type": "code",
   "execution_count": 31,
   "source": [
    "# Para extraer los nombres de columnas int y float\r\n",
    "movies.select_dtypes([int, float]).columns\r\n"
   ],
   "outputs": [
    {
     "output_type": "execute_result",
     "data": {
      "text/plain": [
       "Index(['title_year', 'aspect_ratio', 'duration', 'duration.1',\n",
       "       'cast_total_facebook_likes', 'budget', 'imdb_score', 'gross'],\n",
       "      dtype='object')"
      ]
     },
     "metadata": {},
     "execution_count": 31
    }
   ],
   "metadata": {}
  },
  {
   "cell_type": "code",
   "execution_count": 32,
   "source": [
    "# O directamente 'np.number' para extraer cualquier tipo numérico (incluidos int y float)\r\n",
    "movies.select_dtypes([np.number]).columns"
   ],
   "outputs": [
    {
     "output_type": "execute_result",
     "data": {
      "text/plain": [
       "Index(['title_year', 'aspect_ratio', 'duration', 'duration.1',\n",
       "       'cast_total_facebook_likes', 'budget', 'imdb_score', 'gross'],\n",
       "      dtype='object')"
      ]
     },
     "metadata": {},
     "execution_count": 32
    }
   ],
   "metadata": {}
  },
  {
   "cell_type": "code",
   "execution_count": 33,
   "source": [
    "\r\n",
    "# Y finalmente:\r\n",
    "movies.select_dtypes([np.number])\r\n",
    "# Si se quiere extraer ya directamente todo el dataframe"
   ],
   "outputs": [
    {
     "output_type": "execute_result",
     "data": {
      "text/html": [
       "<div>\n",
       "<style scoped>\n",
       "    .dataframe tbody tr th:only-of-type {\n",
       "        vertical-align: middle;\n",
       "    }\n",
       "\n",
       "    .dataframe tbody tr th {\n",
       "        vertical-align: top;\n",
       "    }\n",
       "\n",
       "    .dataframe thead th {\n",
       "        text-align: right;\n",
       "    }\n",
       "</style>\n",
       "<table border=\"1\" class=\"dataframe\">\n",
       "  <thead>\n",
       "    <tr style=\"text-align: right;\">\n",
       "      <th></th>\n",
       "      <th>title_year</th>\n",
       "      <th>aspect_ratio</th>\n",
       "      <th>duration</th>\n",
       "      <th>duration.1</th>\n",
       "      <th>cast_total_facebook_likes</th>\n",
       "      <th>budget</th>\n",
       "      <th>imdb_score</th>\n",
       "      <th>gross</th>\n",
       "    </tr>\n",
       "  </thead>\n",
       "  <tbody>\n",
       "    <tr>\n",
       "      <th>0</th>\n",
       "      <td>2009.0</td>\n",
       "      <td>1.78</td>\n",
       "      <td>178.0</td>\n",
       "      <td>178.0</td>\n",
       "      <td>4834</td>\n",
       "      <td>237000000.0</td>\n",
       "      <td>7.9</td>\n",
       "      <td>760505847.0</td>\n",
       "    </tr>\n",
       "    <tr>\n",
       "      <th>1</th>\n",
       "      <td>2007.0</td>\n",
       "      <td>2.35</td>\n",
       "      <td>169.0</td>\n",
       "      <td>169.0</td>\n",
       "      <td>48350</td>\n",
       "      <td>300000000.0</td>\n",
       "      <td>7.1</td>\n",
       "      <td>309404152.0</td>\n",
       "    </tr>\n",
       "    <tr>\n",
       "      <th>2</th>\n",
       "      <td>2015.0</td>\n",
       "      <td>2.35</td>\n",
       "      <td>148.0</td>\n",
       "      <td>148.0</td>\n",
       "      <td>11700</td>\n",
       "      <td>245000000.0</td>\n",
       "      <td>6.8</td>\n",
       "      <td>200074175.0</td>\n",
       "    </tr>\n",
       "    <tr>\n",
       "      <th>3</th>\n",
       "      <td>2012.0</td>\n",
       "      <td>2.35</td>\n",
       "      <td>164.0</td>\n",
       "      <td>164.0</td>\n",
       "      <td>106759</td>\n",
       "      <td>250000000.0</td>\n",
       "      <td>8.5</td>\n",
       "      <td>448130642.0</td>\n",
       "    </tr>\n",
       "    <tr>\n",
       "      <th>4</th>\n",
       "      <td>NaN</td>\n",
       "      <td>NaN</td>\n",
       "      <td>NaN</td>\n",
       "      <td>NaN</td>\n",
       "      <td>143</td>\n",
       "      <td>NaN</td>\n",
       "      <td>7.1</td>\n",
       "      <td>NaN</td>\n",
       "    </tr>\n",
       "    <tr>\n",
       "      <th>...</th>\n",
       "      <td>...</td>\n",
       "      <td>...</td>\n",
       "      <td>...</td>\n",
       "      <td>...</td>\n",
       "      <td>...</td>\n",
       "      <td>...</td>\n",
       "      <td>...</td>\n",
       "      <td>...</td>\n",
       "    </tr>\n",
       "    <tr>\n",
       "      <th>5038</th>\n",
       "      <td>2013.0</td>\n",
       "      <td>NaN</td>\n",
       "      <td>87.0</td>\n",
       "      <td>87.0</td>\n",
       "      <td>2283</td>\n",
       "      <td>NaN</td>\n",
       "      <td>7.7</td>\n",
       "      <td>NaN</td>\n",
       "    </tr>\n",
       "    <tr>\n",
       "      <th>5039</th>\n",
       "      <td>NaN</td>\n",
       "      <td>16.00</td>\n",
       "      <td>43.0</td>\n",
       "      <td>43.0</td>\n",
       "      <td>1753</td>\n",
       "      <td>NaN</td>\n",
       "      <td>7.5</td>\n",
       "      <td>NaN</td>\n",
       "    </tr>\n",
       "    <tr>\n",
       "      <th>5040</th>\n",
       "      <td>2013.0</td>\n",
       "      <td>NaN</td>\n",
       "      <td>76.0</td>\n",
       "      <td>76.0</td>\n",
       "      <td>0</td>\n",
       "      <td>1400.0</td>\n",
       "      <td>6.3</td>\n",
       "      <td>NaN</td>\n",
       "    </tr>\n",
       "    <tr>\n",
       "      <th>5041</th>\n",
       "      <td>2012.0</td>\n",
       "      <td>2.35</td>\n",
       "      <td>100.0</td>\n",
       "      <td>100.0</td>\n",
       "      <td>2386</td>\n",
       "      <td>NaN</td>\n",
       "      <td>6.3</td>\n",
       "      <td>10443.0</td>\n",
       "    </tr>\n",
       "    <tr>\n",
       "      <th>5042</th>\n",
       "      <td>2004.0</td>\n",
       "      <td>1.85</td>\n",
       "      <td>90.0</td>\n",
       "      <td>90.0</td>\n",
       "      <td>163</td>\n",
       "      <td>1100.0</td>\n",
       "      <td>6.6</td>\n",
       "      <td>85222.0</td>\n",
       "    </tr>\n",
       "  </tbody>\n",
       "</table>\n",
       "<p>5043 rows × 8 columns</p>\n",
       "</div>"
      ],
      "text/plain": [
       "      title_year  aspect_ratio  duration  duration.1  \\\n",
       "0         2009.0          1.78     178.0       178.0   \n",
       "1         2007.0          2.35     169.0       169.0   \n",
       "2         2015.0          2.35     148.0       148.0   \n",
       "3         2012.0          2.35     164.0       164.0   \n",
       "4            NaN           NaN       NaN         NaN   \n",
       "...          ...           ...       ...         ...   \n",
       "5038      2013.0           NaN      87.0        87.0   \n",
       "5039         NaN         16.00      43.0        43.0   \n",
       "5040      2013.0           NaN      76.0        76.0   \n",
       "5041      2012.0          2.35     100.0       100.0   \n",
       "5042      2004.0          1.85      90.0        90.0   \n",
       "\n",
       "      cast_total_facebook_likes       budget  imdb_score        gross  \n",
       "0                          4834  237000000.0         7.9  760505847.0  \n",
       "1                         48350  300000000.0         7.1  309404152.0  \n",
       "2                         11700  245000000.0         6.8  200074175.0  \n",
       "3                        106759  250000000.0         8.5  448130642.0  \n",
       "4                           143          NaN         7.1          NaN  \n",
       "...                         ...          ...         ...          ...  \n",
       "5038                       2283          NaN         7.7          NaN  \n",
       "5039                       1753          NaN         7.5          NaN  \n",
       "5040                          0       1400.0         6.3          NaN  \n",
       "5041                       2386          NaN         6.3      10443.0  \n",
       "5042                        163       1100.0         6.6      85222.0  \n",
       "\n",
       "[5043 rows x 8 columns]"
      ]
     },
     "metadata": {},
     "execution_count": 33
    }
   ],
   "metadata": {}
  },
  {
   "cell_type": "code",
   "execution_count": 34,
   "source": [
    "# y para cualquier objeto no numérico)\r\n",
    "movies.select_dtypes(exclude=[np.number]).columns"
   ],
   "outputs": [
    {
     "output_type": "execute_result",
     "data": {
      "text/plain": [
       "Index(['movie_title', 'color', 'language', 'country', 'genres',\n",
       "       'content_rating', 'plot_keywords', 'director_name', 'actor_1_name',\n",
       "       'actor_2_name', 'actor_3_name'],\n",
       "      dtype='object')"
      ]
     },
     "metadata": {},
     "execution_count": 34
    }
   ],
   "metadata": {}
  },
  {
   "cell_type": "code",
   "execution_count": 35,
   "source": [
    "movies.select_dtypes(include='number').columns.tolist()"
   ],
   "outputs": [
    {
     "output_type": "execute_result",
     "data": {
      "text/plain": [
       "['title_year',\n",
       " 'aspect_ratio',\n",
       " 'duration',\n",
       " 'duration.1',\n",
       " 'cast_total_facebook_likes',\n",
       " 'budget',\n",
       " 'imdb_score',\n",
       " 'gross']"
      ]
     },
     "metadata": {},
     "execution_count": 35
    }
   ],
   "metadata": {}
  },
  {
   "cell_type": "markdown",
   "source": [
    "mas resumido"
   ],
   "metadata": {}
  },
  {
   "cell_type": "code",
   "execution_count": null,
   "source": [
    "movies_nums = movies.select_dtypes(exclude=['object'])\r\n",
    "movies_obj = movies.select_dtypes(include=['object'])"
   ],
   "outputs": [],
   "metadata": {}
  },
  {
   "cell_type": "markdown",
   "source": [
    "# 13.- Inspección cuantitativa y de salud de los datos"
   ],
   "metadata": {}
  },
  {
   "cell_type": "markdown",
   "source": [
    "Trabajaremos con las columnas numéricas"
   ],
   "metadata": {}
  },
  {
   "cell_type": "code",
   "execution_count": 7,
   "source": [
    "movies_num = movies[num_cols]"
   ],
   "outputs": [],
   "metadata": {}
  },
  {
   "cell_type": "code",
   "execution_count": 26,
   "source": [
    "# Estadísticas de las columnas númericas\r\n",
    "movies_num.describe()"
   ],
   "outputs": [
    {
     "output_type": "execute_result",
     "data": {
      "text/html": [
       "<div>\n",
       "<table border=\"1\" class=\"dataframe\">\n",
       "  <thead>\n",
       "    <tr style=\"text-align: right;\">\n",
       "      <th></th>\n",
       "      <th>title_year</th>\n",
       "      <th>aspect_ratio</th>\n",
       "      <th>duration</th>\n",
       "      <th>duration.1</th>\n",
       "      <th>cast_total_facebook_likes</th>\n",
       "      <th>budget</th>\n",
       "      <th>imdb_score</th>\n",
       "      <th>gross</th>\n",
       "    </tr>\n",
       "  </thead>\n",
       "  <tbody>\n",
       "    <tr>\n",
       "      <th>count</th>\n",
       "      <td>4935.000000</td>\n",
       "      <td>4714.000000</td>\n",
       "      <td>5028.000000</td>\n",
       "      <td>5028.000000</td>\n",
       "      <td>5043.000000</td>\n",
       "      <td>4.551000e+03</td>\n",
       "      <td>5043.000000</td>\n",
       "      <td>4.159000e+03</td>\n",
       "    </tr>\n",
       "    <tr>\n",
       "      <th>mean</th>\n",
       "      <td>2002.470517</td>\n",
       "      <td>2.220403</td>\n",
       "      <td>107.201074</td>\n",
       "      <td>107.201074</td>\n",
       "      <td>9699.063851</td>\n",
       "      <td>3.975262e+07</td>\n",
       "      <td>6.442138</td>\n",
       "      <td>4.846841e+07</td>\n",
       "    </tr>\n",
       "    <tr>\n",
       "      <th>std</th>\n",
       "      <td>12.474599</td>\n",
       "      <td>1.385113</td>\n",
       "      <td>25.197441</td>\n",
       "      <td>25.197441</td>\n",
       "      <td>18163.799124</td>\n",
       "      <td>2.061149e+08</td>\n",
       "      <td>1.125116</td>\n",
       "      <td>6.845299e+07</td>\n",
       "    </tr>\n",
       "    <tr>\n",
       "      <th>min</th>\n",
       "      <td>1916.000000</td>\n",
       "      <td>1.180000</td>\n",
       "      <td>7.000000</td>\n",
       "      <td>7.000000</td>\n",
       "      <td>0.000000</td>\n",
       "      <td>2.180000e+02</td>\n",
       "      <td>1.600000</td>\n",
       "      <td>1.620000e+02</td>\n",
       "    </tr>\n",
       "    <tr>\n",
       "      <th>25%</th>\n",
       "      <td>1999.000000</td>\n",
       "      <td>1.850000</td>\n",
       "      <td>93.000000</td>\n",
       "      <td>93.000000</td>\n",
       "      <td>1411.000000</td>\n",
       "      <td>6.000000e+06</td>\n",
       "      <td>5.800000</td>\n",
       "      <td>5.340988e+06</td>\n",
       "    </tr>\n",
       "    <tr>\n",
       "      <th>50%</th>\n",
       "      <td>2005.000000</td>\n",
       "      <td>2.350000</td>\n",
       "      <td>103.000000</td>\n",
       "      <td>103.000000</td>\n",
       "      <td>3090.000000</td>\n",
       "      <td>2.000000e+07</td>\n",
       "      <td>6.600000</td>\n",
       "      <td>2.551750e+07</td>\n",
       "    </tr>\n",
       "    <tr>\n",
       "      <th>75%</th>\n",
       "      <td>2011.000000</td>\n",
       "      <td>2.350000</td>\n",
       "      <td>118.000000</td>\n",
       "      <td>118.000000</td>\n",
       "      <td>13756.500000</td>\n",
       "      <td>4.500000e+07</td>\n",
       "      <td>7.200000</td>\n",
       "      <td>6.230944e+07</td>\n",
       "    </tr>\n",
       "    <tr>\n",
       "      <th>max</th>\n",
       "      <td>2016.000000</td>\n",
       "      <td>16.000000</td>\n",
       "      <td>511.000000</td>\n",
       "      <td>511.000000</td>\n",
       "      <td>656730.000000</td>\n",
       "      <td>1.221550e+10</td>\n",
       "      <td>9.500000</td>\n",
       "      <td>7.605058e+08</td>\n",
       "    </tr>\n",
       "  </tbody>\n",
       "</table>\n",
       "</div>"
      ],
      "text/plain": [
       "        title_year  aspect_ratio     duration   duration.1  \\\n",
       "count  4935.000000   4714.000000  5028.000000  5028.000000   \n",
       "mean   2002.470517      2.220403   107.201074   107.201074   \n",
       "std      12.474599      1.385113    25.197441    25.197441   \n",
       "min    1916.000000      1.180000     7.000000     7.000000   \n",
       "25%    1999.000000      1.850000    93.000000    93.000000   \n",
       "50%    2005.000000      2.350000   103.000000   103.000000   \n",
       "75%    2011.000000      2.350000   118.000000   118.000000   \n",
       "max    2016.000000     16.000000   511.000000   511.000000   \n",
       "\n",
       "       cast_total_facebook_likes        budget   imdb_score         gross  \n",
       "count                5043.000000  4.551000e+03  5043.000000  4.159000e+03  \n",
       "mean                 9699.063851  3.975262e+07     6.442138  4.846841e+07  \n",
       "std                 18163.799124  2.061149e+08     1.125116  6.845299e+07  \n",
       "min                     0.000000  2.180000e+02     1.600000  1.620000e+02  \n",
       "25%                  1411.000000  6.000000e+06     5.800000  5.340988e+06  \n",
       "50%                  3090.000000  2.000000e+07     6.600000  2.551750e+07  \n",
       "75%                 13756.500000  4.500000e+07     7.200000  6.230944e+07  \n",
       "max                656730.000000  1.221550e+10     9.500000  7.605058e+08  "
      ]
     },
     "metadata": {},
     "execution_count": 26
    }
   ],
   "metadata": {}
  },
  {
   "cell_type": "code",
   "execution_count": 27,
   "source": [
    "# Estadísticas de las columnas de texto"
   ],
   "outputs": [],
   "metadata": {}
  },
  {
   "cell_type": "markdown",
   "source": [
    "Para hacer nuestro primer modelo más simple para este trabajaremos solo con las columnas númericas."
   ],
   "metadata": {}
  },
  {
   "cell_type": "code",
   "execution_count": 8,
   "source": [
    "movies_num['duration'].hist()"
   ],
   "outputs": [
    {
     "output_type": "execute_result",
     "data": {
      "text/plain": [
       "<AxesSubplot:>"
      ]
     },
     "metadata": {},
     "execution_count": 8
    },
    {
     "output_type": "display_data",
     "data": {
      "image/png": "[encoded data removed]",
      "image/svg+xml": "<?xml version=\"1.0\" encoding=\"utf-8\" standalone=\"no\"?>\r\n<!DOCTYPE svg PUBLIC \"-//W3C//DTD SVG 1.1//EN\"\r\n  \"http://www.w3.org/Graphics/SVG/1.1/DTD/svg11.dtd\">\r\n<svg height=\"250.966785pt\" version=\"1.1\" viewBox=\"0 0 381.65 250.966785\" width=\"381.65pt\" xmlns=\"http://www.w3.org/2000/svg\" xmlns:xlink=\"http://www.w3.org/1999/xlink\">\r\n <metadata>\r\n  <rdf:RDF xmlns:cc=\"http://creativecommons.org/ns#\" xmlns:dc=\"http://purl.org/dc/elements/1.1/\" xmlns:rdf=\"http://www.w3.org/1999/02/22-rdf-syntax-ns#\">\r\n   <cc:Work>\r\n    <dc:type rdf:resource=\"http://purl.org/dc/dcmitype/StillImage\"/>\r\n    <dc:date>2021-09-03T08:50:34.837070</dc:date>\r\n    <dc:format>image/svg+xml</dc:format>\r\n    <dc:creator>\r\n     <cc:Agent>\r\n      <dc:title>Matplotlib v3.4.3, https://matplotlib.org/</dc:title>\r\n     </cc:Agent>\r\n    </dc:creator>\r\n   </cc:Work>\r\n  </rdf:RDF>\r\n </metadata>\r\n <defs>\r\n  <style type=\"text/css\">*{stroke-linecap:butt;stroke-linejoin:round;}</style>\r\n </defs>\r\n <g id=\"figure_1\">\r\n  <g id=\"patch_1\">\r\n   <path d=\"M -0 250.966785 \r\nL 381.65 250.966785 \r\nL 381.65 0 \r\nL -0 0 \r\nz\r\n\" style=\"fill:none;\"/>\r\n  </g>\r\n  <g id=\"axes_1\">\r\n   <g id=\"patch_2\">\r\n    <path d=\"M 39.65 227.08866 \r\nL 374.45 227.08866 \r\nL 374.45 9.64866 \r\nL 39.65 9.64866 \r\nz\r\n\" style=\"fill:#ffffff;\"/>\r\n   </g>\r\n   <g id=\"patch_3\">\r\n    <path clip-path=\"url(#p5deac48de7)\" d=\"M 54.868182 227.08866 \r\nL 85.304545 227.08866 \r\nL 85.304545 221.326275 \r\nL 54.868182 221.326275 \r\nz\r\n\" style=\"fill:#1f77b4;\"/>\r\n   </g>\r\n   <g id=\"patch_4\">\r\n    <path clip-path=\"url(#p5deac48de7)\" d=\"M 85.304545 227.08866 \r\nL 115.740909 227.08866 \r\nL 115.740909 20.002945 \r\nL 85.304545 20.002945 \r\nz\r\n\" style=\"fill:#1f77b4;\"/>\r\n   </g>\r\n   <g id=\"patch_5\">\r\n    <path clip-path=\"url(#p5deac48de7)\" d=\"M 115.740909 227.08866 \r\nL 146.177273 227.08866 \r\nL 146.177273 88.071119 \r\nL 115.740909 88.071119 \r\nz\r\n\" style=\"fill:#1f77b4;\"/>\r\n   </g>\r\n   <g id=\"patch_6\">\r\n    <path clip-path=\"url(#p5deac48de7)\" d=\"M 146.177273 227.08866 \r\nL 176.613636 227.08866 \r\nL 176.613636 218.877261 \r\nL 146.177273 218.877261 \r\nz\r\n\" style=\"fill:#1f77b4;\"/>\r\n   </g>\r\n   <g id=\"patch_7\">\r\n    <path clip-path=\"url(#p5deac48de7)\" d=\"M 176.613636 227.08866 \r\nL 207.05 227.08866 \r\nL 207.05 225.792123 \r\nL 176.613636 225.792123 \r\nz\r\n\" style=\"fill:#1f77b4;\"/>\r\n   </g>\r\n   <g id=\"patch_8\">\r\n    <path clip-path=\"url(#p5deac48de7)\" d=\"M 207.05 227.08866 \r\nL 237.486364 227.08866 \r\nL 237.486364 226.584451 \r\nL 207.05 226.584451 \r\nz\r\n\" style=\"fill:#1f77b4;\"/>\r\n   </g>\r\n   <g id=\"patch_9\">\r\n    <path clip-path=\"url(#p5deac48de7)\" d=\"M 237.486364 227.08866 \r\nL 267.922727 227.08866 \r\nL 267.922727 226.87257 \r\nL 237.486364 226.87257 \r\nz\r\n\" style=\"fill:#1f77b4;\"/>\r\n   </g>\r\n   <g id=\"patch_10\">\r\n    <path clip-path=\"url(#p5deac48de7)\" d=\"M 267.922727 227.08866 \r\nL 298.359091 227.08866 \r\nL 298.359091 227.08866 \r\nL 267.922727 227.08866 \r\nz\r\n\" style=\"fill:#1f77b4;\"/>\r\n   </g>\r\n   <g id=\"patch_11\">\r\n    <path clip-path=\"url(#p5deac48de7)\" d=\"M 298.359091 227.08866 \r\nL 328.795455 227.08866 \r\nL 328.795455 227.08866 \r\nL 298.359091 227.08866 \r\nz\r\n\" style=\"fill:#1f77b4;\"/>\r\n   </g>\r\n   <g id=\"patch_12\">\r\n    <path clip-path=\"url(#p5deac48de7)\" d=\"M 328.795455 227.08866 \r\nL 359.231818 227.08866 \r\nL 359.231818 227.01663 \r\nL 328.795455 227.01663 \r\nz\r\n\" style=\"fill:#1f77b4;\"/>\r\n   </g>\r\n   <g id=\"matplotlib.axis_1\">\r\n    <g id=\"xtick_1\">\r\n     <g id=\"line2d_1\">\r\n      <path clip-path=\"url(#p5deac48de7)\" d=\"M 50.640909 227.08866 \r\nL 50.640909 9.64866 \r\n\" style=\"fill:none;stroke:#b0b0b0;stroke-linecap:square;stroke-width:0.8;\"/>\r\n     </g>\r\n     <g id=\"line2d_2\">\r\n      <defs>\r\n       <path d=\"M 0 0 \r\nL 0 3.5 \r\n\" id=\"m9edcf4872b\" style=\"stroke:#000000;stroke-width:0.8;\"/>\r\n      </defs>\r\n      <g>\r\n       <use style=\"stroke:#000000;stroke-width:0.8;\" x=\"50.640909\" xlink:href=\"#m9edcf4872b\" y=\"227.08866\"/>\r\n      </g>\r\n     </g>\r\n     <g id=\"text_1\">\r\n      <!-- 0 -->\r\n      <g transform=\"translate(47.459659 241.687097)scale(0.1 -0.1)\">\r\n       <defs>\r\n        <path d=\"M 2034 4250 \r\nQ 1547 4250 1301 3770 \r\nQ 1056 3291 1056 2328 \r\nQ 1056 1369 1301 889 \r\nQ 1547 409 2034 409 \r\nQ 2525 409 2770 889 \r\nQ 3016 1369 3016 2328 \r\nQ 3016 3291 2770 3770 \r\nQ 2525 4250 2034 4250 \r\nz\r\nM 2034 4750 \r\nQ 2819 4750 3233 4129 \r\nQ 3647 3509 3647 2328 \r\nQ 3647 1150 3233 529 \r\nQ 2819 -91 2034 -91 \r\nQ 1250 -91 836 529 \r\nQ 422 1150 422 2328 \r\nQ 422 3509 836 4129 \r\nQ 1250 4750 2034 4750 \r\nz\r\n\" id=\"DejaVuSans-30\" transform=\"scale(0.015625)\"/>\r\n       </defs>\r\n       <use xlink:href=\"#DejaVuSans-30\"/>\r\n      </g>\r\n     </g>\r\n    </g>\r\n    <g id=\"xtick_2\">\r\n     <g id=\"line2d_3\">\r\n      <path clip-path=\"url(#p5deac48de7)\" d=\"M 111.030519 227.08866 \r\nL 111.030519 9.64866 \r\n\" style=\"fill:none;stroke:#b0b0b0;stroke-linecap:square;stroke-width:0.8;\"/>\r\n     </g>\r\n     <g id=\"line2d_4\">\r\n      <g>\r\n       <use style=\"stroke:#000000;stroke-width:0.8;\" x=\"111.030519\" xlink:href=\"#m9edcf4872b\" y=\"227.08866\"/>\r\n      </g>\r\n     </g>\r\n     <g id=\"text_2\">\r\n      <!-- 100 -->\r\n      <g transform=\"translate(101.486769 241.687097)scale(0.1 -0.1)\">\r\n       <defs>\r\n        <path d=\"M 794 531 \r\nL 1825 531 \r\nL 1825 4091 \r\nL 703 3866 \r\nL 703 4441 \r\nL 1819 4666 \r\nL 2450 4666 \r\nL 2450 531 \r\nL 3481 531 \r\nL 3481 0 \r\nL 794 0 \r\nL 794 531 \r\nz\r\n\" id=\"DejaVuSans-31\" transform=\"scale(0.015625)\"/>\r\n       </defs>\r\n       <use xlink:href=\"#DejaVuSans-31\"/>\r\n       <use x=\"63.623047\" xlink:href=\"#DejaVuSans-30\"/>\r\n       <use x=\"127.246094\" xlink:href=\"#DejaVuSans-30\"/>\r\n      </g>\r\n     </g>\r\n    </g>\r\n    <g id=\"xtick_3\">\r\n     <g id=\"line2d_5\">\r\n      <path clip-path=\"url(#p5deac48de7)\" d=\"M 171.42013 227.08866 \r\nL 171.42013 9.64866 \r\n\" style=\"fill:none;stroke:#b0b0b0;stroke-linecap:square;stroke-width:0.8;\"/>\r\n     </g>\r\n     <g id=\"line2d_6\">\r\n      <g>\r\n       <use style=\"stroke:#000000;stroke-width:0.8;\" x=\"171.42013\" xlink:href=\"#m9edcf4872b\" y=\"227.08866\"/>\r\n      </g>\r\n     </g>\r\n     <g id=\"text_3\">\r\n      <!-- 200 -->\r\n      <g transform=\"translate(161.87638 241.687097)scale(0.1 -0.1)\">\r\n       <defs>\r\n        <path d=\"M 1228 531 \r\nL 3431 531 \r\nL 3431 0 \r\nL 469 0 \r\nL 469 531 \r\nQ 828 903 1448 1529 \r\nQ 2069 2156 2228 2338 \r\nQ 2531 2678 2651 2914 \r\nQ 2772 3150 2772 3378 \r\nQ 2772 3750 2511 3984 \r\nQ 2250 4219 1831 4219 \r\nQ 1534 4219 1204 4116 \r\nQ 875 4013 500 3803 \r\nL 500 4441 \r\nQ 881 4594 1212 4672 \r\nQ 1544 4750 1819 4750 \r\nQ 2544 4750 2975 4387 \r\nQ 3406 4025 3406 3419 \r\nQ 3406 3131 3298 2873 \r\nQ 3191 2616 2906 2266 \r\nQ 2828 2175 2409 1742 \r\nQ 1991 1309 1228 531 \r\nz\r\n\" id=\"DejaVuSans-32\" transform=\"scale(0.015625)\"/>\r\n       </defs>\r\n       <use xlink:href=\"#DejaVuSans-32\"/>\r\n       <use x=\"63.623047\" xlink:href=\"#DejaVuSans-30\"/>\r\n       <use x=\"127.246094\" xlink:href=\"#DejaVuSans-30\"/>\r\n      </g>\r\n     </g>\r\n    </g>\r\n    <g id=\"xtick_4\">\r\n     <g id=\"line2d_7\">\r\n      <path clip-path=\"url(#p5deac48de7)\" d=\"M 231.80974 227.08866 \r\nL 231.80974 9.64866 \r\n\" style=\"fill:none;stroke:#b0b0b0;stroke-linecap:square;stroke-width:0.8;\"/>\r\n     </g>\r\n     <g id=\"line2d_8\">\r\n      <g>\r\n       <use style=\"stroke:#000000;stroke-width:0.8;\" x=\"231.80974\" xlink:href=\"#m9edcf4872b\" y=\"227.08866\"/>\r\n      </g>\r\n     </g>\r\n     <g id=\"text_4\">\r\n      <!-- 300 -->\r\n      <g transform=\"translate(222.26599 241.687097)scale(0.1 -0.1)\">\r\n       <defs>\r\n        <path d=\"M 2597 2516 \r\nQ 3050 2419 3304 2112 \r\nQ 3559 1806 3559 1356 \r\nQ 3559 666 3084 287 \r\nQ 2609 -91 1734 -91 \r\nQ 1441 -91 1130 -33 \r\nQ 819 25 488 141 \r\nL 488 750 \r\nQ 750 597 1062 519 \r\nQ 1375 441 1716 441 \r\nQ 2309 441 2620 675 \r\nQ 2931 909 2931 1356 \r\nQ 2931 1769 2642 2001 \r\nQ 2353 2234 1838 2234 \r\nL 1294 2234 \r\nL 1294 2753 \r\nL 1863 2753 \r\nQ 2328 2753 2575 2939 \r\nQ 2822 3125 2822 3475 \r\nQ 2822 3834 2567 4026 \r\nQ 2313 4219 1838 4219 \r\nQ 1578 4219 1281 4162 \r\nQ 984 4106 628 3988 \r\nL 628 4550 \r\nQ 988 4650 1302 4700 \r\nQ 1616 4750 1894 4750 \r\nQ 2613 4750 3031 4423 \r\nQ 3450 4097 3450 3541 \r\nQ 3450 3153 3228 2886 \r\nQ 3006 2619 2597 2516 \r\nz\r\n\" id=\"DejaVuSans-33\" transform=\"scale(0.015625)\"/>\r\n       </defs>\r\n       <use xlink:href=\"#DejaVuSans-33\"/>\r\n       <use x=\"63.623047\" xlink:href=\"#DejaVuSans-30\"/>\r\n       <use x=\"127.246094\" xlink:href=\"#DejaVuSans-30\"/>\r\n      </g>\r\n     </g>\r\n    </g>\r\n    <g id=\"xtick_5\">\r\n     <g id=\"line2d_9\">\r\n      <path clip-path=\"url(#p5deac48de7)\" d=\"M 292.199351 227.08866 \r\nL 292.199351 9.64866 \r\n\" style=\"fill:none;stroke:#b0b0b0;stroke-linecap:square;stroke-width:0.8;\"/>\r\n     </g>\r\n     <g id=\"line2d_10\">\r\n      <g>\r\n       <use style=\"stroke:#000000;stroke-width:0.8;\" x=\"292.199351\" xlink:href=\"#m9edcf4872b\" y=\"227.08866\"/>\r\n      </g>\r\n     </g>\r\n     <g id=\"text_5\">\r\n      <!-- 400 -->\r\n      <g transform=\"translate(282.655601 241.687097)scale(0.1 -0.1)\">\r\n       <defs>\r\n        <path d=\"M 2419 4116 \r\nL 825 1625 \r\nL 2419 1625 \r\nL 2419 4116 \r\nz\r\nM 2253 4666 \r\nL 3047 4666 \r\nL 3047 1625 \r\nL 3713 1625 \r\nL 3713 1100 \r\nL 3047 1100 \r\nL 3047 0 \r\nL 2419 0 \r\nL 2419 1100 \r\nL 313 1100 \r\nL 313 1709 \r\nL 2253 4666 \r\nz\r\n\" id=\"DejaVuSans-34\" transform=\"scale(0.015625)\"/>\r\n       </defs>\r\n       <use xlink:href=\"#DejaVuSans-34\"/>\r\n       <use x=\"63.623047\" xlink:href=\"#DejaVuSans-30\"/>\r\n       <use x=\"127.246094\" xlink:href=\"#DejaVuSans-30\"/>\r\n      </g>\r\n     </g>\r\n    </g>\r\n    <g id=\"xtick_6\">\r\n     <g id=\"line2d_11\">\r\n      <path clip-path=\"url(#p5deac48de7)\" d=\"M 352.588961 227.08866 \r\nL 352.588961 9.64866 \r\n\" style=\"fill:none;stroke:#b0b0b0;stroke-linecap:square;stroke-width:0.8;\"/>\r\n     </g>\r\n     <g id=\"line2d_12\">\r\n      <g>\r\n       <use style=\"stroke:#000000;stroke-width:0.8;\" x=\"352.588961\" xlink:href=\"#m9edcf4872b\" y=\"227.08866\"/>\r\n      </g>\r\n     </g>\r\n     <g id=\"text_6\">\r\n      <!-- 500 -->\r\n      <g transform=\"translate(343.045211 241.687097)scale(0.1 -0.1)\">\r\n       <defs>\r\n        <path d=\"M 691 4666 \r\nL 3169 4666 \r\nL 3169 4134 \r\nL 1269 4134 \r\nL 1269 2991 \r\nQ 1406 3038 1543 3061 \r\nQ 1681 3084 1819 3084 \r\nQ 2600 3084 3056 2656 \r\nQ 3513 2228 3513 1497 \r\nQ 3513 744 3044 326 \r\nQ 2575 -91 1722 -91 \r\nQ 1428 -91 1123 -41 \r\nQ 819 9 494 109 \r\nL 494 744 \r\nQ 775 591 1075 516 \r\nQ 1375 441 1709 441 \r\nQ 2250 441 2565 725 \r\nQ 2881 1009 2881 1497 \r\nQ 2881 1984 2565 2268 \r\nQ 2250 2553 1709 2553 \r\nQ 1456 2553 1204 2497 \r\nQ 953 2441 691 2322 \r\nL 691 4666 \r\nz\r\n\" id=\"DejaVuSans-35\" transform=\"scale(0.015625)\"/>\r\n       </defs>\r\n       <use xlink:href=\"#DejaVuSans-35\"/>\r\n       <use x=\"63.623047\" xlink:href=\"#DejaVuSans-30\"/>\r\n       <use x=\"127.246094\" xlink:href=\"#DejaVuSans-30\"/>\r\n      </g>\r\n     </g>\r\n    </g>\r\n   </g>\r\n   <g id=\"matplotlib.axis_2\">\r\n    <g id=\"ytick_1\">\r\n     <g id=\"line2d_13\">\r\n      <path clip-path=\"url(#p5deac48de7)\" d=\"M 39.65 227.08866 \r\nL 374.45 227.08866 \r\n\" style=\"fill:none;stroke:#b0b0b0;stroke-linecap:square;stroke-width:0.8;\"/>\r\n     </g>\r\n     <g id=\"line2d_14\">\r\n      <defs>\r\n       <path d=\"M 0 0 \r\nL -3.5 0 \r\n\" id=\"m772cd21da2\" style=\"stroke:#000000;stroke-width:0.8;\"/>\r\n      </defs>\r\n      <g>\r\n       <use style=\"stroke:#000000;stroke-width:0.8;\" x=\"39.65\" xlink:href=\"#m772cd21da2\" y=\"227.08866\"/>\r\n      </g>\r\n     </g>\r\n     <g id=\"text_7\">\r\n      <!-- 0 -->\r\n      <g transform=\"translate(26.2875 230.887878)scale(0.1 -0.1)\">\r\n       <use xlink:href=\"#DejaVuSans-30\"/>\r\n      </g>\r\n     </g>\r\n    </g>\r\n    <g id=\"ytick_2\">\r\n     <g id=\"line2d_15\">\r\n      <path clip-path=\"url(#p5deac48de7)\" d=\"M 39.65 191.073753 \r\nL 374.45 191.073753 \r\n\" style=\"fill:none;stroke:#b0b0b0;stroke-linecap:square;stroke-width:0.8;\"/>\r\n     </g>\r\n     <g id=\"line2d_16\">\r\n      <g>\r\n       <use style=\"stroke:#000000;stroke-width:0.8;\" x=\"39.65\" xlink:href=\"#m772cd21da2\" y=\"191.073753\"/>\r\n      </g>\r\n     </g>\r\n     <g id=\"text_8\">\r\n      <!-- 500 -->\r\n      <g transform=\"translate(13.5625 194.872972)scale(0.1 -0.1)\">\r\n       <use xlink:href=\"#DejaVuSans-35\"/>\r\n       <use x=\"63.623047\" xlink:href=\"#DejaVuSans-30\"/>\r\n       <use x=\"127.246094\" xlink:href=\"#DejaVuSans-30\"/>\r\n      </g>\r\n     </g>\r\n    </g>\r\n    <g id=\"ytick_3\">\r\n     <g id=\"line2d_17\">\r\n      <path clip-path=\"url(#p5deac48de7)\" d=\"M 39.65 155.058846 \r\nL 374.45 155.058846 \r\n\" style=\"fill:none;stroke:#b0b0b0;stroke-linecap:square;stroke-width:0.8;\"/>\r\n     </g>\r\n     <g id=\"line2d_18\">\r\n      <g>\r\n       <use style=\"stroke:#000000;stroke-width:0.8;\" x=\"39.65\" xlink:href=\"#m772cd21da2\" y=\"155.058846\"/>\r\n      </g>\r\n     </g>\r\n     <g id=\"text_9\">\r\n      <!-- 1000 -->\r\n      <g transform=\"translate(7.2 158.858065)scale(0.1 -0.1)\">\r\n       <use xlink:href=\"#DejaVuSans-31\"/>\r\n       <use x=\"63.623047\" xlink:href=\"#DejaVuSans-30\"/>\r\n       <use x=\"127.246094\" xlink:href=\"#DejaVuSans-30\"/>\r\n       <use x=\"190.869141\" xlink:href=\"#DejaVuSans-30\"/>\r\n      </g>\r\n     </g>\r\n    </g>\r\n    <g id=\"ytick_4\">\r\n     <g id=\"line2d_19\">\r\n      <path clip-path=\"url(#p5deac48de7)\" d=\"M 39.65 119.043939 \r\nL 374.45 119.043939 \r\n\" style=\"fill:none;stroke:#b0b0b0;stroke-linecap:square;stroke-width:0.8;\"/>\r\n     </g>\r\n     <g id=\"line2d_20\">\r\n      <g>\r\n       <use style=\"stroke:#000000;stroke-width:0.8;\" x=\"39.65\" xlink:href=\"#m772cd21da2\" y=\"119.043939\"/>\r\n      </g>\r\n     </g>\r\n     <g id=\"text_10\">\r\n      <!-- 1500 -->\r\n      <g transform=\"translate(7.2 122.843158)scale(0.1 -0.1)\">\r\n       <use xlink:href=\"#DejaVuSans-31\"/>\r\n       <use x=\"63.623047\" xlink:href=\"#DejaVuSans-35\"/>\r\n       <use x=\"127.246094\" xlink:href=\"#DejaVuSans-30\"/>\r\n       <use x=\"190.869141\" xlink:href=\"#DejaVuSans-30\"/>\r\n      </g>\r\n     </g>\r\n    </g>\r\n    <g id=\"ytick_5\">\r\n     <g id=\"line2d_21\">\r\n      <path clip-path=\"url(#p5deac48de7)\" d=\"M 39.65 83.029032 \r\nL 374.45 83.029032 \r\n\" style=\"fill:none;stroke:#b0b0b0;stroke-linecap:square;stroke-width:0.8;\"/>\r\n     </g>\r\n     <g id=\"line2d_22\">\r\n      <g>\r\n       <use style=\"stroke:#000000;stroke-width:0.8;\" x=\"39.65\" xlink:href=\"#m772cd21da2\" y=\"83.029032\"/>\r\n      </g>\r\n     </g>\r\n     <g id=\"text_11\">\r\n      <!-- 2000 -->\r\n      <g transform=\"translate(7.2 86.828251)scale(0.1 -0.1)\">\r\n       <use xlink:href=\"#DejaVuSans-32\"/>\r\n       <use x=\"63.623047\" xlink:href=\"#DejaVuSans-30\"/>\r\n       <use x=\"127.246094\" xlink:href=\"#DejaVuSans-30\"/>\r\n       <use x=\"190.869141\" xlink:href=\"#DejaVuSans-30\"/>\r\n      </g>\r\n     </g>\r\n    </g>\r\n    <g id=\"ytick_6\">\r\n     <g id=\"line2d_23\">\r\n      <path clip-path=\"url(#p5deac48de7)\" d=\"M 39.65 47.014126 \r\nL 374.45 47.014126 \r\n\" style=\"fill:none;stroke:#b0b0b0;stroke-linecap:square;stroke-width:0.8;\"/>\r\n     </g>\r\n     <g id=\"line2d_24\">\r\n      <g>\r\n       <use style=\"stroke:#000000;stroke-width:0.8;\" x=\"39.65\" xlink:href=\"#m772cd21da2\" y=\"47.014126\"/>\r\n      </g>\r\n     </g>\r\n     <g id=\"text_12\">\r\n      <!-- 2500 -->\r\n      <g transform=\"translate(7.2 50.813344)scale(0.1 -0.1)\">\r\n       <use xlink:href=\"#DejaVuSans-32\"/>\r\n       <use x=\"63.623047\" xlink:href=\"#DejaVuSans-35\"/>\r\n       <use x=\"127.246094\" xlink:href=\"#DejaVuSans-30\"/>\r\n       <use x=\"190.869141\" xlink:href=\"#DejaVuSans-30\"/>\r\n      </g>\r\n     </g>\r\n    </g>\r\n    <g id=\"ytick_7\">\r\n     <g id=\"line2d_25\">\r\n      <path clip-path=\"url(#p5deac48de7)\" d=\"M 39.65 10.999219 \r\nL 374.45 10.999219 \r\n\" style=\"fill:none;stroke:#b0b0b0;stroke-linecap:square;stroke-width:0.8;\"/>\r\n     </g>\r\n     <g id=\"line2d_26\">\r\n      <g>\r\n       <use style=\"stroke:#000000;stroke-width:0.8;\" x=\"39.65\" xlink:href=\"#m772cd21da2\" y=\"10.999219\"/>\r\n      </g>\r\n     </g>\r\n     <g id=\"text_13\">\r\n      <!-- 3000 -->\r\n      <g transform=\"translate(7.2 14.798437)scale(0.1 -0.1)\">\r\n       <use xlink:href=\"#DejaVuSans-33\"/>\r\n       <use x=\"63.623047\" xlink:href=\"#DejaVuSans-30\"/>\r\n       <use x=\"127.246094\" xlink:href=\"#DejaVuSans-30\"/>\r\n       <use x=\"190.869141\" xlink:href=\"#DejaVuSans-30\"/>\r\n      </g>\r\n     </g>\r\n    </g>\r\n   </g>\r\n   <g id=\"patch_13\">\r\n    <path d=\"M 39.65 227.08866 \r\nL 39.65 9.64866 \r\n\" style=\"fill:none;stroke:#000000;stroke-linecap:square;stroke-linejoin:miter;stroke-width:0.8;\"/>\r\n   </g>\r\n   <g id=\"patch_14\">\r\n    <path d=\"M 374.45 227.08866 \r\nL 374.45 9.64866 \r\n\" style=\"fill:none;stroke:#000000;stroke-linecap:square;stroke-linejoin:miter;stroke-width:0.8;\"/>\r\n   </g>\r\n   <g id=\"patch_15\">\r\n    <path d=\"M 39.65 227.08866 \r\nL 374.45 227.08866 \r\n\" style=\"fill:none;stroke:#000000;stroke-linecap:square;stroke-linejoin:miter;stroke-width:0.8;\"/>\r\n   </g>\r\n   <g id=\"patch_16\">\r\n    <path d=\"M 39.65 9.64866 \r\nL 374.45 9.64866 \r\n\" style=\"fill:none;stroke:#000000;stroke-linecap:square;stroke-linejoin:miter;stroke-width:0.8;\"/>\r\n   </g>\r\n  </g>\r\n </g>\r\n <defs>\r\n  <clipPath id=\"p5deac48de7\">\r\n   <rect height=\"217.44\" width=\"334.8\" x=\"39.65\" y=\"9.64866\"/>\r\n  </clipPath>\r\n </defs>\r\n</svg>\r\n",
      "text/plain": [
       "<Figure size 432x288 with 1 Axes>"
      ]
     },
     "metadata": {
      "needs_background": "light"
     }
    }
   ],
   "metadata": {}
  },
  {
   "cell_type": "code",
   "execution_count": 9,
   "source": [
    "movies_num['imdb_score'].hist()"
   ],
   "outputs": [
    {
     "output_type": "execute_result",
     "data": {
      "text/plain": [
       "<AxesSubplot:>"
      ]
     },
     "metadata": {},
     "execution_count": 9
    },
    {
     "output_type": "display_data",
     "data": {
      "image/png": "[encoded data removed]",
      "image/svg+xml": "<?xml version=\"1.0\" encoding=\"utf-8\" standalone=\"no\"?>\r\n<!DOCTYPE svg PUBLIC \"-//W3C//DTD SVG 1.1//EN\"\r\n  \"http://www.w3.org/Graphics/SVG/1.1/DTD/svg11.dtd\">\r\n<svg height=\"248.518125pt\" version=\"1.1\" viewBox=\"0 0 381.65 248.518125\" width=\"381.65pt\" xmlns=\"http://www.w3.org/2000/svg\" xmlns:xlink=\"http://www.w3.org/1999/xlink\">\r\n <metadata>\r\n  <rdf:RDF xmlns:cc=\"http://creativecommons.org/ns#\" xmlns:dc=\"http://purl.org/dc/elements/1.1/\" xmlns:rdf=\"http://www.w3.org/1999/02/22-rdf-syntax-ns#\">\r\n   <cc:Work>\r\n    <dc:type rdf:resource=\"http://purl.org/dc/dcmitype/StillImage\"/>\r\n    <dc:date>2021-09-03T08:51:56.572713</dc:date>\r\n    <dc:format>image/svg+xml</dc:format>\r\n    <dc:creator>\r\n     <cc:Agent>\r\n      <dc:title>Matplotlib v3.4.3, https://matplotlib.org/</dc:title>\r\n     </cc:Agent>\r\n    </dc:creator>\r\n   </cc:Work>\r\n  </rdf:RDF>\r\n </metadata>\r\n <defs>\r\n  <style type=\"text/css\">*{stroke-linecap:butt;stroke-linejoin:round;}</style>\r\n </defs>\r\n <g id=\"figure_1\">\r\n  <g id=\"patch_1\">\r\n   <path d=\"M -0 248.518125 \r\nL 381.65 248.518125 \r\nL 381.65 0 \r\nL -0 0 \r\nz\r\n\" style=\"fill:none;\"/>\r\n  </g>\r\n  <g id=\"axes_1\">\r\n   <g id=\"patch_2\">\r\n    <path d=\"M 39.65 224.64 \r\nL 374.45 224.64 \r\nL 374.45 7.2 \r\nL 39.65 7.2 \r\nz\r\n\" style=\"fill:#ffffff;\"/>\r\n   </g>\r\n   <g id=\"patch_3\">\r\n    <path clip-path=\"url(#p258487b672)\" d=\"M 54.868182 224.64 \r\nL 85.304545 224.64 \r\nL 85.304545 222.452956 \r\nL 54.868182 222.452956 \r\nz\r\n\" style=\"fill:#1f77b4;\"/>\r\n   </g>\r\n   <g id=\"patch_4\">\r\n    <path clip-path=\"url(#p258487b672)\" d=\"M 85.304545 224.64 \r\nL 115.740909 224.64 \r\nL 115.740909 219.445771 \r\nL 85.304545 219.445771 \r\nz\r\n\" style=\"fill:#1f77b4;\"/>\r\n   </g>\r\n   <g id=\"patch_5\">\r\n    <path clip-path=\"url(#p258487b672)\" d=\"M 115.740909 224.64 \r\nL 146.177273 224.64 \r\nL 146.177273 210.697595 \r\nL 115.740909 210.697595 \r\nz\r\n\" style=\"fill:#1f77b4;\"/>\r\n   </g>\r\n   <g id=\"patch_6\">\r\n    <path clip-path=\"url(#p258487b672)\" d=\"M 146.177273 224.64 \r\nL 176.613636 224.64 \r\nL 176.613636 194.294767 \r\nL 146.177273 194.294767 \r\nz\r\n\" style=\"fill:#1f77b4;\"/>\r\n   </g>\r\n   <g id=\"patch_7\">\r\n    <path clip-path=\"url(#p258487b672)\" d=\"M 176.613636 224.64 \r\nL 207.05 224.64 \r\nL 207.05 145.496351 \r\nL 176.613636 145.496351 \r\nz\r\n\" style=\"fill:#1f77b4;\"/>\r\n   </g>\r\n   <g id=\"patch_8\">\r\n    <path clip-path=\"url(#p258487b672)\" d=\"M 207.05 224.64 \r\nL 237.486364 224.64 \r\nL 237.486364 66.352702 \r\nL 207.05 66.352702 \r\nz\r\n\" style=\"fill:#1f77b4;\"/>\r\n   </g>\r\n   <g id=\"patch_9\">\r\n    <path clip-path=\"url(#p258487b672)\" d=\"M 237.486364 224.64 \r\nL 267.922727 224.64 \r\nL 267.922727 17.554286 \r\nL 237.486364 17.554286 \r\nz\r\n\" style=\"fill:#1f77b4;\"/>\r\n   </g>\r\n   <g id=\"patch_10\">\r\n    <path clip-path=\"url(#p258487b672)\" d=\"M 267.922727 224.64 \r\nL 298.359091 224.64 \r\nL 298.359091 76.331089 \r\nL 267.922727 76.331089 \r\nz\r\n\" style=\"fill:#1f77b4;\"/>\r\n   </g>\r\n   <g id=\"patch_11\">\r\n    <path clip-path=\"url(#p258487b672)\" d=\"M 298.359091 224.64 \r\nL 328.795455 224.64 \r\nL 328.795455 182.676096 \r\nL 298.359091 182.676096 \r\nz\r\n\" style=\"fill:#1f77b4;\"/>\r\n   </g>\r\n   <g id=\"patch_12\">\r\n    <path clip-path=\"url(#p258487b672)\" d=\"M 328.795455 224.64 \r\nL 359.231818 224.64 \r\nL 359.231818 221.769505 \r\nL 328.795455 221.769505 \r\nz\r\n\" style=\"fill:#1f77b4;\"/>\r\n   </g>\r\n   <g id=\"matplotlib.axis_1\">\r\n    <g id=\"xtick_1\">\r\n     <g id=\"line2d_1\">\r\n      <path clip-path=\"url(#p258487b672)\" d=\"M 70.278999 224.64 \r\nL 70.278999 7.2 \r\n\" style=\"fill:none;stroke:#b0b0b0;stroke-linecap:square;stroke-width:0.8;\"/>\r\n     </g>\r\n     <g id=\"line2d_2\">\r\n      <defs>\r\n       <path d=\"M 0 0 \r\nL 0 3.5 \r\n\" id=\"m7a8355a3f9\" style=\"stroke:#000000;stroke-width:0.8;\"/>\r\n      </defs>\r\n      <g>\r\n       <use style=\"stroke:#000000;stroke-width:0.8;\" x=\"70.278999\" xlink:href=\"#m7a8355a3f9\" y=\"224.64\"/>\r\n      </g>\r\n     </g>\r\n     <g id=\"text_1\">\r\n      <!-- 2 -->\r\n      <g transform=\"translate(67.097749 239.238437)scale(0.1 -0.1)\">\r\n       <defs>\r\n        <path d=\"M 1228 531 \r\nL 3431 531 \r\nL 3431 0 \r\nL 469 0 \r\nL 469 531 \r\nQ 828 903 1448 1529 \r\nQ 2069 2156 2228 2338 \r\nQ 2531 2678 2651 2914 \r\nQ 2772 3150 2772 3378 \r\nQ 2772 3750 2511 3984 \r\nQ 2250 4219 1831 4219 \r\nQ 1534 4219 1204 4116 \r\nQ 875 4013 500 3803 \r\nL 500 4441 \r\nQ 881 4594 1212 4672 \r\nQ 1544 4750 1819 4750 \r\nQ 2544 4750 2975 4387 \r\nQ 3406 4025 3406 3419 \r\nQ 3406 3131 3298 2873 \r\nQ 3191 2616 2906 2266 \r\nQ 2828 2175 2409 1742 \r\nQ 1991 1309 1228 531 \r\nz\r\n\" id=\"DejaVuSans-32\" transform=\"scale(0.015625)\"/>\r\n       </defs>\r\n       <use xlink:href=\"#DejaVuSans-32\"/>\r\n      </g>\r\n     </g>\r\n    </g>\r\n    <g id=\"xtick_2\">\r\n     <g id=\"line2d_3\">\r\n      <path clip-path=\"url(#p258487b672)\" d=\"M 108.806041 224.64 \r\nL 108.806041 7.2 \r\n\" style=\"fill:none;stroke:#b0b0b0;stroke-linecap:square;stroke-width:0.8;\"/>\r\n     </g>\r\n     <g id=\"line2d_4\">\r\n      <g>\r\n       <use style=\"stroke:#000000;stroke-width:0.8;\" x=\"108.806041\" xlink:href=\"#m7a8355a3f9\" y=\"224.64\"/>\r\n      </g>\r\n     </g>\r\n     <g id=\"text_2\">\r\n      <!-- 3 -->\r\n      <g transform=\"translate(105.624791 239.238437)scale(0.1 -0.1)\">\r\n       <defs>\r\n        <path d=\"M 2597 2516 \r\nQ 3050 2419 3304 2112 \r\nQ 3559 1806 3559 1356 \r\nQ 3559 666 3084 287 \r\nQ 2609 -91 1734 -91 \r\nQ 1441 -91 1130 -33 \r\nQ 819 25 488 141 \r\nL 488 750 \r\nQ 750 597 1062 519 \r\nQ 1375 441 1716 441 \r\nQ 2309 441 2620 675 \r\nQ 2931 909 2931 1356 \r\nQ 2931 1769 2642 2001 \r\nQ 2353 2234 1838 2234 \r\nL 1294 2234 \r\nL 1294 2753 \r\nL 1863 2753 \r\nQ 2328 2753 2575 2939 \r\nQ 2822 3125 2822 3475 \r\nQ 2822 3834 2567 4026 \r\nQ 2313 4219 1838 4219 \r\nQ 1578 4219 1281 4162 \r\nQ 984 4106 628 3988 \r\nL 628 4550 \r\nQ 988 4650 1302 4700 \r\nQ 1616 4750 1894 4750 \r\nQ 2613 4750 3031 4423 \r\nQ 3450 4097 3450 3541 \r\nQ 3450 3153 3228 2886 \r\nQ 3006 2619 2597 2516 \r\nz\r\n\" id=\"DejaVuSans-33\" transform=\"scale(0.015625)\"/>\r\n       </defs>\r\n       <use xlink:href=\"#DejaVuSans-33\"/>\r\n      </g>\r\n     </g>\r\n    </g>\r\n    <g id=\"xtick_3\">\r\n     <g id=\"line2d_5\">\r\n      <path clip-path=\"url(#p258487b672)\" d=\"M 147.333084 224.64 \r\nL 147.333084 7.2 \r\n\" style=\"fill:none;stroke:#b0b0b0;stroke-linecap:square;stroke-width:0.8;\"/>\r\n     </g>\r\n     <g id=\"line2d_6\">\r\n      <g>\r\n       <use style=\"stroke:#000000;stroke-width:0.8;\" x=\"147.333084\" xlink:href=\"#m7a8355a3f9\" y=\"224.64\"/>\r\n      </g>\r\n     </g>\r\n     <g id=\"text_3\">\r\n      <!-- 4 -->\r\n      <g transform=\"translate(144.151834 239.238437)scale(0.1 -0.1)\">\r\n       <defs>\r\n        <path d=\"M 2419 4116 \r\nL 825 1625 \r\nL 2419 1625 \r\nL 2419 4116 \r\nz\r\nM 2253 4666 \r\nL 3047 4666 \r\nL 3047 1625 \r\nL 3713 1625 \r\nL 3713 1100 \r\nL 3047 1100 \r\nL 3047 0 \r\nL 2419 0 \r\nL 2419 1100 \r\nL 313 1100 \r\nL 313 1709 \r\nL 2253 4666 \r\nz\r\n\" id=\"DejaVuSans-34\" transform=\"scale(0.015625)\"/>\r\n       </defs>\r\n       <use xlink:href=\"#DejaVuSans-34\"/>\r\n      </g>\r\n     </g>\r\n    </g>\r\n    <g id=\"xtick_4\">\r\n     <g id=\"line2d_7\">\r\n      <path clip-path=\"url(#p258487b672)\" d=\"M 185.860127 224.64 \r\nL 185.860127 7.2 \r\n\" style=\"fill:none;stroke:#b0b0b0;stroke-linecap:square;stroke-width:0.8;\"/>\r\n     </g>\r\n     <g id=\"line2d_8\">\r\n      <g>\r\n       <use style=\"stroke:#000000;stroke-width:0.8;\" x=\"185.860127\" xlink:href=\"#m7a8355a3f9\" y=\"224.64\"/>\r\n      </g>\r\n     </g>\r\n     <g id=\"text_4\">\r\n      <!-- 5 -->\r\n      <g transform=\"translate(182.678877 239.238437)scale(0.1 -0.1)\">\r\n       <defs>\r\n        <path d=\"M 691 4666 \r\nL 3169 4666 \r\nL 3169 4134 \r\nL 1269 4134 \r\nL 1269 2991 \r\nQ 1406 3038 1543 3061 \r\nQ 1681 3084 1819 3084 \r\nQ 2600 3084 3056 2656 \r\nQ 3513 2228 3513 1497 \r\nQ 3513 744 3044 326 \r\nQ 2575 -91 1722 -91 \r\nQ 1428 -91 1123 -41 \r\nQ 819 9 494 109 \r\nL 494 744 \r\nQ 775 591 1075 516 \r\nQ 1375 441 1709 441 \r\nQ 2250 441 2565 725 \r\nQ 2881 1009 2881 1497 \r\nQ 2881 1984 2565 2268 \r\nQ 2250 2553 1709 2553 \r\nQ 1456 2553 1204 2497 \r\nQ 953 2441 691 2322 \r\nL 691 4666 \r\nz\r\n\" id=\"DejaVuSans-35\" transform=\"scale(0.015625)\"/>\r\n       </defs>\r\n       <use xlink:href=\"#DejaVuSans-35\"/>\r\n      </g>\r\n     </g>\r\n    </g>\r\n    <g id=\"xtick_5\">\r\n     <g id=\"line2d_9\">\r\n      <path clip-path=\"url(#p258487b672)\" d=\"M 224.387169 224.64 \r\nL 224.387169 7.2 \r\n\" style=\"fill:none;stroke:#b0b0b0;stroke-linecap:square;stroke-width:0.8;\"/>\r\n     </g>\r\n     <g id=\"line2d_10\">\r\n      <g>\r\n       <use style=\"stroke:#000000;stroke-width:0.8;\" x=\"224.387169\" xlink:href=\"#m7a8355a3f9\" y=\"224.64\"/>\r\n      </g>\r\n     </g>\r\n     <g id=\"text_5\">\r\n      <!-- 6 -->\r\n      <g transform=\"translate(221.205919 239.238437)scale(0.1 -0.1)\">\r\n       <defs>\r\n        <path d=\"M 2113 2584 \r\nQ 1688 2584 1439 2293 \r\nQ 1191 2003 1191 1497 \r\nQ 1191 994 1439 701 \r\nQ 1688 409 2113 409 \r\nQ 2538 409 2786 701 \r\nQ 3034 994 3034 1497 \r\nQ 3034 2003 2786 2293 \r\nQ 2538 2584 2113 2584 \r\nz\r\nM 3366 4563 \r\nL 3366 3988 \r\nQ 3128 4100 2886 4159 \r\nQ 2644 4219 2406 4219 \r\nQ 1781 4219 1451 3797 \r\nQ 1122 3375 1075 2522 \r\nQ 1259 2794 1537 2939 \r\nQ 1816 3084 2150 3084 \r\nQ 2853 3084 3261 2657 \r\nQ 3669 2231 3669 1497 \r\nQ 3669 778 3244 343 \r\nQ 2819 -91 2113 -91 \r\nQ 1303 -91 875 529 \r\nQ 447 1150 447 2328 \r\nQ 447 3434 972 4092 \r\nQ 1497 4750 2381 4750 \r\nQ 2619 4750 2861 4703 \r\nQ 3103 4656 3366 4563 \r\nz\r\n\" id=\"DejaVuSans-36\" transform=\"scale(0.015625)\"/>\r\n       </defs>\r\n       <use xlink:href=\"#DejaVuSans-36\"/>\r\n      </g>\r\n     </g>\r\n    </g>\r\n    <g id=\"xtick_6\">\r\n     <g id=\"line2d_11\">\r\n      <path clip-path=\"url(#p258487b672)\" d=\"M 262.914212 224.64 \r\nL 262.914212 7.2 \r\n\" style=\"fill:none;stroke:#b0b0b0;stroke-linecap:square;stroke-width:0.8;\"/>\r\n     </g>\r\n     <g id=\"line2d_12\">\r\n      <g>\r\n       <use style=\"stroke:#000000;stroke-width:0.8;\" x=\"262.914212\" xlink:href=\"#m7a8355a3f9\" y=\"224.64\"/>\r\n      </g>\r\n     </g>\r\n     <g id=\"text_6\">\r\n      <!-- 7 -->\r\n      <g transform=\"translate(259.732962 239.238437)scale(0.1 -0.1)\">\r\n       <defs>\r\n        <path d=\"M 525 4666 \r\nL 3525 4666 \r\nL 3525 4397 \r\nL 1831 0 \r\nL 1172 0 \r\nL 2766 4134 \r\nL 525 4134 \r\nL 525 4666 \r\nz\r\n\" id=\"DejaVuSans-37\" transform=\"scale(0.015625)\"/>\r\n       </defs>\r\n       <use xlink:href=\"#DejaVuSans-37\"/>\r\n      </g>\r\n     </g>\r\n    </g>\r\n    <g id=\"xtick_7\">\r\n     <g id=\"line2d_13\">\r\n      <path clip-path=\"url(#p258487b672)\" d=\"M 301.441254 224.64 \r\nL 301.441254 7.2 \r\n\" style=\"fill:none;stroke:#b0b0b0;stroke-linecap:square;stroke-width:0.8;\"/>\r\n     </g>\r\n     <g id=\"line2d_14\">\r\n      <g>\r\n       <use style=\"stroke:#000000;stroke-width:0.8;\" x=\"301.441254\" xlink:href=\"#m7a8355a3f9\" y=\"224.64\"/>\r\n      </g>\r\n     </g>\r\n     <g id=\"text_7\">\r\n      <!-- 8 -->\r\n      <g transform=\"translate(298.260004 239.238437)scale(0.1 -0.1)\">\r\n       <defs>\r\n        <path d=\"M 2034 2216 \r\nQ 1584 2216 1326 1975 \r\nQ 1069 1734 1069 1313 \r\nQ 1069 891 1326 650 \r\nQ 1584 409 2034 409 \r\nQ 2484 409 2743 651 \r\nQ 3003 894 3003 1313 \r\nQ 3003 1734 2745 1975 \r\nQ 2488 2216 2034 2216 \r\nz\r\nM 1403 2484 \r\nQ 997 2584 770 2862 \r\nQ 544 3141 544 3541 \r\nQ 544 4100 942 4425 \r\nQ 1341 4750 2034 4750 \r\nQ 2731 4750 3128 4425 \r\nQ 3525 4100 3525 3541 \r\nQ 3525 3141 3298 2862 \r\nQ 3072 2584 2669 2484 \r\nQ 3125 2378 3379 2068 \r\nQ 3634 1759 3634 1313 \r\nQ 3634 634 3220 271 \r\nQ 2806 -91 2034 -91 \r\nQ 1263 -91 848 271 \r\nQ 434 634 434 1313 \r\nQ 434 1759 690 2068 \r\nQ 947 2378 1403 2484 \r\nz\r\nM 1172 3481 \r\nQ 1172 3119 1398 2916 \r\nQ 1625 2713 2034 2713 \r\nQ 2441 2713 2670 2916 \r\nQ 2900 3119 2900 3481 \r\nQ 2900 3844 2670 4047 \r\nQ 2441 4250 2034 4250 \r\nQ 1625 4250 1398 4047 \r\nQ 1172 3844 1172 3481 \r\nz\r\n\" id=\"DejaVuSans-38\" transform=\"scale(0.015625)\"/>\r\n       </defs>\r\n       <use xlink:href=\"#DejaVuSans-38\"/>\r\n      </g>\r\n     </g>\r\n    </g>\r\n    <g id=\"xtick_8\">\r\n     <g id=\"line2d_15\">\r\n      <path clip-path=\"url(#p258487b672)\" d=\"M 339.968297 224.64 \r\nL 339.968297 7.2 \r\n\" style=\"fill:none;stroke:#b0b0b0;stroke-linecap:square;stroke-width:0.8;\"/>\r\n     </g>\r\n     <g id=\"line2d_16\">\r\n      <g>\r\n       <use style=\"stroke:#000000;stroke-width:0.8;\" x=\"339.968297\" xlink:href=\"#m7a8355a3f9\" y=\"224.64\"/>\r\n      </g>\r\n     </g>\r\n     <g id=\"text_8\">\r\n      <!-- 9 -->\r\n      <g transform=\"translate(336.787047 239.238437)scale(0.1 -0.1)\">\r\n       <defs>\r\n        <path d=\"M 703 97 \r\nL 703 672 \r\nQ 941 559 1184 500 \r\nQ 1428 441 1663 441 \r\nQ 2288 441 2617 861 \r\nQ 2947 1281 2994 2138 \r\nQ 2813 1869 2534 1725 \r\nQ 2256 1581 1919 1581 \r\nQ 1219 1581 811 2004 \r\nQ 403 2428 403 3163 \r\nQ 403 3881 828 4315 \r\nQ 1253 4750 1959 4750 \r\nQ 2769 4750 3195 4129 \r\nQ 3622 3509 3622 2328 \r\nQ 3622 1225 3098 567 \r\nQ 2575 -91 1691 -91 \r\nQ 1453 -91 1209 -44 \r\nQ 966 3 703 97 \r\nz\r\nM 1959 2075 \r\nQ 2384 2075 2632 2365 \r\nQ 2881 2656 2881 3163 \r\nQ 2881 3666 2632 3958 \r\nQ 2384 4250 1959 4250 \r\nQ 1534 4250 1286 3958 \r\nQ 1038 3666 1038 3163 \r\nQ 1038 2656 1286 2365 \r\nQ 1534 2075 1959 2075 \r\nz\r\n\" id=\"DejaVuSans-39\" transform=\"scale(0.015625)\"/>\r\n       </defs>\r\n       <use xlink:href=\"#DejaVuSans-39\"/>\r\n      </g>\r\n     </g>\r\n    </g>\r\n   </g>\r\n   <g id=\"matplotlib.axis_2\">\r\n    <g id=\"ytick_1\">\r\n     <g id=\"line2d_17\">\r\n      <path clip-path=\"url(#p258487b672)\" d=\"M 39.65 224.64 \r\nL 374.45 224.64 \r\n\" style=\"fill:none;stroke:#b0b0b0;stroke-linecap:square;stroke-width:0.8;\"/>\r\n     </g>\r\n     <g id=\"line2d_18\">\r\n      <defs>\r\n       <path d=\"M 0 0 \r\nL -3.5 0 \r\n\" id=\"m6ec2681f94\" style=\"stroke:#000000;stroke-width:0.8;\"/>\r\n      </defs>\r\n      <g>\r\n       <use style=\"stroke:#000000;stroke-width:0.8;\" x=\"39.65\" xlink:href=\"#m6ec2681f94\" y=\"224.64\"/>\r\n      </g>\r\n     </g>\r\n     <g id=\"text_9\">\r\n      <!-- 0 -->\r\n      <g transform=\"translate(26.2875 228.439219)scale(0.1 -0.1)\">\r\n       <defs>\r\n        <path d=\"M 2034 4250 \r\nQ 1547 4250 1301 3770 \r\nQ 1056 3291 1056 2328 \r\nQ 1056 1369 1301 889 \r\nQ 1547 409 2034 409 \r\nQ 2525 409 2770 889 \r\nQ 3016 1369 3016 2328 \r\nQ 3016 3291 2770 3770 \r\nQ 2525 4250 2034 4250 \r\nz\r\nM 2034 4750 \r\nQ 2819 4750 3233 4129 \r\nQ 3647 3509 3647 2328 \r\nQ 3647 1150 3233 529 \r\nQ 2819 -91 2034 -91 \r\nQ 1250 -91 836 529 \r\nQ 422 1150 422 2328 \r\nQ 422 3509 836 4129 \r\nQ 1250 4750 2034 4750 \r\nz\r\n\" id=\"DejaVuSans-30\" transform=\"scale(0.015625)\"/>\r\n       </defs>\r\n       <use xlink:href=\"#DejaVuSans-30\"/>\r\n      </g>\r\n     </g>\r\n    </g>\r\n    <g id=\"ytick_2\">\r\n     <g id=\"line2d_19\">\r\n      <path clip-path=\"url(#p258487b672)\" d=\"M 39.65 197.301952 \r\nL 374.45 197.301952 \r\n\" style=\"fill:none;stroke:#b0b0b0;stroke-linecap:square;stroke-width:0.8;\"/>\r\n     </g>\r\n     <g id=\"line2d_20\">\r\n      <g>\r\n       <use style=\"stroke:#000000;stroke-width:0.8;\" x=\"39.65\" xlink:href=\"#m6ec2681f94\" y=\"197.301952\"/>\r\n      </g>\r\n     </g>\r\n     <g id=\"text_10\">\r\n      <!-- 200 -->\r\n      <g transform=\"translate(13.5625 201.101171)scale(0.1 -0.1)\">\r\n       <use xlink:href=\"#DejaVuSans-32\"/>\r\n       <use x=\"63.623047\" xlink:href=\"#DejaVuSans-30\"/>\r\n       <use x=\"127.246094\" xlink:href=\"#DejaVuSans-30\"/>\r\n      </g>\r\n     </g>\r\n    </g>\r\n    <g id=\"ytick_3\">\r\n     <g id=\"line2d_21\">\r\n      <path clip-path=\"url(#p258487b672)\" d=\"M 39.65 169.963904 \r\nL 374.45 169.963904 \r\n\" style=\"fill:none;stroke:#b0b0b0;stroke-linecap:square;stroke-width:0.8;\"/>\r\n     </g>\r\n     <g id=\"line2d_22\">\r\n      <g>\r\n       <use style=\"stroke:#000000;stroke-width:0.8;\" x=\"39.65\" xlink:href=\"#m6ec2681f94\" y=\"169.963904\"/>\r\n      </g>\r\n     </g>\r\n     <g id=\"text_11\">\r\n      <!-- 400 -->\r\n      <g transform=\"translate(13.5625 173.763123)scale(0.1 -0.1)\">\r\n       <use xlink:href=\"#DejaVuSans-34\"/>\r\n       <use x=\"63.623047\" xlink:href=\"#DejaVuSans-30\"/>\r\n       <use x=\"127.246094\" xlink:href=\"#DejaVuSans-30\"/>\r\n      </g>\r\n     </g>\r\n    </g>\r\n    <g id=\"ytick_4\">\r\n     <g id=\"line2d_23\">\r\n      <path clip-path=\"url(#p258487b672)\" d=\"M 39.65 142.625856 \r\nL 374.45 142.625856 \r\n\" style=\"fill:none;stroke:#b0b0b0;stroke-linecap:square;stroke-width:0.8;\"/>\r\n     </g>\r\n     <g id=\"line2d_24\">\r\n      <g>\r\n       <use style=\"stroke:#000000;stroke-width:0.8;\" x=\"39.65\" xlink:href=\"#m6ec2681f94\" y=\"142.625856\"/>\r\n      </g>\r\n     </g>\r\n     <g id=\"text_12\">\r\n      <!-- 600 -->\r\n      <g transform=\"translate(13.5625 146.425074)scale(0.1 -0.1)\">\r\n       <use xlink:href=\"#DejaVuSans-36\"/>\r\n       <use x=\"63.623047\" xlink:href=\"#DejaVuSans-30\"/>\r\n       <use x=\"127.246094\" xlink:href=\"#DejaVuSans-30\"/>\r\n      </g>\r\n     </g>\r\n    </g>\r\n    <g id=\"ytick_5\">\r\n     <g id=\"line2d_25\">\r\n      <path clip-path=\"url(#p258487b672)\" d=\"M 39.65 115.287808 \r\nL 374.45 115.287808 \r\n\" style=\"fill:none;stroke:#b0b0b0;stroke-linecap:square;stroke-width:0.8;\"/>\r\n     </g>\r\n     <g id=\"line2d_26\">\r\n      <g>\r\n       <use style=\"stroke:#000000;stroke-width:0.8;\" x=\"39.65\" xlink:href=\"#m6ec2681f94\" y=\"115.287808\"/>\r\n      </g>\r\n     </g>\r\n     <g id=\"text_13\">\r\n      <!-- 800 -->\r\n      <g transform=\"translate(13.5625 119.087026)scale(0.1 -0.1)\">\r\n       <use xlink:href=\"#DejaVuSans-38\"/>\r\n       <use x=\"63.623047\" xlink:href=\"#DejaVuSans-30\"/>\r\n       <use x=\"127.246094\" xlink:href=\"#DejaVuSans-30\"/>\r\n      </g>\r\n     </g>\r\n    </g>\r\n    <g id=\"ytick_6\">\r\n     <g id=\"line2d_27\">\r\n      <path clip-path=\"url(#p258487b672)\" d=\"M 39.65 87.94976 \r\nL 374.45 87.94976 \r\n\" style=\"fill:none;stroke:#b0b0b0;stroke-linecap:square;stroke-width:0.8;\"/>\r\n     </g>\r\n     <g id=\"line2d_28\">\r\n      <g>\r\n       <use style=\"stroke:#000000;stroke-width:0.8;\" x=\"39.65\" xlink:href=\"#m6ec2681f94\" y=\"87.94976\"/>\r\n      </g>\r\n     </g>\r\n     <g id=\"text_14\">\r\n      <!-- 1000 -->\r\n      <g transform=\"translate(7.2 91.748978)scale(0.1 -0.1)\">\r\n       <defs>\r\n        <path d=\"M 794 531 \r\nL 1825 531 \r\nL 1825 4091 \r\nL 703 3866 \r\nL 703 4441 \r\nL 1819 4666 \r\nL 2450 4666 \r\nL 2450 531 \r\nL 3481 531 \r\nL 3481 0 \r\nL 794 0 \r\nL 794 531 \r\nz\r\n\" id=\"DejaVuSans-31\" transform=\"scale(0.015625)\"/>\r\n       </defs>\r\n       <use xlink:href=\"#DejaVuSans-31\"/>\r\n       <use x=\"63.623047\" xlink:href=\"#DejaVuSans-30\"/>\r\n       <use x=\"127.246094\" xlink:href=\"#DejaVuSans-30\"/>\r\n       <use x=\"190.869141\" xlink:href=\"#DejaVuSans-30\"/>\r\n      </g>\r\n     </g>\r\n    </g>\r\n    <g id=\"ytick_7\">\r\n     <g id=\"line2d_29\">\r\n      <path clip-path=\"url(#p258487b672)\" d=\"M 39.65 60.611711 \r\nL 374.45 60.611711 \r\n\" style=\"fill:none;stroke:#b0b0b0;stroke-linecap:square;stroke-width:0.8;\"/>\r\n     </g>\r\n     <g id=\"line2d_30\">\r\n      <g>\r\n       <use style=\"stroke:#000000;stroke-width:0.8;\" x=\"39.65\" xlink:href=\"#m6ec2681f94\" y=\"60.611711\"/>\r\n      </g>\r\n     </g>\r\n     <g id=\"text_15\">\r\n      <!-- 1200 -->\r\n      <g transform=\"translate(7.2 64.41093)scale(0.1 -0.1)\">\r\n       <use xlink:href=\"#DejaVuSans-31\"/>\r\n       <use x=\"63.623047\" xlink:href=\"#DejaVuSans-32\"/>\r\n       <use x=\"127.246094\" xlink:href=\"#DejaVuSans-30\"/>\r\n       <use x=\"190.869141\" xlink:href=\"#DejaVuSans-30\"/>\r\n      </g>\r\n     </g>\r\n    </g>\r\n    <g id=\"ytick_8\">\r\n     <g id=\"line2d_31\">\r\n      <path clip-path=\"url(#p258487b672)\" d=\"M 39.65 33.273663 \r\nL 374.45 33.273663 \r\n\" style=\"fill:none;stroke:#b0b0b0;stroke-linecap:square;stroke-width:0.8;\"/>\r\n     </g>\r\n     <g id=\"line2d_32\">\r\n      <g>\r\n       <use style=\"stroke:#000000;stroke-width:0.8;\" x=\"39.65\" xlink:href=\"#m6ec2681f94\" y=\"33.273663\"/>\r\n      </g>\r\n     </g>\r\n     <g id=\"text_16\">\r\n      <!-- 1400 -->\r\n      <g transform=\"translate(7.2 37.072882)scale(0.1 -0.1)\">\r\n       <use xlink:href=\"#DejaVuSans-31\"/>\r\n       <use x=\"63.623047\" xlink:href=\"#DejaVuSans-34\"/>\r\n       <use x=\"127.246094\" xlink:href=\"#DejaVuSans-30\"/>\r\n       <use x=\"190.869141\" xlink:href=\"#DejaVuSans-30\"/>\r\n      </g>\r\n     </g>\r\n    </g>\r\n   </g>\r\n   <g id=\"patch_13\">\r\n    <path d=\"M 39.65 224.64 \r\nL 39.65 7.2 \r\n\" style=\"fill:none;stroke:#000000;stroke-linecap:square;stroke-linejoin:miter;stroke-width:0.8;\"/>\r\n   </g>\r\n   <g id=\"patch_14\">\r\n    <path d=\"M 374.45 224.64 \r\nL 374.45 7.2 \r\n\" style=\"fill:none;stroke:#000000;stroke-linecap:square;stroke-linejoin:miter;stroke-width:0.8;\"/>\r\n   </g>\r\n   <g id=\"patch_15\">\r\n    <path d=\"M 39.65 224.64 \r\nL 374.45 224.64 \r\n\" style=\"fill:none;stroke:#000000;stroke-linecap:square;stroke-linejoin:miter;stroke-width:0.8;\"/>\r\n   </g>\r\n   <g id=\"patch_16\">\r\n    <path d=\"M 39.65 7.2 \r\nL 374.45 7.2 \r\n\" style=\"fill:none;stroke:#000000;stroke-linecap:square;stroke-linejoin:miter;stroke-width:0.8;\"/>\r\n   </g>\r\n  </g>\r\n </g>\r\n <defs>\r\n  <clipPath id=\"p258487b672\">\r\n   <rect height=\"217.44\" width=\"334.8\" x=\"39.65\" y=\"7.2\"/>\r\n  </clipPath>\r\n </defs>\r\n</svg>\r\n",
      "text/plain": [
       "<Figure size 432x288 with 1 Axes>"
      ]
     },
     "metadata": {
      "needs_background": "light"
     }
    }
   ],
   "metadata": {}
  },
  {
   "cell_type": "code",
   "execution_count": 10,
   "source": [
    "movies_num['budget'].hist()"
   ],
   "outputs": [
    {
     "output_type": "execute_result",
     "data": {
      "text/plain": [
       "<AxesSubplot:>"
      ]
     },
     "metadata": {},
     "execution_count": 10
    },
    {
     "output_type": "display_data",
     "data": {
      "image/png": "[encoded data removed]",
      "image/svg+xml": "<?xml version=\"1.0\" encoding=\"utf-8\" standalone=\"no\"?>\r\n<!DOCTYPE svg PUBLIC \"-//W3C//DTD SVG 1.1//EN\"\r\n  \"http://www.w3.org/Graphics/SVG/1.1/DTD/svg11.dtd\">\r\n<svg height=\"261.19625pt\" version=\"1.1\" viewBox=\"0 0 381.65 261.19625\" width=\"381.65pt\" xmlns=\"http://www.w3.org/2000/svg\" xmlns:xlink=\"http://www.w3.org/1999/xlink\">\r\n <metadata>\r\n  <rdf:RDF xmlns:cc=\"http://creativecommons.org/ns#\" xmlns:dc=\"http://purl.org/dc/elements/1.1/\" xmlns:rdf=\"http://www.w3.org/1999/02/22-rdf-syntax-ns#\">\r\n   <cc:Work>\r\n    <dc:type rdf:resource=\"http://purl.org/dc/dcmitype/StillImage\"/>\r\n    <dc:date>2021-09-03T08:55:19.478782</dc:date>\r\n    <dc:format>image/svg+xml</dc:format>\r\n    <dc:creator>\r\n     <cc:Agent>\r\n      <dc:title>Matplotlib v3.4.3, https://matplotlib.org/</dc:title>\r\n     </cc:Agent>\r\n    </dc:creator>\r\n   </cc:Work>\r\n  </rdf:RDF>\r\n </metadata>\r\n <defs>\r\n  <style type=\"text/css\">*{stroke-linecap:butt;stroke-linejoin:round;}</style>\r\n </defs>\r\n <g id=\"figure_1\">\r\n  <g id=\"patch_1\">\r\n   <path d=\"M -0 261.19625 \r\nL 381.65 261.19625 \r\nL 381.65 0 \r\nL -0 0 \r\nz\r\n\" style=\"fill:none;\"/>\r\n  </g>\r\n  <g id=\"axes_1\">\r\n   <g id=\"patch_2\">\r\n    <path d=\"M 39.65 224.64 \r\nL 374.45 224.64 \r\nL 374.45 7.2 \r\nL 39.65 7.2 \r\nz\r\n\" style=\"fill:#ffffff;\"/>\r\n   </g>\r\n   <g id=\"patch_3\">\r\n    <path clip-path=\"url(#p69806af148)\" d=\"M 54.868182 224.64 \r\nL 85.304545 224.64 \r\nL 85.304545 17.554286 \r\nL 54.868182 17.554286 \r\nz\r\n\" style=\"fill:#1f77b4;\"/>\r\n   </g>\r\n   <g id=\"patch_4\">\r\n    <path clip-path=\"url(#p69806af148)\" d=\"M 85.304545 224.64 \r\nL 115.740909 224.64 \r\nL 115.740909 224.548893 \r\nL 85.304545 224.548893 \r\nz\r\n\" style=\"fill:#1f77b4;\"/>\r\n   </g>\r\n   <g id=\"patch_5\">\r\n    <path clip-path=\"url(#p69806af148)\" d=\"M 115.740909 224.64 \r\nL 146.177273 224.64 \r\nL 146.177273 224.594447 \r\nL 115.740909 224.594447 \r\nz\r\n\" style=\"fill:#1f77b4;\"/>\r\n   </g>\r\n   <g id=\"patch_6\">\r\n    <path clip-path=\"url(#p69806af148)\" d=\"M 146.177273 224.64 \r\nL 176.613636 224.64 \r\nL 176.613636 224.594447 \r\nL 146.177273 224.594447 \r\nz\r\n\" style=\"fill:#1f77b4;\"/>\r\n   </g>\r\n   <g id=\"patch_7\">\r\n    <path clip-path=\"url(#p69806af148)\" d=\"M 176.613636 224.64 \r\nL 207.05 224.64 \r\nL 207.05 224.64 \r\nL 176.613636 224.64 \r\nz\r\n\" style=\"fill:#1f77b4;\"/>\r\n   </g>\r\n   <g id=\"patch_8\">\r\n    <path clip-path=\"url(#p69806af148)\" d=\"M 207.05 224.64 \r\nL 237.486364 224.64 \r\nL 237.486364 224.64 \r\nL 207.05 224.64 \r\nz\r\n\" style=\"fill:#1f77b4;\"/>\r\n   </g>\r\n   <g id=\"patch_9\">\r\n    <path clip-path=\"url(#p69806af148)\" d=\"M 237.486364 224.64 \r\nL 267.922727 224.64 \r\nL 267.922727 224.64 \r\nL 237.486364 224.64 \r\nz\r\n\" style=\"fill:#1f77b4;\"/>\r\n   </g>\r\n   <g id=\"patch_10\">\r\n    <path clip-path=\"url(#p69806af148)\" d=\"M 267.922727 224.64 \r\nL 298.359091 224.64 \r\nL 298.359091 224.64 \r\nL 267.922727 224.64 \r\nz\r\n\" style=\"fill:#1f77b4;\"/>\r\n   </g>\r\n   <g id=\"patch_11\">\r\n    <path clip-path=\"url(#p69806af148)\" d=\"M 298.359091 224.64 \r\nL 328.795455 224.64 \r\nL 328.795455 224.64 \r\nL 298.359091 224.64 \r\nz\r\n\" style=\"fill:#1f77b4;\"/>\r\n   </g>\r\n   <g id=\"patch_12\">\r\n    <path clip-path=\"url(#p69806af148)\" d=\"M 328.795455 224.64 \r\nL 359.231818 224.64 \r\nL 359.231818 224.594447 \r\nL 328.795455 224.594447 \r\nz\r\n\" style=\"fill:#1f77b4;\"/>\r\n   </g>\r\n   <g id=\"matplotlib.axis_1\">\r\n    <g id=\"xtick_1\">\r\n     <g id=\"line2d_1\">\r\n      <path clip-path=\"url(#p69806af148)\" d=\"M 54.868176 224.64 \r\nL 54.868176 7.2 \r\n\" style=\"fill:none;stroke:#b0b0b0;stroke-linecap:square;stroke-width:0.8;\"/>\r\n     </g>\r\n     <g id=\"line2d_2\">\r\n      <defs>\r\n       <path d=\"M 0 0 \r\nL 0 3.5 \r\n\" id=\"mc233ed4553\" style=\"stroke:#000000;stroke-width:0.8;\"/>\r\n      </defs>\r\n      <g>\r\n       <use style=\"stroke:#000000;stroke-width:0.8;\" x=\"54.868176\" xlink:href=\"#mc233ed4553\" y=\"224.64\"/>\r\n      </g>\r\n     </g>\r\n     <g id=\"text_1\">\r\n      <!-- 0.0 -->\r\n      <g transform=\"translate(46.916614 239.238437)scale(0.1 -0.1)\">\r\n       <defs>\r\n        <path d=\"M 2034 4250 \r\nQ 1547 4250 1301 3770 \r\nQ 1056 3291 1056 2328 \r\nQ 1056 1369 1301 889 \r\nQ 1547 409 2034 409 \r\nQ 2525 409 2770 889 \r\nQ 3016 1369 3016 2328 \r\nQ 3016 3291 2770 3770 \r\nQ 2525 4250 2034 4250 \r\nz\r\nM 2034 4750 \r\nQ 2819 4750 3233 4129 \r\nQ 3647 3509 3647 2328 \r\nQ 3647 1150 3233 529 \r\nQ 2819 -91 2034 -91 \r\nQ 1250 -91 836 529 \r\nQ 422 1150 422 2328 \r\nQ 422 3509 836 4129 \r\nQ 1250 4750 2034 4750 \r\nz\r\n\" id=\"DejaVuSans-30\" transform=\"scale(0.015625)\"/>\r\n        <path d=\"M 684 794 \r\nL 1344 794 \r\nL 1344 0 \r\nL 684 0 \r\nL 684 794 \r\nz\r\n\" id=\"DejaVuSans-2e\" transform=\"scale(0.015625)\"/>\r\n       </defs>\r\n       <use xlink:href=\"#DejaVuSans-30\"/>\r\n       <use x=\"63.623047\" xlink:href=\"#DejaVuSans-2e\"/>\r\n       <use x=\"95.410156\" xlink:href=\"#DejaVuSans-30\"/>\r\n      </g>\r\n     </g>\r\n    </g>\r\n    <g id=\"xtick_2\">\r\n     <g id=\"line2d_3\">\r\n      <path clip-path=\"url(#p69806af148)\" d=\"M 104.700544 224.64 \r\nL 104.700544 7.2 \r\n\" style=\"fill:none;stroke:#b0b0b0;stroke-linecap:square;stroke-width:0.8;\"/>\r\n     </g>\r\n     <g id=\"line2d_4\">\r\n      <g>\r\n       <use style=\"stroke:#000000;stroke-width:0.8;\" x=\"104.700544\" xlink:href=\"#mc233ed4553\" y=\"224.64\"/>\r\n      </g>\r\n     </g>\r\n     <g id=\"text_2\">\r\n      <!-- 0.2 -->\r\n      <g transform=\"translate(96.748981 239.238437)scale(0.1 -0.1)\">\r\n       <defs>\r\n        <path d=\"M 1228 531 \r\nL 3431 531 \r\nL 3431 0 \r\nL 469 0 \r\nL 469 531 \r\nQ 828 903 1448 1529 \r\nQ 2069 2156 2228 2338 \r\nQ 2531 2678 2651 2914 \r\nQ 2772 3150 2772 3378 \r\nQ 2772 3750 2511 3984 \r\nQ 2250 4219 1831 4219 \r\nQ 1534 4219 1204 4116 \r\nQ 875 4013 500 3803 \r\nL 500 4441 \r\nQ 881 4594 1212 4672 \r\nQ 1544 4750 1819 4750 \r\nQ 2544 4750 2975 4387 \r\nQ 3406 4025 3406 3419 \r\nQ 3406 3131 3298 2873 \r\nQ 3191 2616 2906 2266 \r\nQ 2828 2175 2409 1742 \r\nQ 1991 1309 1228 531 \r\nz\r\n\" id=\"DejaVuSans-32\" transform=\"scale(0.015625)\"/>\r\n       </defs>\r\n       <use xlink:href=\"#DejaVuSans-30\"/>\r\n       <use x=\"63.623047\" xlink:href=\"#DejaVuSans-2e\"/>\r\n       <use x=\"95.410156\" xlink:href=\"#DejaVuSans-32\"/>\r\n      </g>\r\n     </g>\r\n    </g>\r\n    <g id=\"xtick_3\">\r\n     <g id=\"line2d_5\">\r\n      <path clip-path=\"url(#p69806af148)\" d=\"M 154.532911 224.64 \r\nL 154.532911 7.2 \r\n\" style=\"fill:none;stroke:#b0b0b0;stroke-linecap:square;stroke-width:0.8;\"/>\r\n     </g>\r\n     <g id=\"line2d_6\">\r\n      <g>\r\n       <use style=\"stroke:#000000;stroke-width:0.8;\" x=\"154.532911\" xlink:href=\"#mc233ed4553\" y=\"224.64\"/>\r\n      </g>\r\n     </g>\r\n     <g id=\"text_3\">\r\n      <!-- 0.4 -->\r\n      <g transform=\"translate(146.581349 239.238437)scale(0.1 -0.1)\">\r\n       <defs>\r\n        <path d=\"M 2419 4116 \r\nL 825 1625 \r\nL 2419 1625 \r\nL 2419 4116 \r\nz\r\nM 2253 4666 \r\nL 3047 4666 \r\nL 3047 1625 \r\nL 3713 1625 \r\nL 3713 1100 \r\nL 3047 1100 \r\nL 3047 0 \r\nL 2419 0 \r\nL 2419 1100 \r\nL 313 1100 \r\nL 313 1709 \r\nL 2253 4666 \r\nz\r\n\" id=\"DejaVuSans-34\" transform=\"scale(0.015625)\"/>\r\n       </defs>\r\n       <use xlink:href=\"#DejaVuSans-30\"/>\r\n       <use x=\"63.623047\" xlink:href=\"#DejaVuSans-2e\"/>\r\n       <use x=\"95.410156\" xlink:href=\"#DejaVuSans-34\"/>\r\n      </g>\r\n     </g>\r\n    </g>\r\n    <g id=\"xtick_4\">\r\n     <g id=\"line2d_7\">\r\n      <path clip-path=\"url(#p69806af148)\" d=\"M 204.365278 224.64 \r\nL 204.365278 7.2 \r\n\" style=\"fill:none;stroke:#b0b0b0;stroke-linecap:square;stroke-width:0.8;\"/>\r\n     </g>\r\n     <g id=\"line2d_8\">\r\n      <g>\r\n       <use style=\"stroke:#000000;stroke-width:0.8;\" x=\"204.365278\" xlink:href=\"#mc233ed4553\" y=\"224.64\"/>\r\n      </g>\r\n     </g>\r\n     <g id=\"text_4\">\r\n      <!-- 0.6 -->\r\n      <g transform=\"translate(196.413716 239.238437)scale(0.1 -0.1)\">\r\n       <defs>\r\n        <path d=\"M 2113 2584 \r\nQ 1688 2584 1439 2293 \r\nQ 1191 2003 1191 1497 \r\nQ 1191 994 1439 701 \r\nQ 1688 409 2113 409 \r\nQ 2538 409 2786 701 \r\nQ 3034 994 3034 1497 \r\nQ 3034 2003 2786 2293 \r\nQ 2538 2584 2113 2584 \r\nz\r\nM 3366 4563 \r\nL 3366 3988 \r\nQ 3128 4100 2886 4159 \r\nQ 2644 4219 2406 4219 \r\nQ 1781 4219 1451 3797 \r\nQ 1122 3375 1075 2522 \r\nQ 1259 2794 1537 2939 \r\nQ 1816 3084 2150 3084 \r\nQ 2853 3084 3261 2657 \r\nQ 3669 2231 3669 1497 \r\nQ 3669 778 3244 343 \r\nQ 2819 -91 2113 -91 \r\nQ 1303 -91 875 529 \r\nQ 447 1150 447 2328 \r\nQ 447 3434 972 4092 \r\nQ 1497 4750 2381 4750 \r\nQ 2619 4750 2861 4703 \r\nQ 3103 4656 3366 4563 \r\nz\r\n\" id=\"DejaVuSans-36\" transform=\"scale(0.015625)\"/>\r\n       </defs>\r\n       <use xlink:href=\"#DejaVuSans-30\"/>\r\n       <use x=\"63.623047\" xlink:href=\"#DejaVuSans-2e\"/>\r\n       <use x=\"95.410156\" xlink:href=\"#DejaVuSans-36\"/>\r\n      </g>\r\n     </g>\r\n    </g>\r\n    <g id=\"xtick_5\">\r\n     <g id=\"line2d_9\">\r\n      <path clip-path=\"url(#p69806af148)\" d=\"M 254.197646 224.64 \r\nL 254.197646 7.2 \r\n\" style=\"fill:none;stroke:#b0b0b0;stroke-linecap:square;stroke-width:0.8;\"/>\r\n     </g>\r\n     <g id=\"line2d_10\">\r\n      <g>\r\n       <use style=\"stroke:#000000;stroke-width:0.8;\" x=\"254.197646\" xlink:href=\"#mc233ed4553\" y=\"224.64\"/>\r\n      </g>\r\n     </g>\r\n     <g id=\"text_5\">\r\n      <!-- 0.8 -->\r\n      <g transform=\"translate(246.246083 239.238437)scale(0.1 -0.1)\">\r\n       <defs>\r\n        <path d=\"M 2034 2216 \r\nQ 1584 2216 1326 1975 \r\nQ 1069 1734 1069 1313 \r\nQ 1069 891 1326 650 \r\nQ 1584 409 2034 409 \r\nQ 2484 409 2743 651 \r\nQ 3003 894 3003 1313 \r\nQ 3003 1734 2745 1975 \r\nQ 2488 2216 2034 2216 \r\nz\r\nM 1403 2484 \r\nQ 997 2584 770 2862 \r\nQ 544 3141 544 3541 \r\nQ 544 4100 942 4425 \r\nQ 1341 4750 2034 4750 \r\nQ 2731 4750 3128 4425 \r\nQ 3525 4100 3525 3541 \r\nQ 3525 3141 3298 2862 \r\nQ 3072 2584 2669 2484 \r\nQ 3125 2378 3379 2068 \r\nQ 3634 1759 3634 1313 \r\nQ 3634 634 3220 271 \r\nQ 2806 -91 2034 -91 \r\nQ 1263 -91 848 271 \r\nQ 434 634 434 1313 \r\nQ 434 1759 690 2068 \r\nQ 947 2378 1403 2484 \r\nz\r\nM 1172 3481 \r\nQ 1172 3119 1398 2916 \r\nQ 1625 2713 2034 2713 \r\nQ 2441 2713 2670 2916 \r\nQ 2900 3119 2900 3481 \r\nQ 2900 3844 2670 4047 \r\nQ 2441 4250 2034 4250 \r\nQ 1625 4250 1398 4047 \r\nQ 1172 3844 1172 3481 \r\nz\r\n\" id=\"DejaVuSans-38\" transform=\"scale(0.015625)\"/>\r\n       </defs>\r\n       <use xlink:href=\"#DejaVuSans-30\"/>\r\n       <use x=\"63.623047\" xlink:href=\"#DejaVuSans-2e\"/>\r\n       <use x=\"95.410156\" xlink:href=\"#DejaVuSans-38\"/>\r\n      </g>\r\n     </g>\r\n    </g>\r\n    <g id=\"xtick_6\">\r\n     <g id=\"line2d_11\">\r\n      <path clip-path=\"url(#p69806af148)\" d=\"M 304.030013 224.64 \r\nL 304.030013 7.2 \r\n\" style=\"fill:none;stroke:#b0b0b0;stroke-linecap:square;stroke-width:0.8;\"/>\r\n     </g>\r\n     <g id=\"line2d_12\">\r\n      <g>\r\n       <use style=\"stroke:#000000;stroke-width:0.8;\" x=\"304.030013\" xlink:href=\"#mc233ed4553\" y=\"224.64\"/>\r\n      </g>\r\n     </g>\r\n     <g id=\"text_6\">\r\n      <!-- 1.0 -->\r\n      <g transform=\"translate(296.078451 239.238437)scale(0.1 -0.1)\">\r\n       <defs>\r\n        <path d=\"M 794 531 \r\nL 1825 531 \r\nL 1825 4091 \r\nL 703 3866 \r\nL 703 4441 \r\nL 1819 4666 \r\nL 2450 4666 \r\nL 2450 531 \r\nL 3481 531 \r\nL 3481 0 \r\nL 794 0 \r\nL 794 531 \r\nz\r\n\" id=\"DejaVuSans-31\" transform=\"scale(0.015625)\"/>\r\n       </defs>\r\n       <use xlink:href=\"#DejaVuSans-31\"/>\r\n       <use x=\"63.623047\" xlink:href=\"#DejaVuSans-2e\"/>\r\n       <use x=\"95.410156\" xlink:href=\"#DejaVuSans-30\"/>\r\n      </g>\r\n     </g>\r\n    </g>\r\n    <g id=\"xtick_7\">\r\n     <g id=\"line2d_13\">\r\n      <path clip-path=\"url(#p69806af148)\" d=\"M 353.862381 224.64 \r\nL 353.862381 7.2 \r\n\" style=\"fill:none;stroke:#b0b0b0;stroke-linecap:square;stroke-width:0.8;\"/>\r\n     </g>\r\n     <g id=\"line2d_14\">\r\n      <g>\r\n       <use style=\"stroke:#000000;stroke-width:0.8;\" x=\"353.862381\" xlink:href=\"#mc233ed4553\" y=\"224.64\"/>\r\n      </g>\r\n     </g>\r\n     <g id=\"text_7\">\r\n      <!-- 1.2 -->\r\n      <g transform=\"translate(345.910818 239.238437)scale(0.1 -0.1)\">\r\n       <use xlink:href=\"#DejaVuSans-31\"/>\r\n       <use x=\"63.623047\" xlink:href=\"#DejaVuSans-2e\"/>\r\n       <use x=\"95.410156\" xlink:href=\"#DejaVuSans-32\"/>\r\n      </g>\r\n     </g>\r\n    </g>\r\n    <g id=\"text_8\">\r\n     <!-- 1e10 -->\r\n     <g transform=\"translate(349.209375 251.916562)scale(0.1 -0.1)\">\r\n      <defs>\r\n       <path d=\"M 3597 1894 \r\nL 3597 1613 \r\nL 953 1613 \r\nQ 991 1019 1311 708 \r\nQ 1631 397 2203 397 \r\nQ 2534 397 2845 478 \r\nQ 3156 559 3463 722 \r\nL 3463 178 \r\nQ 3153 47 2828 -22 \r\nQ 2503 -91 2169 -91 \r\nQ 1331 -91 842 396 \r\nQ 353 884 353 1716 \r\nQ 353 2575 817 3079 \r\nQ 1281 3584 2069 3584 \r\nQ 2775 3584 3186 3129 \r\nQ 3597 2675 3597 1894 \r\nz\r\nM 3022 2063 \r\nQ 3016 2534 2758 2815 \r\nQ 2500 3097 2075 3097 \r\nQ 1594 3097 1305 2825 \r\nQ 1016 2553 972 2059 \r\nL 3022 2063 \r\nz\r\n\" id=\"DejaVuSans-65\" transform=\"scale(0.015625)\"/>\r\n      </defs>\r\n      <use xlink:href=\"#DejaVuSans-31\"/>\r\n      <use x=\"63.623047\" xlink:href=\"#DejaVuSans-65\"/>\r\n      <use x=\"125.146484\" xlink:href=\"#DejaVuSans-31\"/>\r\n      <use x=\"188.769531\" xlink:href=\"#DejaVuSans-30\"/>\r\n     </g>\r\n    </g>\r\n   </g>\r\n   <g id=\"matplotlib.axis_2\">\r\n    <g id=\"ytick_1\">\r\n     <g id=\"line2d_15\">\r\n      <path clip-path=\"url(#p69806af148)\" d=\"M 39.65 224.64 \r\nL 374.45 224.64 \r\n\" style=\"fill:none;stroke:#b0b0b0;stroke-linecap:square;stroke-width:0.8;\"/>\r\n     </g>\r\n     <g id=\"line2d_16\">\r\n      <defs>\r\n       <path d=\"M 0 0 \r\nL -3.5 0 \r\n\" id=\"mf4c337ce0b\" style=\"stroke:#000000;stroke-width:0.8;\"/>\r\n      </defs>\r\n      <g>\r\n       <use style=\"stroke:#000000;stroke-width:0.8;\" x=\"39.65\" xlink:href=\"#mf4c337ce0b\" y=\"224.64\"/>\r\n      </g>\r\n     </g>\r\n     <g id=\"text_9\">\r\n      <!-- 0 -->\r\n      <g transform=\"translate(26.2875 228.439219)scale(0.1 -0.1)\">\r\n       <use xlink:href=\"#DejaVuSans-30\"/>\r\n      </g>\r\n     </g>\r\n    </g>\r\n    <g id=\"ytick_2\">\r\n     <g id=\"line2d_17\">\r\n      <path clip-path=\"url(#p69806af148)\" d=\"M 39.65 179.086609 \r\nL 374.45 179.086609 \r\n\" style=\"fill:none;stroke:#b0b0b0;stroke-linecap:square;stroke-width:0.8;\"/>\r\n     </g>\r\n     <g id=\"line2d_18\">\r\n      <g>\r\n       <use style=\"stroke:#000000;stroke-width:0.8;\" x=\"39.65\" xlink:href=\"#mf4c337ce0b\" y=\"179.086609\"/>\r\n      </g>\r\n     </g>\r\n     <g id=\"text_10\">\r\n      <!-- 1000 -->\r\n      <g transform=\"translate(7.2 182.885828)scale(0.1 -0.1)\">\r\n       <use xlink:href=\"#DejaVuSans-31\"/>\r\n       <use x=\"63.623047\" xlink:href=\"#DejaVuSans-30\"/>\r\n       <use x=\"127.246094\" xlink:href=\"#DejaVuSans-30\"/>\r\n       <use x=\"190.869141\" xlink:href=\"#DejaVuSans-30\"/>\r\n      </g>\r\n     </g>\r\n    </g>\r\n    <g id=\"ytick_3\">\r\n     <g id=\"line2d_19\">\r\n      <path clip-path=\"url(#p69806af148)\" d=\"M 39.65 133.533219 \r\nL 374.45 133.533219 \r\n\" style=\"fill:none;stroke:#b0b0b0;stroke-linecap:square;stroke-width:0.8;\"/>\r\n     </g>\r\n     <g id=\"line2d_20\">\r\n      <g>\r\n       <use style=\"stroke:#000000;stroke-width:0.8;\" x=\"39.65\" xlink:href=\"#mf4c337ce0b\" y=\"133.533219\"/>\r\n      </g>\r\n     </g>\r\n     <g id=\"text_11\">\r\n      <!-- 2000 -->\r\n      <g transform=\"translate(7.2 137.332437)scale(0.1 -0.1)\">\r\n       <use xlink:href=\"#DejaVuSans-32\"/>\r\n       <use x=\"63.623047\" xlink:href=\"#DejaVuSans-30\"/>\r\n       <use x=\"127.246094\" xlink:href=\"#DejaVuSans-30\"/>\r\n       <use x=\"190.869141\" xlink:href=\"#DejaVuSans-30\"/>\r\n      </g>\r\n     </g>\r\n    </g>\r\n    <g id=\"ytick_4\">\r\n     <g id=\"line2d_21\">\r\n      <path clip-path=\"url(#p69806af148)\" d=\"M 39.65 87.979828 \r\nL 374.45 87.979828 \r\n\" style=\"fill:none;stroke:#b0b0b0;stroke-linecap:square;stroke-width:0.8;\"/>\r\n     </g>\r\n     <g id=\"line2d_22\">\r\n      <g>\r\n       <use style=\"stroke:#000000;stroke-width:0.8;\" x=\"39.65\" xlink:href=\"#mf4c337ce0b\" y=\"87.979828\"/>\r\n      </g>\r\n     </g>\r\n     <g id=\"text_12\">\r\n      <!-- 3000 -->\r\n      <g transform=\"translate(7.2 91.779047)scale(0.1 -0.1)\">\r\n       <defs>\r\n        <path d=\"M 2597 2516 \r\nQ 3050 2419 3304 2112 \r\nQ 3559 1806 3559 1356 \r\nQ 3559 666 3084 287 \r\nQ 2609 -91 1734 -91 \r\nQ 1441 -91 1130 -33 \r\nQ 819 25 488 141 \r\nL 488 750 \r\nQ 750 597 1062 519 \r\nQ 1375 441 1716 441 \r\nQ 2309 441 2620 675 \r\nQ 2931 909 2931 1356 \r\nQ 2931 1769 2642 2001 \r\nQ 2353 2234 1838 2234 \r\nL 1294 2234 \r\nL 1294 2753 \r\nL 1863 2753 \r\nQ 2328 2753 2575 2939 \r\nQ 2822 3125 2822 3475 \r\nQ 2822 3834 2567 4026 \r\nQ 2313 4219 1838 4219 \r\nQ 1578 4219 1281 4162 \r\nQ 984 4106 628 3988 \r\nL 628 4550 \r\nQ 988 4650 1302 4700 \r\nQ 1616 4750 1894 4750 \r\nQ 2613 4750 3031 4423 \r\nQ 3450 4097 3450 3541 \r\nQ 3450 3153 3228 2886 \r\nQ 3006 2619 2597 2516 \r\nz\r\n\" id=\"DejaVuSans-33\" transform=\"scale(0.015625)\"/>\r\n       </defs>\r\n       <use xlink:href=\"#DejaVuSans-33\"/>\r\n       <use x=\"63.623047\" xlink:href=\"#DejaVuSans-30\"/>\r\n       <use x=\"127.246094\" xlink:href=\"#DejaVuSans-30\"/>\r\n       <use x=\"190.869141\" xlink:href=\"#DejaVuSans-30\"/>\r\n      </g>\r\n     </g>\r\n    </g>\r\n    <g id=\"ytick_5\">\r\n     <g id=\"line2d_23\">\r\n      <path clip-path=\"url(#p69806af148)\" d=\"M 39.65 42.426437 \r\nL 374.45 42.426437 \r\n\" style=\"fill:none;stroke:#b0b0b0;stroke-linecap:square;stroke-width:0.8;\"/>\r\n     </g>\r\n     <g id=\"line2d_24\">\r\n      <g>\r\n       <use style=\"stroke:#000000;stroke-width:0.8;\" x=\"39.65\" xlink:href=\"#mf4c337ce0b\" y=\"42.426437\"/>\r\n      </g>\r\n     </g>\r\n     <g id=\"text_13\">\r\n      <!-- 4000 -->\r\n      <g transform=\"translate(7.2 46.225656)scale(0.1 -0.1)\">\r\n       <use xlink:href=\"#DejaVuSans-34\"/>\r\n       <use x=\"63.623047\" xlink:href=\"#DejaVuSans-30\"/>\r\n       <use x=\"127.246094\" xlink:href=\"#DejaVuSans-30\"/>\r\n       <use x=\"190.869141\" xlink:href=\"#DejaVuSans-30\"/>\r\n      </g>\r\n     </g>\r\n    </g>\r\n   </g>\r\n   <g id=\"patch_13\">\r\n    <path d=\"M 39.65 224.64 \r\nL 39.65 7.2 \r\n\" style=\"fill:none;stroke:#000000;stroke-linecap:square;stroke-linejoin:miter;stroke-width:0.8;\"/>\r\n   </g>\r\n   <g id=\"patch_14\">\r\n    <path d=\"M 374.45 224.64 \r\nL 374.45 7.2 \r\n\" style=\"fill:none;stroke:#000000;stroke-linecap:square;stroke-linejoin:miter;stroke-width:0.8;\"/>\r\n   </g>\r\n   <g id=\"patch_15\">\r\n    <path d=\"M 39.65 224.64 \r\nL 374.45 224.64 \r\n\" style=\"fill:none;stroke:#000000;stroke-linecap:square;stroke-linejoin:miter;stroke-width:0.8;\"/>\r\n   </g>\r\n   <g id=\"patch_16\">\r\n    <path d=\"M 39.65 7.2 \r\nL 374.45 7.2 \r\n\" style=\"fill:none;stroke:#000000;stroke-linecap:square;stroke-linejoin:miter;stroke-width:0.8;\"/>\r\n   </g>\r\n  </g>\r\n </g>\r\n <defs>\r\n  <clipPath id=\"p69806af148\">\r\n   <rect height=\"217.44\" width=\"334.8\" x=\"39.65\" y=\"7.2\"/>\r\n  </clipPath>\r\n </defs>\r\n</svg>\r\n",
      "text/plain": [
       "<Figure size 432x288 with 1 Axes>"
      ]
     },
     "metadata": {
      "needs_background": "light"
     }
    }
   ],
   "metadata": {}
  },
  {
   "cell_type": "markdown",
   "source": [
    "Ocurre que el rango tiene pocos o un presupuesto demasiado grande que hace que la imagen tome esta forma"
   ],
   "metadata": {}
  },
  {
   "cell_type": "markdown",
   "source": [
    "\r\n",
    "Para poder debuggear esta situación utilizaremos una tecnica muy tipica de pandas que se llama **boolean filtering**. Basicamente construimos una serie de booleanos con el mismo indice que nuestro dataframe (la serie clasicamente la llamaremos mask).\r\n"
   ],
   "metadata": {}
  },
  {
   "cell_type": "code",
   "execution_count": 14,
   "source": [
    "pd.options.display.float_format='{:,.2f}'.format"
   ],
   "outputs": [],
   "metadata": {}
  },
  {
   "cell_type": "markdown",
   "source": [
    "### Boolean filtering"
   ],
   "metadata": {}
  },
  {
   "cell_type": "code",
   "execution_count": 15,
   "source": [
    "# wow! también reconoce numeración científica!\r\n",
    "#valores booleanos\r\n",
    "mask = (movies_num['budget'] > 1e9)"
   ],
   "outputs": [],
   "metadata": {}
  },
  {
   "cell_type": "code",
   "execution_count": 16,
   "source": [
    "#mostramos las películas cuyo pre4supuesto sea mayor a 1,000,000,000\r\n",
    "movies[mask]"
   ],
   "outputs": [
    {
     "output_type": "execute_result",
     "data": {
      "text/html": [
       "<div>\n",
       "<style scoped>\n",
       "    .dataframe tbody tr th:only-of-type {\n",
       "        vertical-align: middle;\n",
       "    }\n",
       "\n",
       "    .dataframe tbody tr th {\n",
       "        vertical-align: top;\n",
       "    }\n",
       "\n",
       "    .dataframe thead th {\n",
       "        text-align: right;\n",
       "    }\n",
       "</style>\n",
       "<table border=\"1\" class=\"dataframe\">\n",
       "  <thead>\n",
       "    <tr style=\"text-align: right;\">\n",
       "      <th></th>\n",
       "      <th>movie_title</th>\n",
       "      <th>title_year</th>\n",
       "      <th>color</th>\n",
       "      <th>aspect_ratio</th>\n",
       "      <th>duration</th>\n",
       "      <th>language</th>\n",
       "      <th>country</th>\n",
       "      <th>duration.1</th>\n",
       "      <th>genres</th>\n",
       "      <th>content_rating</th>\n",
       "      <th>plot_keywords</th>\n",
       "      <th>director_name</th>\n",
       "      <th>actor_1_name</th>\n",
       "      <th>actor_2_name</th>\n",
       "      <th>actor_3_name</th>\n",
       "      <th>cast_total_facebook_likes</th>\n",
       "      <th>budget</th>\n",
       "      <th>imdb_score</th>\n",
       "      <th>gross</th>\n",
       "    </tr>\n",
       "  </thead>\n",
       "  <tbody>\n",
       "    <tr>\n",
       "      <th>2323</th>\n",
       "      <td>Princess Mononoke</td>\n",
       "      <td>1,997.00</td>\n",
       "      <td>Color</td>\n",
       "      <td>1.85</td>\n",
       "      <td>134.00</td>\n",
       "      <td>Japanese</td>\n",
       "      <td>Japan</td>\n",
       "      <td>134.00</td>\n",
       "      <td>Adventure|Animation|Fantasy</td>\n",
       "      <td>PG-13</td>\n",
       "      <td>anime|cult film|forest|princess|studio ghibli</td>\n",
       "      <td>Hayao Miyazaki</td>\n",
       "      <td>Minnie Driver</td>\n",
       "      <td>Jada Pinkett Smith</td>\n",
       "      <td>Billy Crudup</td>\n",
       "      <td>2710</td>\n",
       "      <td>2,400,000,000.00</td>\n",
       "      <td>8.40</td>\n",
       "      <td>2,298,191.00</td>\n",
       "    </tr>\n",
       "    <tr>\n",
       "      <th>2334</th>\n",
       "      <td>Steamboy</td>\n",
       "      <td>2,004.00</td>\n",
       "      <td>Color</td>\n",
       "      <td>1.85</td>\n",
       "      <td>103.00</td>\n",
       "      <td>Japanese</td>\n",
       "      <td>Japan</td>\n",
       "      <td>103.00</td>\n",
       "      <td>Action|Adventure|Animation|Family|Sci-Fi|Thriller</td>\n",
       "      <td>PG-13</td>\n",
       "      <td>19th century|ball|boy|inventor|steam</td>\n",
       "      <td>Katsuhiro Ôtomo</td>\n",
       "      <td>William Hootkins</td>\n",
       "      <td>Robin Atkin Downes</td>\n",
       "      <td>Rosalind Ayres</td>\n",
       "      <td>991</td>\n",
       "      <td>2,127,519,898.00</td>\n",
       "      <td>6.90</td>\n",
       "      <td>410,388.00</td>\n",
       "    </tr>\n",
       "    <tr>\n",
       "      <th>2988</th>\n",
       "      <td>The Host</td>\n",
       "      <td>2,006.00</td>\n",
       "      <td>Color</td>\n",
       "      <td>1.85</td>\n",
       "      <td>110.00</td>\n",
       "      <td>Korean</td>\n",
       "      <td>South Korea</td>\n",
       "      <td>110.00</td>\n",
       "      <td>Comedy|Drama|Horror|Sci-Fi</td>\n",
       "      <td>R</td>\n",
       "      <td>daughter|han river|monster|river|seoul</td>\n",
       "      <td>Joon-ho Bong</td>\n",
       "      <td>Doona Bae</td>\n",
       "      <td>Kang-ho Song</td>\n",
       "      <td>Ah-sung Ko</td>\n",
       "      <td>1173</td>\n",
       "      <td>12,215,500,000.00</td>\n",
       "      <td>7.00</td>\n",
       "      <td>2,201,412.00</td>\n",
       "    </tr>\n",
       "    <tr>\n",
       "      <th>3005</th>\n",
       "      <td>Fateless</td>\n",
       "      <td>2,005.00</td>\n",
       "      <td>Color</td>\n",
       "      <td>2.35</td>\n",
       "      <td>134.00</td>\n",
       "      <td>Hungarian</td>\n",
       "      <td>Hungary</td>\n",
       "      <td>134.00</td>\n",
       "      <td>Drama|Romance|War</td>\n",
       "      <td>R</td>\n",
       "      <td>bus|death|gay slur|hatred|jewish</td>\n",
       "      <td>Lajos Koltai</td>\n",
       "      <td>Marcell Nagy</td>\n",
       "      <td>Péter Fancsikai</td>\n",
       "      <td>Bálint Péntek</td>\n",
       "      <td>11</td>\n",
       "      <td>2,500,000,000.00</td>\n",
       "      <td>7.10</td>\n",
       "      <td>195,888.00</td>\n",
       "    </tr>\n",
       "    <tr>\n",
       "      <th>3423</th>\n",
       "      <td>Akira</td>\n",
       "      <td>1,988.00</td>\n",
       "      <td>Color</td>\n",
       "      <td>1.85</td>\n",
       "      <td>124.00</td>\n",
       "      <td>Japanese</td>\n",
       "      <td>Japan</td>\n",
       "      <td>124.00</td>\n",
       "      <td>Action|Animation|Sci-Fi</td>\n",
       "      <td>R</td>\n",
       "      <td>based on manga|biker gang|gifted child|post th...</td>\n",
       "      <td>Katsuhiro Ôtomo</td>\n",
       "      <td>Mitsuo Iwata</td>\n",
       "      <td>Takeshi Kusao</td>\n",
       "      <td>Tesshô Genda</td>\n",
       "      <td>28</td>\n",
       "      <td>1,100,000,000.00</td>\n",
       "      <td>8.10</td>\n",
       "      <td>439,162.00</td>\n",
       "    </tr>\n",
       "    <tr>\n",
       "      <th>3859</th>\n",
       "      <td>Lady Vengeance</td>\n",
       "      <td>2,005.00</td>\n",
       "      <td>Color</td>\n",
       "      <td>2.35</td>\n",
       "      <td>112.00</td>\n",
       "      <td>Korean</td>\n",
       "      <td>South Korea</td>\n",
       "      <td>112.00</td>\n",
       "      <td>Crime|Drama</td>\n",
       "      <td>R</td>\n",
       "      <td>cake|christian|lesbian sex|oral sex|pregnant s...</td>\n",
       "      <td>Chan-wook Park</td>\n",
       "      <td>Min-sik Choi</td>\n",
       "      <td>Yeong-ae Lee</td>\n",
       "      <td>Hye-jeong Kang</td>\n",
       "      <td>907</td>\n",
       "      <td>4,200,000,000.00</td>\n",
       "      <td>7.70</td>\n",
       "      <td>211,667.00</td>\n",
       "    </tr>\n",
       "  </tbody>\n",
       "</table>\n",
       "</div>"
      ],
      "text/plain": [
       "             movie_title  title_year  color  aspect_ratio  duration  \\\n",
       "2323  Princess Mononoke     1,997.00  Color          1.85    134.00   \n",
       "2334           Steamboy     2,004.00  Color          1.85    103.00   \n",
       "2988           The Host     2,006.00  Color          1.85    110.00   \n",
       "3005           Fateless     2,005.00  Color          2.35    134.00   \n",
       "3423              Akira     1,988.00  Color          1.85    124.00   \n",
       "3859     Lady Vengeance     2,005.00  Color          2.35    112.00   \n",
       "\n",
       "       language      country  duration.1  \\\n",
       "2323   Japanese        Japan      134.00   \n",
       "2334   Japanese        Japan      103.00   \n",
       "2988     Korean  South Korea      110.00   \n",
       "3005  Hungarian      Hungary      134.00   \n",
       "3423   Japanese        Japan      124.00   \n",
       "3859     Korean  South Korea      112.00   \n",
       "\n",
       "                                                 genres content_rating  \\\n",
       "2323                        Adventure|Animation|Fantasy          PG-13   \n",
       "2334  Action|Adventure|Animation|Family|Sci-Fi|Thriller          PG-13   \n",
       "2988                         Comedy|Drama|Horror|Sci-Fi              R   \n",
       "3005                                  Drama|Romance|War              R   \n",
       "3423                            Action|Animation|Sci-Fi              R   \n",
       "3859                                        Crime|Drama              R   \n",
       "\n",
       "                                          plot_keywords    director_name  \\\n",
       "2323      anime|cult film|forest|princess|studio ghibli   Hayao Miyazaki   \n",
       "2334               19th century|ball|boy|inventor|steam  Katsuhiro Ôtomo   \n",
       "2988             daughter|han river|monster|river|seoul     Joon-ho Bong   \n",
       "3005                   bus|death|gay slur|hatred|jewish     Lajos Koltai   \n",
       "3423  based on manga|biker gang|gifted child|post th...  Katsuhiro Ôtomo   \n",
       "3859  cake|christian|lesbian sex|oral sex|pregnant s...   Chan-wook Park   \n",
       "\n",
       "          actor_1_name        actor_2_name    actor_3_name  \\\n",
       "2323     Minnie Driver  Jada Pinkett Smith    Billy Crudup   \n",
       "2334  William Hootkins  Robin Atkin Downes  Rosalind Ayres   \n",
       "2988         Doona Bae        Kang-ho Song      Ah-sung Ko   \n",
       "3005      Marcell Nagy     Péter Fancsikai   Bálint Péntek   \n",
       "3423      Mitsuo Iwata       Takeshi Kusao    Tesshô Genda   \n",
       "3859      Min-sik Choi        Yeong-ae Lee  Hye-jeong Kang   \n",
       "\n",
       "      cast_total_facebook_likes            budget  imdb_score        gross  \n",
       "2323                       2710  2,400,000,000.00        8.40 2,298,191.00  \n",
       "2334                        991  2,127,519,898.00        6.90   410,388.00  \n",
       "2988                       1173 12,215,500,000.00        7.00 2,201,412.00  \n",
       "3005                         11  2,500,000,000.00        7.10   195,888.00  \n",
       "3423                         28  1,100,000,000.00        8.10   439,162.00  \n",
       "3859                        907  4,200,000,000.00        7.70   211,667.00  "
      ]
     },
     "metadata": {},
     "execution_count": 16
    }
   ],
   "metadata": {}
  },
  {
   "cell_type": "markdown",
   "source": [
    "Vemos que el presupuesto de la pelicula de akira, es de mas de un millón de **yenes** quien creo ésta base de datos, no consideró la moneda , lo que puede hacerse es hacer de nuevo un scraping de los datos. Hay una nbase de datos obtenida de thenumbres.com, el profe hizo un scraper de los datos "
   ],
   "metadata": {}
  },
  {
   "cell_type": "markdown",
   "source": [
    "<img src=\"img/akira.png\" width=\"1000\" style=\"margin:0 auto;clear:both\">"
   ],
   "metadata": {
    "slideshow": {
     "slide_type": "slide"
    }
   }
  },
  {
   "cell_type": "markdown",
   "source": [
    " Tenemos un problema de limpieza de los datos. La BDD fue creada sin diferenciar:\n",
    "- La moneda en la que se ingresaba el presupuesto y el ingreso. \n",
    "- La zona (país/mundial) en la que se registro el ingreso"
   ],
   "metadata": {}
  },
  {
   "cell_type": "markdown",
   "source": [
    "## **NOTAS**\r\n",
    "\r\n",
    "Si se están corriendo pruebas desde terminal hay que usar plt.show()\r\n",
    "\r\n",
    "```python\r\n",
    "import numpy as np\r\n",
    "import pandas as pd\r\n",
    "import matplotlib.pyplot as plt\r\n",
    "import seaborn as sb\r\n",
    "\r\n",
    "\r\n",
    "movies = pd.read_csv('peliculas.csv', encoding = 'utf-8')\r\n",
    "num = (movies.dtypes == float) | (movies.dtypes == int)\r\n",
    "num_col = [i for i in num.index if num[i]]\r\n",
    "obj = movies.dtypes == object\r\n",
    "obj_col = [ j for j in obj.index if obj[j] ]\r\n",
    "movies_data_num = movies[num_col]\r\n",
    "\r\n",
    "movies_data_num['duration'].hist()\r\n",
    "plt.show()\r\n",
    "```"
   ],
   "metadata": {}
  },
  {
   "cell_type": "markdown",
   "source": [
    "# 14.- Limpiar los datos"
   ],
   "metadata": {}
  },
  {
   "cell_type": "code",
   "execution_count": 33,
   "source": [
    "# Importar BBDD thenumbers.com## Ahora manejaremos los datos faltantes (nulos o NaN). "
   ],
   "outputs": [],
   "metadata": {}
  },
  {
   "cell_type": "code",
   "execution_count": 19,
   "source": [
    "pd.read_csv('datasets/thenumbers.csv')"
   ],
   "outputs": [
    {
     "output_type": "execute_result",
     "data": {
      "text/html": [
       "<div>\n",
       "<style scoped>\n",
       "    .dataframe tbody tr th:only-of-type {\n",
       "        vertical-align: middle;\n",
       "    }\n",
       "\n",
       "    .dataframe tbody tr th {\n",
       "        vertical-align: top;\n",
       "    }\n",
       "\n",
       "    .dataframe thead th {\n",
       "        text-align: right;\n",
       "    }\n",
       "</style>\n",
       "<table border=\"1\" class=\"dataframe\">\n",
       "  <thead>\n",
       "    <tr style=\"text-align: right;\">\n",
       "      <th></th>\n",
       "      <th>Unnamed: 0</th>\n",
       "      <th>movie_name</th>\n",
       "      <th>domestic_gross</th>\n",
       "      <th>movie_link</th>\n",
       "      <th>production_budget</th>\n",
       "      <th>release_date</th>\n",
       "      <th>worldwide_gross</th>\n",
       "      <th>movie_title</th>\n",
       "    </tr>\n",
       "  </thead>\n",
       "  <tbody>\n",
       "    <tr>\n",
       "      <th>0</th>\n",
       "      <td>0</td>\n",
       "      <td>Avatar</td>\n",
       "      <td>760507625</td>\n",
       "      <td>http://www.the-numbers.com/movie/Avatar#tab=su...</td>\n",
       "      <td>425000000</td>\n",
       "      <td>12/18/2009</td>\n",
       "      <td>2783918982</td>\n",
       "      <td>Avatar</td>\n",
       "    </tr>\n",
       "    <tr>\n",
       "      <th>1</th>\n",
       "      <td>1</td>\n",
       "      <td>Star Wars Ep. VII: The Force Awakens</td>\n",
       "      <td>936662225</td>\n",
       "      <td>http://www.the-numbers.com/movie/Star-Wars-Ep-...</td>\n",
       "      <td>306000000</td>\n",
       "      <td>12/18/2015</td>\n",
       "      <td>2058662225</td>\n",
       "      <td>Star Wars: Episode VII - The Force Awakens    ...</td>\n",
       "    </tr>\n",
       "    <tr>\n",
       "      <th>2</th>\n",
       "      <td>2</td>\n",
       "      <td>Pirates of the Caribbean: At World's End</td>\n",
       "      <td>309420425</td>\n",
       "      <td>http://www.the-numbers.com/movie/Pirates-of-th...</td>\n",
       "      <td>300000000</td>\n",
       "      <td>5/24/2007</td>\n",
       "      <td>963420425</td>\n",
       "      <td>Pirates of the Caribbean: At World's End</td>\n",
       "    </tr>\n",
       "    <tr>\n",
       "      <th>3</th>\n",
       "      <td>3</td>\n",
       "      <td>Spectre</td>\n",
       "      <td>200074175</td>\n",
       "      <td>http://www.the-numbers.com/movie/Spectre#tab=s...</td>\n",
       "      <td>300000000</td>\n",
       "      <td>11/6/2015</td>\n",
       "      <td>879620923</td>\n",
       "      <td>Spectre</td>\n",
       "    </tr>\n",
       "    <tr>\n",
       "      <th>4</th>\n",
       "      <td>4</td>\n",
       "      <td>The Dark Knight Rises</td>\n",
       "      <td>448139099</td>\n",
       "      <td>http://www.the-numbers.com/movie/Dark-Knight-R...</td>\n",
       "      <td>275000000</td>\n",
       "      <td>7/20/2012</td>\n",
       "      <td>1084439099</td>\n",
       "      <td>The Dark Knight Rises</td>\n",
       "    </tr>\n",
       "    <tr>\n",
       "      <th>...</th>\n",
       "      <td>...</td>\n",
       "      <td>...</td>\n",
       "      <td>...</td>\n",
       "      <td>...</td>\n",
       "      <td>...</td>\n",
       "      <td>...</td>\n",
       "      <td>...</td>\n",
       "      <td>...</td>\n",
       "    </tr>\n",
       "    <tr>\n",
       "      <th>4336</th>\n",
       "      <td>5157</td>\n",
       "      <td>The Mongol King</td>\n",
       "      <td>900</td>\n",
       "      <td>http://www.the-numbers.com/movie/Mongol-King-T...</td>\n",
       "      <td>7000</td>\n",
       "      <td>1/1/2004</td>\n",
       "      <td>900</td>\n",
       "      <td>The Mongol King</td>\n",
       "    </tr>\n",
       "    <tr>\n",
       "      <th>4337</th>\n",
       "      <td>5160</td>\n",
       "      <td>Signed Sealed Delivered</td>\n",
       "      <td>0</td>\n",
       "      <td>http://www.the-numbers.com/movie/Signed-Sealed...</td>\n",
       "      <td>5000</td>\n",
       "      <td>9/29/2015</td>\n",
       "      <td>0</td>\n",
       "      <td>Signed Sealed Delivered</td>\n",
       "    </tr>\n",
       "    <tr>\n",
       "      <th>4338</th>\n",
       "      <td>5161</td>\n",
       "      <td>Shanghai Calling</td>\n",
       "      <td>10443</td>\n",
       "      <td>http://www.the-numbers.com/movie/Shanghai-Call...</td>\n",
       "      <td>3967</td>\n",
       "      <td>2/15/2013</td>\n",
       "      <td>10443</td>\n",
       "      <td>Shanghai Calling</td>\n",
       "    </tr>\n",
       "    <tr>\n",
       "      <th>4339</th>\n",
       "      <td>5162</td>\n",
       "      <td>A Plague So Pleasant</td>\n",
       "      <td>0</td>\n",
       "      <td>http://www.the-numbers.com/movie/Plague-So-Ple...</td>\n",
       "      <td>1400</td>\n",
       "      <td>9/29/2015</td>\n",
       "      <td>0</td>\n",
       "      <td>A Plague So Pleasant</td>\n",
       "    </tr>\n",
       "    <tr>\n",
       "      <th>4340</th>\n",
       "      <td>5163</td>\n",
       "      <td>My Date With Drew</td>\n",
       "      <td>181041</td>\n",
       "      <td>http://www.the-numbers.com/movie/My-Date-With-...</td>\n",
       "      <td>1100</td>\n",
       "      <td>8/5/2005</td>\n",
       "      <td>181041</td>\n",
       "      <td>My Date with Drew</td>\n",
       "    </tr>\n",
       "  </tbody>\n",
       "</table>\n",
       "<p>4341 rows × 8 columns</p>\n",
       "</div>"
      ],
      "text/plain": [
       "      Unnamed: 0                                movie_name  domestic_gross  \\\n",
       "0              0                                    Avatar       760507625   \n",
       "1              1      Star Wars Ep. VII: The Force Awakens       936662225   \n",
       "2              2  Pirates of the Caribbean: At World's End       309420425   \n",
       "3              3                                   Spectre       200074175   \n",
       "4              4                     The Dark Knight Rises       448139099   \n",
       "...          ...                                       ...             ...   \n",
       "4336        5157                           The Mongol King             900   \n",
       "4337        5160                   Signed Sealed Delivered               0   \n",
       "4338        5161                          Shanghai Calling           10443   \n",
       "4339        5162                      A Plague So Pleasant               0   \n",
       "4340        5163                         My Date With Drew          181041   \n",
       "\n",
       "                                             movie_link  production_budget  \\\n",
       "0     http://www.the-numbers.com/movie/Avatar#tab=su...          425000000   \n",
       "1     http://www.the-numbers.com/movie/Star-Wars-Ep-...          306000000   \n",
       "2     http://www.the-numbers.com/movie/Pirates-of-th...          300000000   \n",
       "3     http://www.the-numbers.com/movie/Spectre#tab=s...          300000000   \n",
       "4     http://www.the-numbers.com/movie/Dark-Knight-R...          275000000   \n",
       "...                                                 ...                ...   \n",
       "4336  http://www.the-numbers.com/movie/Mongol-King-T...               7000   \n",
       "4337  http://www.the-numbers.com/movie/Signed-Sealed...               5000   \n",
       "4338  http://www.the-numbers.com/movie/Shanghai-Call...               3967   \n",
       "4339  http://www.the-numbers.com/movie/Plague-So-Ple...               1400   \n",
       "4340  http://www.the-numbers.com/movie/My-Date-With-...               1100   \n",
       "\n",
       "     release_date  worldwide_gross  \\\n",
       "0      12/18/2009       2783918982   \n",
       "1      12/18/2015       2058662225   \n",
       "2       5/24/2007        963420425   \n",
       "3       11/6/2015        879620923   \n",
       "4       7/20/2012       1084439099   \n",
       "...           ...              ...   \n",
       "4336     1/1/2004              900   \n",
       "4337    9/29/2015                0   \n",
       "4338    2/15/2013            10443   \n",
       "4339    9/29/2015                0   \n",
       "4340     8/5/2005           181041   \n",
       "\n",
       "                                            movie_title  \n",
       "0                                               Avatar   \n",
       "1     Star Wars: Episode VII - The Force Awakens    ...  \n",
       "2             Pirates of the Caribbean: At World's End   \n",
       "3                                              Spectre   \n",
       "4                                The Dark Knight Rises   \n",
       "...                                                 ...  \n",
       "4336                                   The Mongol King   \n",
       "4337                           Signed Sealed Delivered   \n",
       "4338                                  Shanghai Calling   \n",
       "4339                              A Plague So Pleasant   \n",
       "4340                                 My Date with Drew   \n",
       "\n",
       "[4341 rows x 8 columns]"
      ]
     },
     "metadata": {},
     "execution_count": 19
    }
   ],
   "metadata": {}
  },
  {
   "cell_type": "markdown",
   "source": [
    "Nos interesa el ingreso mundial y el presupuesto, "
   ],
   "metadata": {}
  },
  {
   "cell_type": "code",
   "execution_count": 20,
   "source": [
    "financials = pd.read_csv('datasets/thenumbers.csv')"
   ],
   "outputs": [],
   "metadata": {}
  },
  {
   "cell_type": "markdown",
   "source": [
    "Movie_title va a ser la llave para unir los dataframes"
   ],
   "metadata": {}
  },
  {
   "cell_type": "code",
   "execution_count": 21,
   "source": [
    "financials = financials[['movie_title','production_budget','worldwide_gross']]"
   ],
   "outputs": [],
   "metadata": {}
  },
  {
   "cell_type": "code",
   "execution_count": 23,
   "source": [
    "financials.shape"
   ],
   "outputs": [
    {
     "output_type": "execute_result",
     "data": {
      "text/plain": [
       "(4341, 3)"
      ]
     },
     "metadata": {},
     "execution_count": 23
    }
   ],
   "metadata": {}
  },
  {
   "cell_type": "code",
   "execution_count": 24,
   "source": [
    "movies.shape"
   ],
   "outputs": [
    {
     "output_type": "execute_result",
     "data": {
      "text/plain": [
       "(5043, 19)"
      ]
     },
     "metadata": {},
     "execution_count": 24
    }
   ],
   "metadata": {}
  },
  {
   "cell_type": "markdown",
   "source": [
    "Vemos que se van a perder 702 datos "
   ],
   "metadata": {}
  },
  {
   "cell_type": "code",
   "execution_count": 27,
   "source": [
    "gross_opening = pd.read_csv('datasets/opening_df.csv')"
   ],
   "outputs": [],
   "metadata": {}
  },
  {
   "cell_type": "markdown",
   "source": [
    "Ahora vamos a agregar la columna de movietitle al datframe numérico, par así poder unir el dataframe numérico con el de financials"
   ],
   "metadata": {}
  },
  {
   "cell_type": "code",
   "execution_count": null,
   "source": [
    "movies['movie_title']"
   ],
   "outputs": [],
   "metadata": {}
  },
  {
   "cell_type": "markdown",
   "source": [
    "Como el dataframe y la columna vienen del mismo dataframe, comparten el mismo índice"
   ],
   "metadata": {}
  },
  {
   "cell_type": "code",
   "execution_count": 25,
   "source": [
    "movies_num = pd.concat([movies_num, movies['movie_title']],axis=1)"
   ],
   "outputs": [],
   "metadata": {}
  },
  {
   "cell_type": "code",
   "execution_count": 31,
   "source": [
    "movies_num.columns"
   ],
   "outputs": [
    {
     "output_type": "execute_result",
     "data": {
      "text/plain": [
       "Index(['title_year', 'aspect_ratio', 'duration', 'duration.1',\n",
       "       'cast_total_facebook_likes', 'budget', 'imdb_score', 'gross',\n",
       "       'movie_title'],\n",
       "      dtype='object')"
      ]
     },
     "metadata": {},
     "execution_count": 31
    }
   ],
   "metadata": {}
  },
  {
   "cell_type": "code",
   "execution_count": 28,
   "source": [
    "#al dataframe de financial le agregamos el df numérico, \r\n",
    "# conservando sólo los datos de financials\r\n",
    "pd.merge(financials,movies_num,on='movie_title',how='left')"
   ],
   "outputs": [
    {
     "output_type": "execute_result",
     "data": {
      "text/html": [
       "<div>\n",
       "<style scoped>\n",
       "    .dataframe tbody tr th:only-of-type {\n",
       "        vertical-align: middle;\n",
       "    }\n",
       "\n",
       "    .dataframe tbody tr th {\n",
       "        vertical-align: top;\n",
       "    }\n",
       "\n",
       "    .dataframe thead th {\n",
       "        text-align: right;\n",
       "    }\n",
       "</style>\n",
       "<table border=\"1\" class=\"dataframe\">\n",
       "  <thead>\n",
       "    <tr style=\"text-align: right;\">\n",
       "      <th></th>\n",
       "      <th>movie_title</th>\n",
       "      <th>production_budget</th>\n",
       "      <th>worldwide_gross</th>\n",
       "      <th>title_year</th>\n",
       "      <th>aspect_ratio</th>\n",
       "      <th>duration</th>\n",
       "      <th>duration.1</th>\n",
       "      <th>cast_total_facebook_likes</th>\n",
       "      <th>budget</th>\n",
       "      <th>imdb_score</th>\n",
       "      <th>gross</th>\n",
       "    </tr>\n",
       "  </thead>\n",
       "  <tbody>\n",
       "    <tr>\n",
       "      <th>0</th>\n",
       "      <td>Avatar</td>\n",
       "      <td>425000000</td>\n",
       "      <td>2783918982</td>\n",
       "      <td>2,009.00</td>\n",
       "      <td>1.78</td>\n",
       "      <td>178.00</td>\n",
       "      <td>178.00</td>\n",
       "      <td>4834</td>\n",
       "      <td>237,000,000.00</td>\n",
       "      <td>7.90</td>\n",
       "      <td>760,505,847.00</td>\n",
       "    </tr>\n",
       "    <tr>\n",
       "      <th>1</th>\n",
       "      <td>Star Wars: Episode VII - The Force Awakens    ...</td>\n",
       "      <td>306000000</td>\n",
       "      <td>2058662225</td>\n",
       "      <td>NaN</td>\n",
       "      <td>NaN</td>\n",
       "      <td>NaN</td>\n",
       "      <td>NaN</td>\n",
       "      <td>143</td>\n",
       "      <td>NaN</td>\n",
       "      <td>7.10</td>\n",
       "      <td>NaN</td>\n",
       "    </tr>\n",
       "    <tr>\n",
       "      <th>2</th>\n",
       "      <td>Pirates of the Caribbean: At World's End</td>\n",
       "      <td>300000000</td>\n",
       "      <td>963420425</td>\n",
       "      <td>2,007.00</td>\n",
       "      <td>2.35</td>\n",
       "      <td>169.00</td>\n",
       "      <td>169.00</td>\n",
       "      <td>48350</td>\n",
       "      <td>300,000,000.00</td>\n",
       "      <td>7.10</td>\n",
       "      <td>309,404,152.00</td>\n",
       "    </tr>\n",
       "    <tr>\n",
       "      <th>3</th>\n",
       "      <td>Spectre</td>\n",
       "      <td>300000000</td>\n",
       "      <td>879620923</td>\n",
       "      <td>2,015.00</td>\n",
       "      <td>2.35</td>\n",
       "      <td>148.00</td>\n",
       "      <td>148.00</td>\n",
       "      <td>11700</td>\n",
       "      <td>245,000,000.00</td>\n",
       "      <td>6.80</td>\n",
       "      <td>200,074,175.00</td>\n",
       "    </tr>\n",
       "    <tr>\n",
       "      <th>4</th>\n",
       "      <td>The Dark Knight Rises</td>\n",
       "      <td>275000000</td>\n",
       "      <td>1084439099</td>\n",
       "      <td>2,012.00</td>\n",
       "      <td>2.35</td>\n",
       "      <td>164.00</td>\n",
       "      <td>164.00</td>\n",
       "      <td>106759</td>\n",
       "      <td>250,000,000.00</td>\n",
       "      <td>8.50</td>\n",
       "      <td>448,130,642.00</td>\n",
       "    </tr>\n",
       "    <tr>\n",
       "      <th>...</th>\n",
       "      <td>...</td>\n",
       "      <td>...</td>\n",
       "      <td>...</td>\n",
       "      <td>...</td>\n",
       "      <td>...</td>\n",
       "      <td>...</td>\n",
       "      <td>...</td>\n",
       "      <td>...</td>\n",
       "      <td>...</td>\n",
       "      <td>...</td>\n",
       "      <td>...</td>\n",
       "    </tr>\n",
       "    <tr>\n",
       "      <th>4380</th>\n",
       "      <td>The Mongol King</td>\n",
       "      <td>7000</td>\n",
       "      <td>900</td>\n",
       "      <td>2,005.00</td>\n",
       "      <td>NaN</td>\n",
       "      <td>84.00</td>\n",
       "      <td>84.00</td>\n",
       "      <td>93</td>\n",
       "      <td>3,250.00</td>\n",
       "      <td>7.80</td>\n",
       "      <td>NaN</td>\n",
       "    </tr>\n",
       "    <tr>\n",
       "      <th>4381</th>\n",
       "      <td>Signed Sealed Delivered</td>\n",
       "      <td>5000</td>\n",
       "      <td>0</td>\n",
       "      <td>2,013.00</td>\n",
       "      <td>NaN</td>\n",
       "      <td>87.00</td>\n",
       "      <td>87.00</td>\n",
       "      <td>2283</td>\n",
       "      <td>NaN</td>\n",
       "      <td>7.70</td>\n",
       "      <td>NaN</td>\n",
       "    </tr>\n",
       "    <tr>\n",
       "      <th>4382</th>\n",
       "      <td>Shanghai Calling</td>\n",
       "      <td>3967</td>\n",
       "      <td>10443</td>\n",
       "      <td>2,012.00</td>\n",
       "      <td>2.35</td>\n",
       "      <td>100.00</td>\n",
       "      <td>100.00</td>\n",
       "      <td>2386</td>\n",
       "      <td>NaN</td>\n",
       "      <td>6.30</td>\n",
       "      <td>10,443.00</td>\n",
       "    </tr>\n",
       "    <tr>\n",
       "      <th>4383</th>\n",
       "      <td>A Plague So Pleasant</td>\n",
       "      <td>1400</td>\n",
       "      <td>0</td>\n",
       "      <td>2,013.00</td>\n",
       "      <td>NaN</td>\n",
       "      <td>76.00</td>\n",
       "      <td>76.00</td>\n",
       "      <td>0</td>\n",
       "      <td>1,400.00</td>\n",
       "      <td>6.30</td>\n",
       "      <td>NaN</td>\n",
       "    </tr>\n",
       "    <tr>\n",
       "      <th>4384</th>\n",
       "      <td>My Date with Drew</td>\n",
       "      <td>1100</td>\n",
       "      <td>181041</td>\n",
       "      <td>2,004.00</td>\n",
       "      <td>1.85</td>\n",
       "      <td>90.00</td>\n",
       "      <td>90.00</td>\n",
       "      <td>163</td>\n",
       "      <td>1,100.00</td>\n",
       "      <td>6.60</td>\n",
       "      <td>85,222.00</td>\n",
       "    </tr>\n",
       "  </tbody>\n",
       "</table>\n",
       "<p>4385 rows × 11 columns</p>\n",
       "</div>"
      ],
      "text/plain": [
       "                                            movie_title  production_budget  \\\n",
       "0                                               Avatar           425000000   \n",
       "1     Star Wars: Episode VII - The Force Awakens    ...          306000000   \n",
       "2             Pirates of the Caribbean: At World's End           300000000   \n",
       "3                                              Spectre           300000000   \n",
       "4                                The Dark Knight Rises           275000000   \n",
       "...                                                 ...                ...   \n",
       "4380                                   The Mongol King                7000   \n",
       "4381                           Signed Sealed Delivered                5000   \n",
       "4382                                  Shanghai Calling                3967   \n",
       "4383                              A Plague So Pleasant                1400   \n",
       "4384                                 My Date with Drew                1100   \n",
       "\n",
       "      worldwide_gross  title_year  aspect_ratio  duration  duration.1  \\\n",
       "0          2783918982    2,009.00          1.78    178.00      178.00   \n",
       "1          2058662225         NaN           NaN       NaN         NaN   \n",
       "2           963420425    2,007.00          2.35    169.00      169.00   \n",
       "3           879620923    2,015.00          2.35    148.00      148.00   \n",
       "4          1084439099    2,012.00          2.35    164.00      164.00   \n",
       "...               ...         ...           ...       ...         ...   \n",
       "4380              900    2,005.00           NaN     84.00       84.00   \n",
       "4381                0    2,013.00           NaN     87.00       87.00   \n",
       "4382            10443    2,012.00          2.35    100.00      100.00   \n",
       "4383                0    2,013.00           NaN     76.00       76.00   \n",
       "4384           181041    2,004.00          1.85     90.00       90.00   \n",
       "\n",
       "      cast_total_facebook_likes         budget  imdb_score          gross  \n",
       "0                          4834 237,000,000.00        7.90 760,505,847.00  \n",
       "1                           143            NaN        7.10            NaN  \n",
       "2                         48350 300,000,000.00        7.10 309,404,152.00  \n",
       "3                         11700 245,000,000.00        6.80 200,074,175.00  \n",
       "4                        106759 250,000,000.00        8.50 448,130,642.00  \n",
       "...                         ...            ...         ...            ...  \n",
       "4380                         93       3,250.00        7.80            NaN  \n",
       "4381                       2283            NaN        7.70            NaN  \n",
       "4382                       2386            NaN        6.30      10,443.00  \n",
       "4383                          0       1,400.00        6.30            NaN  \n",
       "4384                        163       1,100.00        6.60      85,222.00  \n",
       "\n",
       "[4385 rows x 11 columns]"
      ]
     },
     "metadata": {},
     "execution_count": 28
    }
   ],
   "metadata": {}
  },
  {
   "cell_type": "code",
   "execution_count": 29,
   "source": [
    "movies_v2 = pd.merge(financials,movies_num,on='movie_title',how='left')"
   ],
   "outputs": [],
   "metadata": {}
  },
  {
   "cell_type": "code",
   "execution_count": 30,
   "source": [
    "movies_v2.shape"
   ],
   "outputs": [
    {
     "output_type": "execute_result",
     "data": {
      "text/plain": [
       "(4385, 11)"
      ]
     },
     "metadata": {},
     "execution_count": 30
    }
   ],
   "metadata": {}
  },
  {
   "cell_type": "code",
   "execution_count": 26,
   "source": [
    "gross_opening = gross_opening.drop('Unnamed: 0',axis=1)"
   ],
   "outputs": [],
   "metadata": {}
  },
  {
   "cell_type": "code",
   "execution_count": 45,
   "source": [
    "movies_v2 = pd.merge(movies_v2,gross_opening,on='movie_title',how='left')"
   ],
   "outputs": [],
   "metadata": {}
  },
  {
   "cell_type": "markdown",
   "source": [
    "## **NOTAS**\r\n"
   ],
   "metadata": {}
  },
  {
   "cell_type": "markdown",
   "source": [
    "Financials tenía 4341 registros y al hacer el merge izquierdo, se tienen 4385 registros, 44 registros más de lo que debería. El dataframe de movies_num, tiene registros duplicados hay que eliminarlos antes de hacer el merge"
   ],
   "metadata": {}
  },
  {
   "cell_type": "code",
   "execution_count": null,
   "source": [
    "#hacerlo antes del merge\r\n",
    "movies_num = movies_num.drop.duplicates()\r\n",
    "movies_num = movies_num.drop.duplicates(['movie_title'], keep = 'last')"
   ],
   "outputs": [],
   "metadata": {}
  },
  {
   "cell_type": "markdown",
   "source": [
    "Para eliminar columnas duplicadas"
   ],
   "metadata": {}
  },
  {
   "cell_type": "code",
   "execution_count": null,
   "source": [
    "movies_num = movies_num.loc[:,~movies_num.columns.duplicated()] \r\n"
   ],
   "outputs": [],
   "metadata": {}
  },
  {
   "cell_type": "markdown",
   "source": [
    "# 15.- Ahora solucionaremos el problema de los datos faltantes (nulos o NaN). "
   ],
   "metadata": {
    "slideshow": {
     "slide_type": "slide"
    }
   }
  },
  {
   "cell_type": "markdown",
   "source": [
    "<div class=\"alert alert-success\">\n",
    "  Los datos faltantes generan problemas con muchos algoritmos de ML. Es por esto que existen distintas estrategias para lidiar con ellos.\n",
    "</div>"
   ],
   "metadata": {}
  },
  {
   "cell_type": "code",
   "execution_count": 32,
   "source": [
    "help(pd.Series.value_counts)"
   ],
   "outputs": [
    {
     "output_type": "stream",
     "name": "stdout",
     "text": [
      "Help on function value_counts in module pandas.core.base:\n",
      "\n",
      "value_counts(self, normalize: 'bool' = False, sort: 'bool' = True, ascending: 'bool' = False, bins=None, dropna: 'bool' = True)\n",
      "    Return a Series containing counts of unique values.\n",
      "    \n",
      "    The resulting object will be in descending order so that the\n",
      "    first element is the most frequently-occurring element.\n",
      "    Excludes NA values by default.\n",
      "    \n",
      "    Parameters\n",
      "    ----------\n",
      "    normalize : bool, default False\n",
      "        If True then the object returned will contain the relative\n",
      "        frequencies of the unique values.\n",
      "    sort : bool, default True\n",
      "        Sort by frequencies.\n",
      "    ascending : bool, default False\n",
      "        Sort in ascending order.\n",
      "    bins : int, optional\n",
      "        Rather than count values, group them into half-open bins,\n",
      "        a convenience for ``pd.cut``, only works with numeric data.\n",
      "    dropna : bool, default True\n",
      "        Don't include counts of NaN.\n",
      "    \n",
      "    Returns\n",
      "    -------\n",
      "    Series\n",
      "    \n",
      "    See Also\n",
      "    --------\n",
      "    Series.count: Number of non-NA elements in a Series.\n",
      "    DataFrame.count: Number of non-NA elements in a DataFrame.\n",
      "    DataFrame.value_counts: Equivalent method on DataFrames.\n",
      "    \n",
      "    Examples\n",
      "    --------\n",
      "    >>> index = pd.Index([3, 1, 2, 3, 4, np.nan])\n",
      "    >>> index.value_counts()\n",
      "    3.0    2\n",
      "    1.0    1\n",
      "    2.0    1\n",
      "    4.0    1\n",
      "    dtype: int64\n",
      "    \n",
      "    With `normalize` set to `True`, returns the relative frequency by\n",
      "    dividing all values by the sum of values.\n",
      "    \n",
      "    >>> s = pd.Series([3, 1, 2, 3, 4, np.nan])\n",
      "    >>> s.value_counts(normalize=True)\n",
      "    3.0    0.4\n",
      "    1.0    0.2\n",
      "    2.0    0.2\n",
      "    4.0    0.2\n",
      "    dtype: float64\n",
      "    \n",
      "    **bins**\n",
      "    \n",
      "    Bins can be useful for going from a continuous variable to a\n",
      "    categorical variable; instead of counting unique\n",
      "    apparitions of values, divide the index in the specified\n",
      "    number of half-open bins.\n",
      "    \n",
      "    >>> s.value_counts(bins=3)\n",
      "    (0.996, 2.0]    2\n",
      "    (2.0, 3.0]      2\n",
      "    (3.0, 4.0]      1\n",
      "    dtype: int64\n",
      "    \n",
      "    **dropna**\n",
      "    \n",
      "    With `dropna` set to `False` we can also see NaN index values.\n",
      "    \n",
      "    >>> s.value_counts(dropna=False)\n",
      "    3.0    2\n",
      "    1.0    1\n",
      "    2.0    1\n",
      "    4.0    1\n",
      "    NaN    1\n",
      "    dtype: int64\n",
      "\n"
     ]
    }
   ],
   "metadata": {}
  },
  {
   "cell_type": "markdown",
   "source": [
    "Columna por columna, aplicará la función de value_counts. entonces, contará los valores true o False.\r\n",
    "\r\n",
    "Con `.notnull()` devolverá falso en los vacíos\r\n",
    "\r\n"
   ],
   "metadata": {}
  },
  {
   "cell_type": "code",
   "execution_count": 33,
   "source": [
    "movies_v2.notnull().apply(pd.Series.value_counts)"
   ],
   "outputs": [
    {
     "output_type": "execute_result",
     "data": {
      "text/html": [
       "<div>\n",
       "<style scoped>\n",
       "    .dataframe tbody tr th:only-of-type {\n",
       "        vertical-align: middle;\n",
       "    }\n",
       "\n",
       "    .dataframe tbody tr th {\n",
       "        vertical-align: top;\n",
       "    }\n",
       "\n",
       "    .dataframe thead th {\n",
       "        text-align: right;\n",
       "    }\n",
       "</style>\n",
       "<table border=\"1\" class=\"dataframe\">\n",
       "  <thead>\n",
       "    <tr style=\"text-align: right;\">\n",
       "      <th></th>\n",
       "      <th>movie_title</th>\n",
       "      <th>production_budget</th>\n",
       "      <th>worldwide_gross</th>\n",
       "      <th>title_year</th>\n",
       "      <th>aspect_ratio</th>\n",
       "      <th>duration</th>\n",
       "      <th>duration.1</th>\n",
       "      <th>cast_total_facebook_likes</th>\n",
       "      <th>budget</th>\n",
       "      <th>imdb_score</th>\n",
       "      <th>gross</th>\n",
       "    </tr>\n",
       "  </thead>\n",
       "  <tbody>\n",
       "    <tr>\n",
       "      <th>False</th>\n",
       "      <td>NaN</td>\n",
       "      <td>NaN</td>\n",
       "      <td>NaN</td>\n",
       "      <td>27</td>\n",
       "      <td>274</td>\n",
       "      <td>13</td>\n",
       "      <td>13</td>\n",
       "      <td>NaN</td>\n",
       "      <td>335</td>\n",
       "      <td>NaN</td>\n",
       "      <td>671</td>\n",
       "    </tr>\n",
       "    <tr>\n",
       "      <th>True</th>\n",
       "      <td>4,385.00</td>\n",
       "      <td>4,385.00</td>\n",
       "      <td>4,385.00</td>\n",
       "      <td>4358</td>\n",
       "      <td>4111</td>\n",
       "      <td>4372</td>\n",
       "      <td>4372</td>\n",
       "      <td>4,385.00</td>\n",
       "      <td>4050</td>\n",
       "      <td>4,385.00</td>\n",
       "      <td>3714</td>\n",
       "    </tr>\n",
       "  </tbody>\n",
       "</table>\n",
       "</div>"
      ],
      "text/plain": [
       "       movie_title  production_budget  worldwide_gross  title_year  \\\n",
       "False          NaN                NaN              NaN          27   \n",
       "True      4,385.00           4,385.00         4,385.00        4358   \n",
       "\n",
       "       aspect_ratio  duration  duration.1  cast_total_facebook_likes  budget  \\\n",
       "False           274        13          13                        NaN     335   \n",
       "True           4111      4372        4372                   4,385.00    4050   \n",
       "\n",
       "       imdb_score  gross  \n",
       "False         NaN    671  \n",
       "True     4,385.00   3714  "
      ]
     },
     "metadata": {},
     "execution_count": 33
    }
   ],
   "metadata": {}
  },
  {
   "cell_type": "markdown",
   "source": [
    "Vemos que tenemos datos vacíos en title_year en adelnte"
   ],
   "metadata": {}
  },
  {
   "cell_type": "code",
   "execution_count": 34,
   "source": [
    "(movies_v2 != 0).apply(pd.Series.value_counts)"
   ],
   "outputs": [
    {
     "output_type": "execute_result",
     "data": {
      "text/html": [
       "<div>\n",
       "<style scoped>\n",
       "    .dataframe tbody tr th:only-of-type {\n",
       "        vertical-align: middle;\n",
       "    }\n",
       "\n",
       "    .dataframe tbody tr th {\n",
       "        vertical-align: top;\n",
       "    }\n",
       "\n",
       "    .dataframe thead th {\n",
       "        text-align: right;\n",
       "    }\n",
       "</style>\n",
       "<table border=\"1\" class=\"dataframe\">\n",
       "  <thead>\n",
       "    <tr style=\"text-align: right;\">\n",
       "      <th></th>\n",
       "      <th>movie_title</th>\n",
       "      <th>production_budget</th>\n",
       "      <th>worldwide_gross</th>\n",
       "      <th>title_year</th>\n",
       "      <th>aspect_ratio</th>\n",
       "      <th>duration</th>\n",
       "      <th>duration.1</th>\n",
       "      <th>cast_total_facebook_likes</th>\n",
       "      <th>budget</th>\n",
       "      <th>imdb_score</th>\n",
       "      <th>gross</th>\n",
       "    </tr>\n",
       "  </thead>\n",
       "  <tbody>\n",
       "    <tr>\n",
       "      <th>False</th>\n",
       "      <td>NaN</td>\n",
       "      <td>NaN</td>\n",
       "      <td>281</td>\n",
       "      <td>NaN</td>\n",
       "      <td>NaN</td>\n",
       "      <td>NaN</td>\n",
       "      <td>NaN</td>\n",
       "      <td>27</td>\n",
       "      <td>NaN</td>\n",
       "      <td>NaN</td>\n",
       "      <td>NaN</td>\n",
       "    </tr>\n",
       "    <tr>\n",
       "      <th>True</th>\n",
       "      <td>4,385.00</td>\n",
       "      <td>4,385.00</td>\n",
       "      <td>4104</td>\n",
       "      <td>4,385.00</td>\n",
       "      <td>4,385.00</td>\n",
       "      <td>4,385.00</td>\n",
       "      <td>4,385.00</td>\n",
       "      <td>4358</td>\n",
       "      <td>4,385.00</td>\n",
       "      <td>4,385.00</td>\n",
       "      <td>4,385.00</td>\n",
       "    </tr>\n",
       "  </tbody>\n",
       "</table>\n",
       "</div>"
      ],
      "text/plain": [
       "       movie_title  production_budget  worldwide_gross  title_year  \\\n",
       "False          NaN                NaN              281         NaN   \n",
       "True      4,385.00           4,385.00             4104    4,385.00   \n",
       "\n",
       "       aspect_ratio  duration  duration.1  cast_total_facebook_likes   budget  \\\n",
       "False           NaN       NaN         NaN                         27      NaN   \n",
       "True       4,385.00  4,385.00    4,385.00                       4358 4,385.00   \n",
       "\n",
       "       imdb_score    gross  \n",
       "False         NaN      NaN  \n",
       "True     4,385.00 4,385.00  "
      ]
     },
     "metadata": {},
     "execution_count": 34
    }
   ],
   "metadata": {}
  },
  {
   "cell_type": "code",
   "execution_count": 50,
   "source": [
    "available = ((movies_v2 != 0) & (movies_v2.notnull()))"
   ],
   "outputs": [],
   "metadata": {}
  },
  {
   "cell_type": "code",
   "execution_count": 51,
   "source": [
    "available.all(axis=1).value_counts()"
   ],
   "outputs": [
    {
     "output_type": "execute_result",
     "data": {
      "text/plain": [
       "False    2252\n",
       "True     2133\n",
       "dtype: int64"
      ]
     },
     "metadata": {},
     "execution_count": 51
    }
   ],
   "metadata": {}
  },
  {
   "cell_type": "markdown",
   "source": [
    "No podemos entrenar nuestro algoritmo con datos cuya variable objetivo no esta definida o sea nula (valor falso). Eliminemos esas líneas."
   ],
   "metadata": {}
  },
  {
   "cell_type": "code",
   "execution_count": 52,
   "source": [
    "mask = available['worldwide_gross']"
   ],
   "outputs": [],
   "metadata": {}
  },
  {
   "cell_type": "code",
   "execution_count": 53,
   "source": [
    "movies_v2 = movies_v2[mask]"
   ],
   "outputs": [],
   "metadata": {}
  },
  {
   "cell_type": "code",
   "execution_count": 54,
   "source": [
    "((movies_v2 != 0) & (movies_v2.notnull())).worldwide_gross.value_counts()"
   ],
   "outputs": [
    {
     "output_type": "execute_result",
     "data": {
      "text/plain": [
       "True    4104\n",
       "Name: worldwide_gross, dtype: int64"
      ]
     },
     "metadata": {},
     "execution_count": 54
    }
   ],
   "metadata": {}
  },
  {
   "cell_type": "markdown",
   "source": [
    "<div class=\"alert alert-success\">\n",
    "  En el caso de las features que no son la variable objetivo una mejor solución para lidiar con los datos faltantes es <strong>remplazar estos datos por otros que sean manejables</strong> y no afecten la calidad de las predicciones. La estrategia más comun es utilizar la media de todos los ejemplos para la feature dada.\n",
    "</div>"
   ],
   "metadata": {}
  },
  {
   "cell_type": "code",
   "execution_count": 55,
   "source": [
    "movies_v2 = movies_v2.drop('movie_title',axis=1)"
   ],
   "outputs": [],
   "metadata": {}
  },
  {
   "cell_type": "code",
   "execution_count": 56,
   "source": [
    "movies_v2 = movies_v2.drop('duration',axis=1)"
   ],
   "outputs": [],
   "metadata": {}
  },
  {
   "cell_type": "code",
   "execution_count": 57,
   "source": [
    "movies_v2 = movies_v2.drop('gross',axis=1)"
   ],
   "outputs": [],
   "metadata": {}
  },
  {
   "cell_type": "code",
   "execution_count": 58,
   "source": [
    "movies_v2.head()"
   ],
   "outputs": [
    {
     "output_type": "execute_result",
     "data": {
      "text/html": [
       "<div>\n",
       "<table border=\"1\" class=\"dataframe\">\n",
       "  <thead>\n",
       "    <tr style=\"text-align: right;\">\n",
       "      <th></th>\n",
       "      <th>production_budget</th>\n",
       "      <th>worldwide_gross</th>\n",
       "      <th>title_year</th>\n",
       "      <th>aspect_ratio</th>\n",
       "      <th>duration.1</th>\n",
       "      <th>cast_total_facebook_likes</th>\n",
       "      <th>budget</th>\n",
       "      <th>imdb_score</th>\n",
       "      <th>opening_gross</th>\n",
       "      <th>screens</th>\n",
       "    </tr>\n",
       "  </thead>\n",
       "  <tbody>\n",
       "    <tr>\n",
       "      <th>0</th>\n",
       "      <td>425000000</td>\n",
       "      <td>2783918982</td>\n",
       "      <td>2009.0</td>\n",
       "      <td>1.78</td>\n",
       "      <td>178.0</td>\n",
       "      <td>4834</td>\n",
       "      <td>237000000.0</td>\n",
       "      <td>7.9</td>\n",
       "      <td>77025481.0</td>\n",
       "      <td>3452.0</td>\n",
       "    </tr>\n",
       "    <tr>\n",
       "      <th>1</th>\n",
       "      <td>306000000</td>\n",
       "      <td>2058662225</td>\n",
       "      <td>NaN</td>\n",
       "      <td>NaN</td>\n",
       "      <td>NaN</td>\n",
       "      <td>143</td>\n",
       "      <td>NaN</td>\n",
       "      <td>7.1</td>\n",
       "      <td>NaN</td>\n",
       "      <td>NaN</td>\n",
       "    </tr>\n",
       "    <tr>\n",
       "      <th>2</th>\n",
       "      <td>300000000</td>\n",
       "      <td>963420425</td>\n",
       "      <td>2007.0</td>\n",
       "      <td>2.35</td>\n",
       "      <td>169.0</td>\n",
       "      <td>48350</td>\n",
       "      <td>300000000.0</td>\n",
       "      <td>7.1</td>\n",
       "      <td>139802190.0</td>\n",
       "      <td>4362.0</td>\n",
       "    </tr>\n",
       "    <tr>\n",
       "      <th>3</th>\n",
       "      <td>300000000</td>\n",
       "      <td>879620923</td>\n",
       "      <td>2015.0</td>\n",
       "      <td>2.35</td>\n",
       "      <td>148.0</td>\n",
       "      <td>11700</td>\n",
       "      <td>245000000.0</td>\n",
       "      <td>6.8</td>\n",
       "      <td>70403148.0</td>\n",
       "      <td>3929.0</td>\n",
       "    </tr>\n",
       "    <tr>\n",
       "      <th>4</th>\n",
       "      <td>275000000</td>\n",
       "      <td>1084439099</td>\n",
       "      <td>2012.0</td>\n",
       "      <td>2.35</td>\n",
       "      <td>164.0</td>\n",
       "      <td>106759</td>\n",
       "      <td>250000000.0</td>\n",
       "      <td>8.5</td>\n",
       "      <td>160887295.0</td>\n",
       "      <td>4404.0</td>\n",
       "    </tr>\n",
       "  </tbody>\n",
       "</table>\n",
       "</div>"
      ],
      "text/plain": [
       "   production_budget  worldwide_gross  title_year  aspect_ratio  duration.1  \\\n",
       "0          425000000       2783918982      2009.0          1.78       178.0   \n",
       "1          306000000       2058662225         NaN           NaN         NaN   \n",
       "2          300000000        963420425      2007.0          2.35       169.0   \n",
       "3          300000000        879620923      2015.0          2.35       148.0   \n",
       "4          275000000       1084439099      2012.0          2.35       164.0   \n",
       "\n",
       "   cast_total_facebook_likes       budget  imdb_score  opening_gross  screens  \n",
       "0                       4834  237000000.0         7.9     77025481.0   3452.0  \n",
       "1                        143          NaN         7.1            NaN      NaN  \n",
       "2                      48350  300000000.0         7.1    139802190.0   4362.0  \n",
       "3                      11700  245000000.0         6.8     70403148.0   3929.0  \n",
       "4                     106759  250000000.0         8.5    160887295.0   4404.0  "
      ]
     },
     "metadata": {},
     "execution_count": 58
    }
   ],
   "metadata": {}
  },
  {
   "cell_type": "code",
   "execution_count": 59,
   "source": [
    "movies_v2 = movies_v2[available.screens]"
   ],
   "outputs": [
    {
     "output_type": "stream",
     "name": "stderr",
     "text": [
      "/opt/conda/lib/python3.5/site-packages/ipykernel_launcher.py:1: UserWarning: Boolean Series key will be reindexed to match DataFrame index.\n",
      "  \"\"\"Entry point for launching an IPython kernel.\n"
     ]
    }
   ],
   "metadata": {}
  },
  {
   "cell_type": "code",
   "execution_count": 62,
   "source": [
    "len(movies_v2)"
   ],
   "outputs": [
    {
     "output_type": "execute_result",
     "data": {
      "text/plain": [
       "2221"
      ]
     },
     "metadata": {},
     "execution_count": 62
    }
   ],
   "metadata": {}
  },
  {
   "cell_type": "code",
   "execution_count": 61,
   "source": [
    "from sklearn.preprocessing import Imputer\n",
    "imputer = Imputer(missing_values=np.nan, strategy='mean')"
   ],
   "outputs": [],
   "metadata": {}
  },
  {
   "cell_type": "code",
   "execution_count": 63,
   "source": [
    "values = imputer.fit_transform(movies_v2)\n",
    "X = pd.DataFrame(values)\n",
    "X.columns = movies_v2.columns\n",
    "X.index = movies_v2.index\n",
    "X.head()"
   ],
   "outputs": [
    {
     "output_type": "execute_result",
     "data": {
      "text/html": [
       "<div>\n",
       "<table border=\"1\" class=\"dataframe\">\n",
       "  <thead>\n",
       "    <tr style=\"text-align: right;\">\n",
       "      <th></th>\n",
       "      <th>production_budget</th>\n",
       "      <th>worldwide_gross</th>\n",
       "      <th>title_year</th>\n",
       "      <th>aspect_ratio</th>\n",
       "      <th>duration.1</th>\n",
       "      <th>cast_total_facebook_likes</th>\n",
       "      <th>budget</th>\n",
       "      <th>imdb_score</th>\n",
       "      <th>opening_gross</th>\n",
       "      <th>screens</th>\n",
       "    </tr>\n",
       "  </thead>\n",
       "  <tbody>\n",
       "    <tr>\n",
       "      <th>0</th>\n",
       "      <td>425000000.0</td>\n",
       "      <td>2.783919e+09</td>\n",
       "      <td>2009.0</td>\n",
       "      <td>1.78</td>\n",
       "      <td>178.0</td>\n",
       "      <td>4834.0</td>\n",
       "      <td>237000000.0</td>\n",
       "      <td>7.9</td>\n",
       "      <td>77025481.0</td>\n",
       "      <td>3452.0</td>\n",
       "    </tr>\n",
       "    <tr>\n",
       "      <th>2</th>\n",
       "      <td>300000000.0</td>\n",
       "      <td>9.634204e+08</td>\n",
       "      <td>2007.0</td>\n",
       "      <td>2.35</td>\n",
       "      <td>169.0</td>\n",
       "      <td>48350.0</td>\n",
       "      <td>300000000.0</td>\n",
       "      <td>7.1</td>\n",
       "      <td>139802190.0</td>\n",
       "      <td>4362.0</td>\n",
       "    </tr>\n",
       "    <tr>\n",
       "      <th>3</th>\n",
       "      <td>300000000.0</td>\n",
       "      <td>8.796209e+08</td>\n",
       "      <td>2015.0</td>\n",
       "      <td>2.35</td>\n",
       "      <td>148.0</td>\n",
       "      <td>11700.0</td>\n",
       "      <td>245000000.0</td>\n",
       "      <td>6.8</td>\n",
       "      <td>70403148.0</td>\n",
       "      <td>3929.0</td>\n",
       "    </tr>\n",
       "    <tr>\n",
       "      <th>4</th>\n",
       "      <td>275000000.0</td>\n",
       "      <td>1.084439e+09</td>\n",
       "      <td>2012.0</td>\n",
       "      <td>2.35</td>\n",
       "      <td>164.0</td>\n",
       "      <td>106759.0</td>\n",
       "      <td>250000000.0</td>\n",
       "      <td>8.5</td>\n",
       "      <td>160887295.0</td>\n",
       "      <td>4404.0</td>\n",
       "    </tr>\n",
       "    <tr>\n",
       "      <th>5</th>\n",
       "      <td>275000000.0</td>\n",
       "      <td>2.600021e+08</td>\n",
       "      <td>2013.0</td>\n",
       "      <td>2.35</td>\n",
       "      <td>150.0</td>\n",
       "      <td>45757.0</td>\n",
       "      <td>215000000.0</td>\n",
       "      <td>6.5</td>\n",
       "      <td>29210849.0</td>\n",
       "      <td>3904.0</td>\n",
       "    </tr>\n",
       "  </tbody>\n",
       "</table>\n",
       "</div>"
      ],
      "text/plain": [
       "   production_budget  worldwide_gross  title_year  aspect_ratio  duration.1  \\\n",
       "0        425000000.0     2.783919e+09      2009.0          1.78       178.0   \n",
       "2        300000000.0     9.634204e+08      2007.0          2.35       169.0   \n",
       "3        300000000.0     8.796209e+08      2015.0          2.35       148.0   \n",
       "4        275000000.0     1.084439e+09      2012.0          2.35       164.0   \n",
       "5        275000000.0     2.600021e+08      2013.0          2.35       150.0   \n",
       "\n",
       "   cast_total_facebook_likes       budget  imdb_score  opening_gross  screens  \n",
       "0                     4834.0  237000000.0         7.9     77025481.0   3452.0  \n",
       "2                    48350.0  300000000.0         7.1    139802190.0   4362.0  \n",
       "3                    11700.0  245000000.0         6.8     70403148.0   3929.0  \n",
       "4                   106759.0  250000000.0         8.5    160887295.0   4404.0  \n",
       "5                    45757.0  215000000.0         6.5     29210849.0   3904.0  "
      ]
     },
     "metadata": {},
     "execution_count": 63
    }
   ],
   "metadata": {
    "scrolled": true
   }
  },
  {
   "cell_type": "code",
   "execution_count": 64,
   "source": [
    "len(X)"
   ],
   "outputs": [
    {
     "output_type": "execute_result",
     "data": {
      "text/plain": [
       "2221"
      ]
     },
     "metadata": {},
     "execution_count": 64
    }
   ],
   "metadata": {}
  },
  {
   "cell_type": "code",
   "execution_count": 61,
   "source": [
    "movies_v2.values"
   ],
   "outputs": [
    {
     "output_type": "execute_result",
     "data": {
      "text/plain": [
       "array([[  4.25000000e+08,   2.78391898e+09,   2.00900000e+03, ...,\n",
       "          7.90000000e+00,   7.70254810e+07,   3.45200000e+03],\n",
       "       [  3.06000000e+08,   2.05866222e+09,              nan, ...,\n",
       "          7.10000000e+00,              nan,              nan],\n",
       "       [  3.00000000e+08,   9.63420425e+08,   2.00700000e+03, ...,\n",
       "          7.10000000e+00,   1.39802190e+08,   4.36200000e+03],\n",
       "       ..., \n",
       "       [  7.00000000e+03,   9.00000000e+02,   2.00500000e+03, ...,\n",
       "          7.80000000e+00,              nan,              nan],\n",
       "       [  3.96700000e+03,   1.04430000e+04,   2.01200000e+03, ...,\n",
       "          6.30000000e+00,              nan,              nan],\n",
       "       [  1.10000000e+03,   1.81041000e+05,   2.00400000e+03, ...,\n",
       "          6.60000000e+00,              nan,              nan]])"
      ]
     },
     "metadata": {},
     "execution_count": 61
    }
   ],
   "metadata": {}
  },
  {
   "cell_type": "code",
   "execution_count": 62,
   "source": [
    "values"
   ],
   "outputs": [
    {
     "output_type": "execute_result",
     "data": {
      "text/plain": [
       "array([[  4.25000000e+08,   2.78391898e+09,   2.00900000e+03, ...,\n",
       "          7.90000000e+00,   7.70254810e+07,   3.45200000e+03],\n",
       "       [  3.06000000e+08,   2.05866222e+09,   5.91165594e+08, ...,\n",
       "          7.10000000e+00,   5.91165594e+08,   5.91165594e+08],\n",
       "       [  3.00000000e+08,   9.63420425e+08,   2.00700000e+03, ...,\n",
       "          7.10000000e+00,   1.39802190e+08,   4.36200000e+03],\n",
       "       ..., \n",
       "       [  7.00000000e+03,   9.00000000e+02,   2.00500000e+03, ...,\n",
       "          7.80000000e+00,   1.90568571e+03,   1.90568571e+03],\n",
       "       [  3.96700000e+03,   1.04430000e+04,   2.01200000e+03, ...,\n",
       "          6.30000000e+00,   2.70237857e+03,   2.70237857e+03],\n",
       "       [  1.10000000e+03,   1.81041000e+05,   2.00400000e+03, ...,\n",
       "          6.60000000e+00,   2.31883063e+04,   2.31883063e+04]])"
      ]
     },
     "metadata": {},
     "execution_count": 62
    }
   ],
   "metadata": {}
  },
  {
   "cell_type": "code",
   "execution_count": 65,
   "source": [
    "X.to_csv('../vol/intermediate_results/X_opening.csv',index=False)"
   ],
   "outputs": [],
   "metadata": {}
  },
  {
   "cell_type": "code",
   "execution_count": 68,
   "source": [
    "pd.Series(X.index).apply(lambda x: inv_map.loc[x])"
   ],
   "outputs": [
    {
     "output_type": "error",
     "ename": "NameError",
     "evalue": "name 'inv_map' is not defined",
     "traceback": [
      "\u001b[0;31m\u001b[0m",
      "\u001b[0;31mNameError\u001b[0mTraceback (most recent call last)",
      "\u001b[0;32m<ipython-input-68-27d06730cdf2>\u001b[0m in \u001b[0;36m<module>\u001b[0;34m()\u001b[0m\n\u001b[0;32m----> 1\u001b[0;31m \u001b[0mpd\u001b[0m\u001b[0;34m.\u001b[0m\u001b[0mSeries\u001b[0m\u001b[0;34m(\u001b[0m\u001b[0mX\u001b[0m\u001b[0;34m.\u001b[0m\u001b[0mindex\u001b[0m\u001b[0;34m)\u001b[0m\u001b[0;34m.\u001b[0m\u001b[0mapply\u001b[0m\u001b[0;34m(\u001b[0m\u001b[0;32mlambda\u001b[0m \u001b[0mx\u001b[0m\u001b[0;34m:\u001b[0m \u001b[0minv_map\u001b[0m\u001b[0;34m.\u001b[0m\u001b[0mloc\u001b[0m\u001b[0;34m[\u001b[0m\u001b[0mx\u001b[0m\u001b[0;34m]\u001b[0m\u001b[0;34m)\u001b[0m\u001b[0;34m\u001b[0m\u001b[0m\n\u001b[0m",
      "\u001b[0;32m/opt/conda/lib/python3.5/site-packages/pandas/core/series.py\u001b[0m in \u001b[0;36mapply\u001b[0;34m(self, func, convert_dtype, args, **kwds)\u001b[0m\n\u001b[1;32m   2292\u001b[0m             \u001b[0;32melse\u001b[0m\u001b[0;34m:\u001b[0m\u001b[0;34m\u001b[0m\u001b[0m\n\u001b[1;32m   2293\u001b[0m                 \u001b[0mvalues\u001b[0m \u001b[0;34m=\u001b[0m \u001b[0mself\u001b[0m\u001b[0;34m.\u001b[0m\u001b[0masobject\u001b[0m\u001b[0;34m\u001b[0m\u001b[0m\n\u001b[0;32m-> 2294\u001b[0;31m                 \u001b[0mmapped\u001b[0m \u001b[0;34m=\u001b[0m \u001b[0mlib\u001b[0m\u001b[0;34m.\u001b[0m\u001b[0mmap_infer\u001b[0m\u001b[0;34m(\u001b[0m\u001b[0mvalues\u001b[0m\u001b[0;34m,\u001b[0m \u001b[0mf\u001b[0m\u001b[0;34m,\u001b[0m \u001b[0mconvert\u001b[0m\u001b[0;34m=\u001b[0m\u001b[0mconvert_dtype\u001b[0m\u001b[0;34m)\u001b[0m\u001b[0;34m\u001b[0m\u001b[0m\n\u001b[0m\u001b[1;32m   2295\u001b[0m \u001b[0;34m\u001b[0m\u001b[0m\n\u001b[1;32m   2296\u001b[0m         \u001b[0;32mif\u001b[0m \u001b[0mlen\u001b[0m\u001b[0;34m(\u001b[0m\u001b[0mmapped\u001b[0m\u001b[0;34m)\u001b[0m \u001b[0;32mand\u001b[0m \u001b[0misinstance\u001b[0m\u001b[0;34m(\u001b[0m\u001b[0mmapped\u001b[0m\u001b[0;34m[\u001b[0m\u001b[0;36m0\u001b[0m\u001b[0;34m]\u001b[0m\u001b[0;34m,\u001b[0m \u001b[0mSeries\u001b[0m\u001b[0;34m)\u001b[0m\u001b[0;34m:\u001b[0m\u001b[0;34m\u001b[0m\u001b[0m\n",
      "\u001b[0;32mpandas/src/inference.pyx\u001b[0m in \u001b[0;36mpandas.lib.map_infer (pandas/lib.c:66124)\u001b[0;34m()\u001b[0m\n",
      "\u001b[0;32m<ipython-input-68-27d06730cdf2>\u001b[0m in \u001b[0;36m<lambda>\u001b[0;34m(x)\u001b[0m\n\u001b[0;32m----> 1\u001b[0;31m \u001b[0mpd\u001b[0m\u001b[0;34m.\u001b[0m\u001b[0mSeries\u001b[0m\u001b[0;34m(\u001b[0m\u001b[0mX\u001b[0m\u001b[0;34m.\u001b[0m\u001b[0mindex\u001b[0m\u001b[0;34m)\u001b[0m\u001b[0;34m.\u001b[0m\u001b[0mapply\u001b[0m\u001b[0;34m(\u001b[0m\u001b[0;32mlambda\u001b[0m \u001b[0mx\u001b[0m\u001b[0;34m:\u001b[0m \u001b[0minv_map\u001b[0m\u001b[0;34m.\u001b[0m\u001b[0mloc\u001b[0m\u001b[0;34m[\u001b[0m\u001b[0mx\u001b[0m\u001b[0;34m]\u001b[0m\u001b[0;34m)\u001b[0m\u001b[0;34m\u001b[0m\u001b[0m\n\u001b[0m",
      "\u001b[0;31mNameError\u001b[0m: name 'inv_map' is not defined"
     ]
    }
   ],
   "metadata": {}
  },
  {
   "cell_type": "code",
   "execution_count": null,
   "source": [
    "X.to_csv('../vol/intermediate_results/X.csv',index=False)"
   ],
   "outputs": [],
   "metadata": {}
  }
 ],
 "metadata": {
  "kernelspec": {
   "name": "python3",
   "display_name": "Python 3.7.9 64-bit ('venv': venv)"
  },
  "language_info": {
   "codemirror_mode": {
    "name": "ipython",
    "version": 3
   },
   "file_extension": ".py",
   "mimetype": "text/x-python",
   "name": "python",
   "nbconvert_exporter": "python",
   "pygments_lexer": "ipython3",
   "version": "3.7.9"
  },
  "interpreter": {
   "hash": "db8c710f4070c83bd1cdffd2a7d918f308ea353dd0ff3374096768cc3fdf0b58"
  }
 },
 "nbformat": 4,
 "nbformat_minor": 2
}