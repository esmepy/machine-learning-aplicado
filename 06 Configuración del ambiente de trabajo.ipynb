{
 "cells": [
  {
   "cell_type": "markdown",
   "source": [
    "## Configurar un ambiente Pydata de trabajo"
   ],
   "metadata": {
    "slideshow": {
     "slide_type": "slide"
    }
   }
  },
  {
   "cell_type": "markdown",
   "source": [
    "- Scikit-learn es la **librería de Machine Learning estandar más popular** según estadisticas de Github.\n",
    "- Saber ocupar Scikit-learn es equivalente a saber hacer **Machine Learning con Python**.\n",
    "- Scikit-learn se apoya en una familia de librerías comunmente conocida como el **ambiente Pydata**."
   ],
   "metadata": {
    "slideshow": {
     "slide_type": "slide"
    }
   }
  },
  {
   "cell_type": "markdown",
   "source": [
    "Para hacer machine learning **de forma profesional** es importante:\n",
    "\n",
    "- Contar con librerias:\n",
    "    - **cientificas** (numpy, scipy, statsmodel),\n",
    "    - **procesamiento de datos** (pandas, dask),  \n",
    "    - **machine learning** (scikit-learn, keras),\n",
    "    - **visualizacion de datos** (matplotlib, bokeh, seaborn).\n",
    "- Contar con ambientes limpios y separados, que se puedan construir rapidamente y de forma reproducible.\n",
    "- Trabajar en un IDE adaptado a workflows de machine Learning\n"
   ],
   "metadata": {
    "slideshow": {
     "slide_type": "slide"
    }
   }
  },
  {
   "cell_type": "markdown",
   "source": [
    "# Setup del curso\r\n",
    "\r\n",
    "En este curso utilizaremos Jupyter Notebooks y el stack Pydata, que incluye las librerías Numpy, Pandas, Matplotlib y Scikit-learn.\r\n",
    "\r\n",
    "En lo que sigue te presento 3 opciones para trabajar con estas tecnologías:\r\n",
    "\r\n",
    "* Trabajar en el cloud gracias a la excelente herramienta Google Colab.\r\n",
    "* Trabajar en local en tu computadora gracias a Anaconda.\r\n",
    "* Trabajar en tu computadora virtualizando a través de contenedores con Docker.\r\n",
    "\r\n",
    "Google Colab es la opción más fácil de usar, así que esta es la opción oficial recomendada por el curso.\r\n",
    "\r\n",
    "Solo lee las instrucciones para las otras opciones si por alguna razón en particular prefieres ocupar una de ellas (Anaconda permite que trabajes en local, y Docker es bueno para usos en producción)."
   ],
   "metadata": {}
  },
  {
   "cell_type": "markdown",
   "source": [
    "## Google Colab\r\n",
    "\r\n",
    "Google Colab es muy similar en su uso a Google Docs. Puedes ir directamente a su página https://colab.research.google.com/ o abrir Google Drive, clickear en el botón \"+ Nuevo\" y desde ahí elegir la opción \"Mas\" y clickear en Colaboratory \r\n",
    "\r\n",
    "Un solo punto adicional que queda por aclarar es que como estas trabajando en la nube no tienes directamente los archivos de la clase a mano para poder leerlos desde el notebook.\r\n",
    "\r\n",
    "Para poder acceder los archivos del curso puedes hacer lo siguiente:\r\n",
    "\r\n",
    "1. Encuentra el link hacia el archivo que quieres cargar en el repositorio de github https://github.com/JuanPabloMF/datasets-platzi-course\r\n",
    "2. Con el link del archivo csv puedes llamar la función de pandas read_csv de la siguiente manera:\r\n",
    "\r\n",
    "```python\r\n",
    "import pandas as pd\r\n",
    "pd.read_csv(url)\r\n",
    "\r\n",
    "pd.read_csv('https://github.com/JuanPabloMF/datasets-platzi-course/blob/master/datasets/peliculas.csv?raw=true')\r\n",
    "```\r\n",
    "    \r\n",
    "\r\n",
    "\r\n"
   ],
   "metadata": {}
  },
  {
   "cell_type": "markdown",
   "source": [
    "## Instalar Docker"
   ],
   "metadata": {}
  },
  {
   "cell_type": "markdown",
   "source": [
    "- __*Mac y Windows*__\n",
    "\n",
    "Para estos dos sistemas operativos basta con ir a https://www.docker.com/ y descargar desde la sección \"Get Docker\" el GUI installer apropiado para tu sistema operativo.\n"
   ],
   "metadata": {}
  },
  {
   "cell_type": "markdown",
   "source": [
    "- __*Ubuntu (arquitectura X_86_64)*__\n",
    "\n",
    "Copia y pega -una por una- estas lineas en tu terminal. \n",
    "```shell\n",
    "sudo apt-get remove docker docker-engine docker.io\n",
    "sudo apt-get update\n",
    "sudo apt-get install linux-image-extra-$(uname -r) linux-image-extra-virtual\n",
    "```\n",
    "\n",
    "```shell\n",
    "sudo apt-get install apt-transport-https ca-certificates curl software-properties-common\n",
    "curl -fsSL https://download.docker.com/linux/ubuntu/gpg | sudo apt-key add -\n",
    "sudo add-apt-repository \"deb [arch=amd64] https://download.docker.com/linux/ubuntu $(lsb_release -cs) stable\"\n",
    "```\n",
    "```shell\n",
    "sudo apt-get update\n",
    "sudo apt-get install docker-ce\n",
    "```"
   ],
   "metadata": {}
  },
  {
   "cell_type": "markdown",
   "source": [
    "Para confirmar que docker quedo bien instalado en tu computador corre el comando de test siguiente, que te deberian printear un hola mundo en tu consola:\n",
    "```shell\n",
    "sudo docker run hello-world\n",
    "```"
   ],
   "metadata": {}
  }
 ],
 "metadata": {
  "celltoolbar": "Slideshow",
  "kernelspec": {
   "display_name": "Python 3",
   "language": "python",
   "name": "python3"
  },
  "language_info": {
   "codemirror_mode": {
    "name": "ipython",
    "version": 3
   },
   "file_extension": ".py",
   "mimetype": "text/x-python",
   "name": "python",
   "nbconvert_exporter": "python",
   "pygments_lexer": "ipython3",
   "version": "3.6.0"
  },
  "latex_envs": {
   "LaTeX_envs_menu_present": true,
   "autocomplete": true,
   "bibliofile": "biblio.bib",
   "cite_by": "apalike",
   "current_citInitial": 1,
   "eqLabelWithNumbers": true,
   "eqNumInitial": 1,
   "hotkeys": {
    "equation": "Ctrl-E",
    "itemize": "Ctrl-I"
   },
   "labels_anchors": false,
   "latex_user_defs": false,
   "report_style_numbering": false,
   "user_envs_cfg": false
  }
 },
 "nbformat": 4,
 "nbformat_minor": 2
}