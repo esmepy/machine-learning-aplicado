{
 "cells": [
  {
   "cell_type": "markdown",
   "source": [
    "## El ciclo de trabajo del Machine Learning"
   ],
   "metadata": {}
  },
  {
   "cell_type": "markdown",
   "source": [
    "**Notas**\r\n",
    "\r\n",
    "La navaja de Ockham o Principio de Parsimonia: La solución más simple casi siempre es la mejor.\r\n",
    "\r\n",
    "Y éste se demuestra con el principio de miníma acción.\r\n",
    "Consta de calcular el Lagrangiano (esto es restar la energía potencial a la energía cinética.\r\n",
    "El area bajo la curva del Lagrangiano nos representa la “acción” que describe algún fenomeno físico.\r\n",
    "Y de todas las maneras en las que podamos describir ese fenomeno (o su acción), siempre ocurrirra la del Lagrangiano más pequeño.\r\n",
    "Por eso se llama el principio de mínima acción. Al parecer éste principio esta presente en todo.\r\n",
    "\r\n",
    "* `scikit-learn.preprocesing` = ayuda en feature engineering\r\n",
    "* `scikit-learn.linealmodels` = ayuda en los modelos\r\n",
    "* `scikit-learn.modelselection` = ayuda en la evaluacion"
   ],
   "metadata": {}
  },
  {
   "cell_type": "markdown",
   "source": [
    "La navaja de Ockham (a veces escrito Occam u Ockam), principio de economía o principio de parsimonia (lex parsimoniae) es un principio metodológico y filosófico atribuido al fraile franciscano, filósofo y lógico escolástico Guillermo de Ockham (1280-1349), según el cual: En igualdad de condiciones, la explicación más sencilla suele ser la más probable. Esto implica que, cuando dos teorías en igualdad de condiciones tienen las mismas consecuencias, la teoría más simple tiene más probabilidades de ser correcta que la compleja"
   ],
   "metadata": {}
  },
  {
   "cell_type": "markdown",
   "source": [
    "Ciclo\r\n",
    "\r\n",
    "<img src=\"img/Ciclo-ML.jpg\" width=\"500\" style=\"margin:0 auto;clear:both\">\r\n",
    "\r\n",
    "<img src=\"img/machine_learning_engineering.png\" width=\"700\" style=\"margin:0 auto;clear:both\">"
   ],
   "metadata": {}
  },
  {
   "cell_type": "markdown",
   "source": [],
   "metadata": {}
  }
 ],
 "metadata": {
  "celltoolbar": "Slideshow",
  "kernelspec": {
   "display_name": "Python 3",
   "language": "python",
   "name": "python3"
  },
  "language_info": {
   "codemirror_mode": {
    "name": "ipython",
    "version": 3
   },
   "file_extension": ".py",
   "mimetype": "text/x-python",
   "name": "python",
   "nbconvert_exporter": "python",
   "pygments_lexer": "ipython3",
   "version": "3.5.2"
  }
 },
 "nbformat": 4,
 "nbformat_minor": 2
}