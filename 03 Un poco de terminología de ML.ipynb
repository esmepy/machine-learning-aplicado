{
 "cells": [
  {
   "cell_type": "markdown",
   "source": [
    "## Un poco de terminología de ML\n"
   ],
   "metadata": {
    "slideshow": {
     "slide_type": "slide"
    }
   }
  },
  {
   "cell_type": "markdown",
   "source": [
    "<img src=\"img/x_y.png\" width=\"600\" style=\"margin:0 auto;clear:both\">\r\n",
    "\r\n",
    "$$Linea = Ejemplo$$\r\n",
    "$$Columna = Feature$$\r\n",
    "$$ Cantidad\\ de\\ columnas = Dimension\\ de\\ los\\ datos $$\r\n",
    "$$ Output\\ de\\ un\\ algoritmo\\ de\\ ML = Modelo $$\r\n",
    "$$ Variable\\ objetivo\\ = Target $$"
   ],
   "metadata": {
    "slideshow": {
     "slide_type": "slide"
    }
   }
  }
 ],
 "metadata": {
  "kernelspec": {
   "display_name": "Python 3",
   "language": "python",
   "name": "python3"
  },
  "language_info": {
   "codemirror_mode": {
    "name": "ipython",
    "version": 3
   },
   "file_extension": ".py",
   "mimetype": "text/x-python",
   "name": "python",
   "nbconvert_exporter": "python",
   "pygments_lexer": "ipython3",
   "version": "3.6.0"
  },
  "latex_envs": {
   "LaTeX_envs_menu_present": true,
   "autocomplete": true,
   "bibliofile": "biblio.bib",
   "cite_by": "apalike",
   "current_citInitial": 1,
   "eqLabelWithNumbers": true,
   "eqNumInitial": 1,
   "hotkeys": {
    "equation": "Ctrl-E",
    "itemize": "Ctrl-I"
   },
   "labels_anchors": false,
   "latex_user_defs": false,
   "report_style_numbering": false,
   "user_envs_cfg": false
  }
 },
 "nbformat": 4,
 "nbformat_minor": 2
}